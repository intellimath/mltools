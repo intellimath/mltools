{
 "cells": [
  {
   "cell_type": "code",
   "execution_count": 1,
   "id": "1d24f0d5-2e0d-4f86-b28f-ac8de55e0409",
   "metadata": {
    "execution": {
     "iopub.execute_input": "2024-11-19T07:26:32.440329Z",
     "iopub.status.busy": "2024-11-19T07:26:32.439828Z",
     "iopub.status.idle": "2024-11-19T07:26:33.741615Z",
     "shell.execute_reply": "2024-11-19T07:26:33.740686Z",
     "shell.execute_reply.started": "2024-11-19T07:26:32.440288Z"
    }
   },
   "outputs": [],
   "source": [
    "import numpy as np\n",
    "import matplotlib.pyplot as plt\n",
    "import mltools.funcs as funcs\n",
    "import mltools.pca as pca\n",
    "import mltools.location_scatter as location\n",
    "import mltools.plots as plots\n",
    "import sklearn.datasets as datasets\n",
    "import sklearn.preprocessing as preprocessing"
   ]
  },
  {
   "cell_type": "code",
   "execution_count": 2,
   "id": "748d0c85-791a-44ce-a584-8cabbaacef8f",
   "metadata": {
    "execution": {
     "iopub.execute_input": "2024-11-19T07:26:33.743868Z",
     "iopub.status.busy": "2024-11-19T07:26:33.743316Z",
     "iopub.status.idle": "2024-11-19T07:26:33.772359Z",
     "shell.execute_reply": "2024-11-19T07:26:33.768861Z",
     "shell.execute_reply.started": "2024-11-19T07:26:33.743822Z"
    }
   },
   "outputs": [
    {
     "name": "stdout",
     "output_type": "stream",
     "text": [
      "(178, 13)\n"
     ]
    }
   ],
   "source": [
    "X, Y = datasets.load_wine(return_X_y=True)\n",
    "print(X.shape)"
   ]
  },
  {
   "cell_type": "code",
   "execution_count": 3,
   "id": "1c1fe0e4-a416-4825-aba0-7c9e8540de1e",
   "metadata": {
    "execution": {
     "iopub.execute_input": "2024-11-19T07:26:36.641921Z",
     "iopub.status.busy": "2024-11-19T07:26:36.640430Z",
     "iopub.status.idle": "2024-11-19T07:26:36.656650Z",
     "shell.execute_reply": "2024-11-19T07:26:36.655246Z",
     "shell.execute_reply.started": "2024-11-19T07:26:36.641793Z"
    }
   },
   "outputs": [
    {
     "name": "stdout",
     "output_type": "stream",
     "text": [
      "[[1.423e+01 1.710e+00 2.430e+00 ... 1.040e+00 3.920e+00 1.065e+03]\n",
      " [1.320e+01 1.780e+00 2.140e+00 ... 1.050e+00 3.400e+00 1.050e+03]\n",
      " [1.316e+01 2.360e+00 2.670e+00 ... 1.030e+00 3.170e+00 1.185e+03]\n",
      " ...\n",
      " [1.327e+01 4.280e+00 2.260e+00 ... 5.900e-01 1.560e+00 8.350e+02]\n",
      " [1.317e+01 2.590e+00 2.370e+00 ... 6.000e-01 1.620e+00 8.400e+02]\n",
      " [1.413e+01 4.100e+00 2.740e+00 ... 6.100e-01 1.600e+00 5.600e+02]]\n"
     ]
    }
   ],
   "source": [
    "print(X)"
   ]
  },
  {
   "cell_type": "code",
   "execution_count": 4,
   "id": "05a47732-add8-436c-a050-5afff647fc56",
   "metadata": {
    "execution": {
     "iopub.execute_input": "2024-11-19T07:26:43.132971Z",
     "iopub.status.busy": "2024-11-19T07:26:43.130123Z",
     "iopub.status.idle": "2024-11-19T07:26:43.149607Z",
     "shell.execute_reply": "2024-11-19T07:26:43.148556Z",
     "shell.execute_reply.started": "2024-11-19T07:26:43.132848Z"
    }
   },
   "outputs": [],
   "source": [
    "X = preprocessing.scale(X)"
   ]
  },
  {
   "cell_type": "code",
   "execution_count": 5,
   "id": "4b33a75c-562b-43c9-8a6f-3c8fb147f2fe",
   "metadata": {
    "execution": {
     "iopub.execute_input": "2024-11-19T07:26:45.298990Z",
     "iopub.status.busy": "2024-11-19T07:26:45.297623Z",
     "iopub.status.idle": "2024-11-19T07:26:45.314242Z",
     "shell.execute_reply": "2024-11-19T07:26:45.311721Z",
     "shell.execute_reply.started": "2024-11-19T07:26:45.298854Z"
    }
   },
   "outputs": [
    {
     "name": "stdout",
     "output_type": "stream",
     "text": [
      "[[ 1.519 -0.562  0.232 ...  0.362  1.848  1.013]\n",
      " [ 0.246 -0.499 -0.828 ...  0.406  1.113  0.965]\n",
      " [ 0.197  0.021  1.109 ...  0.318  0.789  1.395]\n",
      " ...\n",
      " [ 0.333  1.745 -0.389 ... -1.612 -1.485  0.281]\n",
      " [ 0.209  0.228  0.013 ... -1.568 -1.401  0.296]\n",
      " [ 1.395  1.583  1.365 ... -1.524 -1.429 -0.595]]\n"
     ]
    }
   ],
   "source": [
    "print(X)"
   ]
  },
  {
   "cell_type": "code",
   "execution_count": 6,
   "id": "be9e405b-f02d-4439-a8e7-92a28b4bd320",
   "metadata": {
    "execution": {
     "iopub.execute_input": "2024-11-19T07:27:19.995286Z",
     "iopub.status.busy": "2024-11-19T07:27:19.993693Z",
     "iopub.status.idle": "2024-11-19T07:27:20.005483Z",
     "shell.execute_reply": "2024-11-19T07:27:20.004361Z",
     "shell.execute_reply.started": "2024-11-19T07:27:19.995210Z"
    }
   },
   "outputs": [
    {
     "name": "stdout",
     "output_type": "stream",
     "text": [
      "[0 0 0 0 0 0 0 0 0 0 0 0 0 0 0 0 0 0 0 0 0 0 0 0 0 0 0 0 0 0 0 0 0 0 0 0 0\n",
      " 0 0 0 0 0 0 0 0 0 0 0 0 0 0 0 0 0 0 0 0 0 0 1 1 1 1 1 1 1 1 1 1 1 1 1 1 1\n",
      " 1 1 1 1 1 1 1 1 1 1 1 1 1 1 1 1 1 1 1 1 1 1 1 1 1 1 1 1 1 1 1 1 1 1 1 1 1\n",
      " 1 1 1 1 1 1 1 1 1 1 1 1 1 1 1 1 1 1 1 2 2 2 2 2 2 2 2 2 2 2 2 2 2 2 2 2 2\n",
      " 2 2 2 2 2 2 2 2 2 2 2 2 2 2 2 2 2 2 2 2 2 2 2 2 2 2 2 2 2 2]\n"
     ]
    }
   ],
   "source": [
    "print(Y)"
   ]
  },
  {
   "cell_type": "code",
   "execution_count": null,
   "id": "fbf490b8-0959-46a1-b595-bcbc7fedc704",
   "metadata": {},
   "outputs": [],
   "source": []
  }
 ],
 "metadata": {
  "kernelspec": {
   "display_name": "Python 3 (ipykernel)",
   "language": "python",
   "name": "python3"
  },
  "language_info": {
   "codemirror_mode": {
    "name": "ipython",
    "version": 3
   },
   "file_extension": ".py",
   "mimetype": "text/x-python",
   "name": "python",
   "nbconvert_exporter": "python",
   "pygments_lexer": "ipython3",
   "version": "3.12.7"
  }
 },
 "nbformat": 4,
 "nbformat_minor": 5
}
