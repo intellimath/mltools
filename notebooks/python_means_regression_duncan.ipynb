{
 "cells": [
  {
   "cell_type": "code",
   "execution_count": 1,
   "id": "ff1a9a87-75ee-4f8a-8aba-bade3f9a1e83",
   "metadata": {},
   "outputs": [],
   "source": [
    "import python_inventory as pyinv"
   ]
  },
  {
   "cell_type": "code",
   "execution_count": 2,
   "id": "ac72060c-4a74-40e7-9bcf-c5529f9206d2",
   "metadata": {},
   "outputs": [],
   "source": [
    "import pandas as pd"
   ]
  },
  {
   "cell_type": "code",
   "execution_count": 3,
   "id": "a6d55257-81ab-4976-a472-73cd911b8ec0",
   "metadata": {},
   "outputs": [
    {
     "data": {
      "text/html": [
       "<div>\n",
       "<style scoped>\n",
       "    .dataframe tbody tr th:only-of-type {\n",
       "        vertical-align: middle;\n",
       "    }\n",
       "\n",
       "    .dataframe tbody tr th {\n",
       "        vertical-align: top;\n",
       "    }\n",
       "\n",
       "    .dataframe thead th {\n",
       "        text-align: right;\n",
       "    }\n",
       "</style>\n",
       "<table border=\"1\" class=\"dataframe\">\n",
       "  <thead>\n",
       "    <tr style=\"text-align: right;\">\n",
       "      <th></th>\n",
       "      <th>name</th>\n",
       "      <th>type</th>\n",
       "      <th>income</th>\n",
       "      <th>education</th>\n",
       "      <th>prestige</th>\n",
       "    </tr>\n",
       "  </thead>\n",
       "  <tbody>\n",
       "    <tr>\n",
       "      <th>0</th>\n",
       "      <td>accountant</td>\n",
       "      <td>prof</td>\n",
       "      <td>62</td>\n",
       "      <td>86</td>\n",
       "      <td>82</td>\n",
       "    </tr>\n",
       "    <tr>\n",
       "      <th>1</th>\n",
       "      <td>pilot</td>\n",
       "      <td>prof</td>\n",
       "      <td>72</td>\n",
       "      <td>76</td>\n",
       "      <td>83</td>\n",
       "    </tr>\n",
       "    <tr>\n",
       "      <th>2</th>\n",
       "      <td>architect</td>\n",
       "      <td>prof</td>\n",
       "      <td>75</td>\n",
       "      <td>92</td>\n",
       "      <td>90</td>\n",
       "    </tr>\n",
       "    <tr>\n",
       "      <th>3</th>\n",
       "      <td>author</td>\n",
       "      <td>prof</td>\n",
       "      <td>55</td>\n",
       "      <td>90</td>\n",
       "      <td>76</td>\n",
       "    </tr>\n",
       "    <tr>\n",
       "      <th>4</th>\n",
       "      <td>chemist</td>\n",
       "      <td>prof</td>\n",
       "      <td>64</td>\n",
       "      <td>86</td>\n",
       "      <td>90</td>\n",
       "    </tr>\n",
       "    <tr>\n",
       "      <th>5</th>\n",
       "      <td>minister</td>\n",
       "      <td>prof</td>\n",
       "      <td>21</td>\n",
       "      <td>84</td>\n",
       "      <td>87</td>\n",
       "    </tr>\n",
       "    <tr>\n",
       "      <th>6</th>\n",
       "      <td>professor</td>\n",
       "      <td>prof</td>\n",
       "      <td>64</td>\n",
       "      <td>93</td>\n",
       "      <td>93</td>\n",
       "    </tr>\n",
       "    <tr>\n",
       "      <th>7</th>\n",
       "      <td>dentist</td>\n",
       "      <td>prof</td>\n",
       "      <td>80</td>\n",
       "      <td>100</td>\n",
       "      <td>90</td>\n",
       "    </tr>\n",
       "    <tr>\n",
       "      <th>8</th>\n",
       "      <td>reporter</td>\n",
       "      <td>wc</td>\n",
       "      <td>67</td>\n",
       "      <td>87</td>\n",
       "      <td>52</td>\n",
       "    </tr>\n",
       "    <tr>\n",
       "      <th>9</th>\n",
       "      <td>engineer</td>\n",
       "      <td>prof</td>\n",
       "      <td>72</td>\n",
       "      <td>86</td>\n",
       "      <td>88</td>\n",
       "    </tr>\n",
       "    <tr>\n",
       "      <th>10</th>\n",
       "      <td>undertaker</td>\n",
       "      <td>prof</td>\n",
       "      <td>42</td>\n",
       "      <td>74</td>\n",
       "      <td>57</td>\n",
       "    </tr>\n",
       "    <tr>\n",
       "      <th>11</th>\n",
       "      <td>lawyer</td>\n",
       "      <td>prof</td>\n",
       "      <td>76</td>\n",
       "      <td>98</td>\n",
       "      <td>89</td>\n",
       "    </tr>\n",
       "    <tr>\n",
       "      <th>12</th>\n",
       "      <td>physician</td>\n",
       "      <td>prof</td>\n",
       "      <td>76</td>\n",
       "      <td>97</td>\n",
       "      <td>97</td>\n",
       "    </tr>\n",
       "    <tr>\n",
       "      <th>13</th>\n",
       "      <td>welfare.worker</td>\n",
       "      <td>prof</td>\n",
       "      <td>41</td>\n",
       "      <td>84</td>\n",
       "      <td>59</td>\n",
       "    </tr>\n",
       "    <tr>\n",
       "      <th>14</th>\n",
       "      <td>teacher</td>\n",
       "      <td>prof</td>\n",
       "      <td>48</td>\n",
       "      <td>91</td>\n",
       "      <td>73</td>\n",
       "    </tr>\n",
       "    <tr>\n",
       "      <th>15</th>\n",
       "      <td>conductor</td>\n",
       "      <td>wc</td>\n",
       "      <td>76</td>\n",
       "      <td>34</td>\n",
       "      <td>38</td>\n",
       "    </tr>\n",
       "    <tr>\n",
       "      <th>16</th>\n",
       "      <td>contractor</td>\n",
       "      <td>prof</td>\n",
       "      <td>53</td>\n",
       "      <td>45</td>\n",
       "      <td>76</td>\n",
       "    </tr>\n",
       "    <tr>\n",
       "      <th>17</th>\n",
       "      <td>factory.owner</td>\n",
       "      <td>prof</td>\n",
       "      <td>60</td>\n",
       "      <td>56</td>\n",
       "      <td>81</td>\n",
       "    </tr>\n",
       "    <tr>\n",
       "      <th>18</th>\n",
       "      <td>store.manager</td>\n",
       "      <td>prof</td>\n",
       "      <td>42</td>\n",
       "      <td>44</td>\n",
       "      <td>45</td>\n",
       "    </tr>\n",
       "    <tr>\n",
       "      <th>19</th>\n",
       "      <td>banker</td>\n",
       "      <td>prof</td>\n",
       "      <td>78</td>\n",
       "      <td>82</td>\n",
       "      <td>92</td>\n",
       "    </tr>\n",
       "    <tr>\n",
       "      <th>20</th>\n",
       "      <td>bookkeeper</td>\n",
       "      <td>wc</td>\n",
       "      <td>29</td>\n",
       "      <td>72</td>\n",
       "      <td>39</td>\n",
       "    </tr>\n",
       "    <tr>\n",
       "      <th>21</th>\n",
       "      <td>mail.carrier</td>\n",
       "      <td>wc</td>\n",
       "      <td>48</td>\n",
       "      <td>55</td>\n",
       "      <td>34</td>\n",
       "    </tr>\n",
       "    <tr>\n",
       "      <th>22</th>\n",
       "      <td>insurance.agent</td>\n",
       "      <td>wc</td>\n",
       "      <td>55</td>\n",
       "      <td>71</td>\n",
       "      <td>41</td>\n",
       "    </tr>\n",
       "    <tr>\n",
       "      <th>23</th>\n",
       "      <td>store.clerk</td>\n",
       "      <td>wc</td>\n",
       "      <td>29</td>\n",
       "      <td>50</td>\n",
       "      <td>16</td>\n",
       "    </tr>\n",
       "    <tr>\n",
       "      <th>24</th>\n",
       "      <td>carpenter</td>\n",
       "      <td>bc</td>\n",
       "      <td>21</td>\n",
       "      <td>23</td>\n",
       "      <td>33</td>\n",
       "    </tr>\n",
       "    <tr>\n",
       "      <th>25</th>\n",
       "      <td>electrician</td>\n",
       "      <td>bc</td>\n",
       "      <td>47</td>\n",
       "      <td>39</td>\n",
       "      <td>53</td>\n",
       "    </tr>\n",
       "    <tr>\n",
       "      <th>26</th>\n",
       "      <td>RR.engineer</td>\n",
       "      <td>bc</td>\n",
       "      <td>81</td>\n",
       "      <td>28</td>\n",
       "      <td>67</td>\n",
       "    </tr>\n",
       "    <tr>\n",
       "      <th>27</th>\n",
       "      <td>machinist</td>\n",
       "      <td>bc</td>\n",
       "      <td>36</td>\n",
       "      <td>32</td>\n",
       "      <td>57</td>\n",
       "    </tr>\n",
       "    <tr>\n",
       "      <th>28</th>\n",
       "      <td>auto.repairman</td>\n",
       "      <td>bc</td>\n",
       "      <td>22</td>\n",
       "      <td>22</td>\n",
       "      <td>26</td>\n",
       "    </tr>\n",
       "    <tr>\n",
       "      <th>29</th>\n",
       "      <td>plumber</td>\n",
       "      <td>bc</td>\n",
       "      <td>44</td>\n",
       "      <td>25</td>\n",
       "      <td>29</td>\n",
       "    </tr>\n",
       "    <tr>\n",
       "      <th>30</th>\n",
       "      <td>gas.stn.attendant</td>\n",
       "      <td>bc</td>\n",
       "      <td>15</td>\n",
       "      <td>29</td>\n",
       "      <td>10</td>\n",
       "    </tr>\n",
       "    <tr>\n",
       "      <th>31</th>\n",
       "      <td>coal.miner</td>\n",
       "      <td>bc</td>\n",
       "      <td>7</td>\n",
       "      <td>7</td>\n",
       "      <td>15</td>\n",
       "    </tr>\n",
       "    <tr>\n",
       "      <th>32</th>\n",
       "      <td>streetcar.motorman</td>\n",
       "      <td>bc</td>\n",
       "      <td>42</td>\n",
       "      <td>26</td>\n",
       "      <td>19</td>\n",
       "    </tr>\n",
       "    <tr>\n",
       "      <th>33</th>\n",
       "      <td>taxi.driver</td>\n",
       "      <td>bc</td>\n",
       "      <td>9</td>\n",
       "      <td>19</td>\n",
       "      <td>10</td>\n",
       "    </tr>\n",
       "    <tr>\n",
       "      <th>34</th>\n",
       "      <td>truck.driver</td>\n",
       "      <td>bc</td>\n",
       "      <td>21</td>\n",
       "      <td>15</td>\n",
       "      <td>13</td>\n",
       "    </tr>\n",
       "    <tr>\n",
       "      <th>35</th>\n",
       "      <td>machine.operator</td>\n",
       "      <td>bc</td>\n",
       "      <td>21</td>\n",
       "      <td>20</td>\n",
       "      <td>24</td>\n",
       "    </tr>\n",
       "    <tr>\n",
       "      <th>36</th>\n",
       "      <td>barber</td>\n",
       "      <td>bc</td>\n",
       "      <td>16</td>\n",
       "      <td>26</td>\n",
       "      <td>20</td>\n",
       "    </tr>\n",
       "    <tr>\n",
       "      <th>37</th>\n",
       "      <td>bartender</td>\n",
       "      <td>bc</td>\n",
       "      <td>16</td>\n",
       "      <td>28</td>\n",
       "      <td>7</td>\n",
       "    </tr>\n",
       "    <tr>\n",
       "      <th>38</th>\n",
       "      <td>shoe.shiner</td>\n",
       "      <td>bc</td>\n",
       "      <td>9</td>\n",
       "      <td>17</td>\n",
       "      <td>3</td>\n",
       "    </tr>\n",
       "    <tr>\n",
       "      <th>39</th>\n",
       "      <td>cook</td>\n",
       "      <td>bc</td>\n",
       "      <td>14</td>\n",
       "      <td>22</td>\n",
       "      <td>16</td>\n",
       "    </tr>\n",
       "    <tr>\n",
       "      <th>40</th>\n",
       "      <td>soda.clerk</td>\n",
       "      <td>bc</td>\n",
       "      <td>12</td>\n",
       "      <td>30</td>\n",
       "      <td>6</td>\n",
       "    </tr>\n",
       "    <tr>\n",
       "      <th>41</th>\n",
       "      <td>watchman</td>\n",
       "      <td>bc</td>\n",
       "      <td>17</td>\n",
       "      <td>25</td>\n",
       "      <td>11</td>\n",
       "    </tr>\n",
       "    <tr>\n",
       "      <th>42</th>\n",
       "      <td>janitor</td>\n",
       "      <td>bc</td>\n",
       "      <td>7</td>\n",
       "      <td>20</td>\n",
       "      <td>8</td>\n",
       "    </tr>\n",
       "    <tr>\n",
       "      <th>43</th>\n",
       "      <td>policeman</td>\n",
       "      <td>bc</td>\n",
       "      <td>34</td>\n",
       "      <td>47</td>\n",
       "      <td>41</td>\n",
       "    </tr>\n",
       "    <tr>\n",
       "      <th>44</th>\n",
       "      <td>waiter</td>\n",
       "      <td>bc</td>\n",
       "      <td>8</td>\n",
       "      <td>32</td>\n",
       "      <td>10</td>\n",
       "    </tr>\n",
       "  </tbody>\n",
       "</table>\n",
       "</div>"
      ],
      "text/plain": [
       "                  name  type  income  education  prestige\n",
       "0           accountant  prof      62         86        82\n",
       "1                pilot  prof      72         76        83\n",
       "2            architect  prof      75         92        90\n",
       "3               author  prof      55         90        76\n",
       "4              chemist  prof      64         86        90\n",
       "5             minister  prof      21         84        87\n",
       "6            professor  prof      64         93        93\n",
       "7              dentist  prof      80        100        90\n",
       "8             reporter    wc      67         87        52\n",
       "9             engineer  prof      72         86        88\n",
       "10          undertaker  prof      42         74        57\n",
       "11              lawyer  prof      76         98        89\n",
       "12           physician  prof      76         97        97\n",
       "13      welfare.worker  prof      41         84        59\n",
       "14             teacher  prof      48         91        73\n",
       "15           conductor    wc      76         34        38\n",
       "16          contractor  prof      53         45        76\n",
       "17       factory.owner  prof      60         56        81\n",
       "18       store.manager  prof      42         44        45\n",
       "19              banker  prof      78         82        92\n",
       "20          bookkeeper    wc      29         72        39\n",
       "21        mail.carrier    wc      48         55        34\n",
       "22     insurance.agent    wc      55         71        41\n",
       "23         store.clerk    wc      29         50        16\n",
       "24           carpenter    bc      21         23        33\n",
       "25         electrician    bc      47         39        53\n",
       "26         RR.engineer    bc      81         28        67\n",
       "27           machinist    bc      36         32        57\n",
       "28      auto.repairman    bc      22         22        26\n",
       "29             plumber    bc      44         25        29\n",
       "30   gas.stn.attendant    bc      15         29        10\n",
       "31          coal.miner    bc       7          7        15\n",
       "32  streetcar.motorman    bc      42         26        19\n",
       "33         taxi.driver    bc       9         19        10\n",
       "34        truck.driver    bc      21         15        13\n",
       "35    machine.operator    bc      21         20        24\n",
       "36              barber    bc      16         26        20\n",
       "37           bartender    bc      16         28         7\n",
       "38         shoe.shiner    bc       9         17         3\n",
       "39                cook    bc      14         22        16\n",
       "40          soda.clerk    bc      12         30         6\n",
       "41            watchman    bc      17         25        11\n",
       "42             janitor    bc       7         20         8\n",
       "43           policeman    bc      34         47        41\n",
       "44              waiter    bc       8         32        10"
      ]
     },
     "execution_count": 3,
     "metadata": {},
     "output_type": "execute_result"
    }
   ],
   "source": [
    "df = pd.read_csv(\"data/Duncan.csv\")\n",
    "df"
   ]
  },
  {
   "cell_type": "code",
   "execution_count": 4,
   "id": "eb1206f4-2414-4788-95ee-5674385ed2ad",
   "metadata": {},
   "outputs": [],
   "source": [
    "def name2id(name):\n",
    "    if name == 'bc':\n",
    "        return 1\n",
    "    if name == 'wc':\n",
    "        return 2\n",
    "    else:\n",
    "        return 3\n",
    "    \n",
    "df['profid'] = df['type'].apply(name2id)"
   ]
  },
  {
   "cell_type": "code",
   "execution_count": 5,
   "id": "d37ad60b-8629-466a-acaf-1f3195ffda43",
   "metadata": {},
   "outputs": [],
   "source": [
    "income = df['income'].values\n",
    "education = df['education'].values\n",
    "prestige = df['prestige'].values\n",
    "profid = df['profid'].values"
   ]
  },
  {
   "cell_type": "code",
   "execution_count": 6,
   "id": "f4150e71-307e-42ee-ab91-17e8c9e53314",
   "metadata": {},
   "outputs": [],
   "source": [
    "import matplotlib.pyplot as plt"
   ]
  },
  {
   "cell_type": "code",
   "execution_count": 7,
   "id": "31691075-0032-4855-bc5a-dac5d02cfa0a",
   "metadata": {},
   "outputs": [
    {
     "data": {
      "image/png": "[encoded data removed]",
      "text/plain": [
       "<Figure size 576x576 with 2 Axes>"
      ]
     },
     "metadata": {
      "needs_background": "light"
     },
     "output_type": "display_data"
    }
   ],
   "source": [
    "plt.figure(figsize=(8,8))\n",
    "sc = plt.scatter(income, prestige, c=profid)\n",
    "plt.xlabel('income')\n",
    "plt.ylabel('prestige')\n",
    "plt.plot([10,80], [2, 62])\n",
    "plt.plot([10,80], [12, 95])\n",
    "plt.minorticks_on()\n",
    "plt.colorbar(sc)\n",
    "plt.show()"
   ]
  },
  {
   "cell_type": "code",
   "execution_count": 8,
   "id": "00d06ebe-0106-4068-be97-507c4c9d2798",
   "metadata": {},
   "outputs": [],
   "source": [
    "import numpy as np"
   ]
  },
  {
   "cell_type": "code",
   "execution_count": 9,
   "id": "69e8f178-2d9f-4dd0-a5dc-e56e51ca1926",
   "metadata": {},
   "outputs": [],
   "source": [
    "X = income\n",
    "Xs = income.reshape(-1,1)\n",
    "Y = prestige"
   ]
  },
  {
   "cell_type": "code",
   "execution_count": 10,
   "id": "2a113215-8600-48a5-b060-ecbd295839c9",
   "metadata": {},
   "outputs": [],
   "source": [
    "mod1 = pyinv.LinearModel(1)\n",
    "mod2 = pyinv.LinearModel(1)\n",
    "\n",
    "modlayer = pyinv.FuncLayer([mod1, mod2])\n",
    "modlayer.init_param()"
   ]
  },
  {
   "cell_type": "code",
   "execution_count": 11,
   "id": "69b74ad2-cbae-4354-bf61-6dffe0f7ef32",
   "metadata": {},
   "outputs": [],
   "source": [
    "loss_func = pyinv.SoftMinimalLoss(pyinv.ErrorLoss(pyinv.SoftAbs(0.001)))"
   ]
  },
  {
   "cell_type": "code",
   "execution_count": 12,
   "id": "d8187706-97d3-4c10-964a-646456ccbf95",
   "metadata": {},
   "outputs": [],
   "source": [
    "risk = pyinv.Risk2(modlayer, loss_func)"
   ]
  },
  {
   "cell_type": "code",
   "execution_count": 13,
   "id": "4ed1045e-0d2f-443b-af02-ac1ac989adea",
   "metadata": {},
   "outputs": [],
   "source": [
    "gd = pyinv.GradientDescent(risk, h=0.01)"
   ]
  },
  {
   "cell_type": "code",
   "execution_count": 14,
   "id": "1571730f-c3ac-4ca5-ba58-b47bf35ab16b",
   "metadata": {},
   "outputs": [
    {
     "name": "stdout",
     "output_type": "stream",
     "text": [
      "[-0.64635831  0.68543042] [0.03400811 1.25838283]\n"
     ]
    },
    {
     "data": {
      "image/png": "[encoded data removed]",
      "text/plain": [
       "<Figure size 432x288 with 1 Axes>"
      ]
     },
     "metadata": {
      "needs_background": "light"
     },
     "output_type": "display_data"
    }
   ],
   "source": [
    "gd.fit(Xs, Y)\n",
    "\n",
    "print(mod1.param, mod2.param)\n",
    "\n",
    "plt.plot(gd.rvals)\n",
    "plt.show()"
   ]
  },
  {
   "cell_type": "code",
   "execution_count": 15,
   "id": "344eba9f-f0ae-4e58-85bd-ddf3cffd11eb",
   "metadata": {},
   "outputs": [
    {
     "data": {
      "image/png": "[encoded data removed]",
      "text/plain": [
       "<Figure size 576x576 with 2 Axes>"
      ]
     },
     "metadata": {
      "needs_background": "light"
     },
     "output_type": "display_data"
    }
   ],
   "source": [
    "plt.figure(figsize=(8,8))\n",
    "sc = plt.scatter(income, prestige, c=profid)\n",
    "plt.xlabel('income')\n",
    "plt.ylabel('prestige')\n",
    "xrange = np.array([10,80], 'd')\n",
    "xrange_s = xrange.reshape(-1,1)\n",
    "plt.plot(xrange, mod1.evaluate_all(xrange_s))\n",
    "plt.plot(xrange, mod2.evaluate_all(xrange_s))\n",
    "plt.minorticks_on()\n",
    "plt.colorbar(sc)\n",
    "plt.show()"
   ]
  },
  {
   "cell_type": "code",
   "execution_count": 16,
   "id": "07d2c5b5-0389-45ae-8577-0555283a7c2b",
   "metadata": {},
   "outputs": [],
   "source": [
    "mod1_1 = pyinv.LinearModel(1)\n",
    "mod1_2 = pyinv.LinearModel(1)\n",
    "\n",
    "modlayer_1 = pyinv.FuncLayer([mod1_1, mod1_2])\n",
    "modlayer_1.init_param()"
   ]
  },
  {
   "cell_type": "code",
   "execution_count": 17,
   "id": "c3196c56-803b-47c3-96c5-3841fc4e7ba2",
   "metadata": {},
   "outputs": [],
   "source": [
    "agg_func = pyinv.WMMean(pyinv.SoftQuantileFunc(pyinv.SoftAbs(0.001), 0.95))"
   ]
  },
  {
   "cell_type": "code",
   "execution_count": 18,
   "id": "8efbbaf6-6663-4dbc-89a5-fde0d9716456",
   "metadata": {},
   "outputs": [],
   "source": [
    "loss_func = pyinv.SoftMinimalLoss(pyinv.ErrorLoss(pyinv.SoftAbs(0.001)))"
   ]
  },
  {
   "cell_type": "code",
   "execution_count": 19,
   "id": "f2de1462-f46a-4d77-99b8-af9d109ad68d",
   "metadata": {},
   "outputs": [],
   "source": [
    "risk_1 = pyinv.Risk2(modlayer_1, loss_func, agg=agg_func)"
   ]
  },
  {
   "cell_type": "code",
   "execution_count": 20,
   "id": "a78dd3f7-bb99-49ca-8ac1-67d73b86108d",
   "metadata": {},
   "outputs": [],
   "source": [
    "gd_1 = pyinv.GradientDescent(risk_1, h=0.01)"
   ]
  },
  {
   "cell_type": "code",
   "execution_count": 21,
   "id": "d40847ad-8f55-41e9-80e4-d4aea9bb8364",
   "metadata": {},
   "outputs": [
    {
     "name": "stdout",
     "output_type": "stream",
     "text": [
      "[0.24239535 1.23639418] [-0.73519704  0.73084352]\n"
     ]
    },
    {
     "data": {
      "image/png": "[encoded data removed]",
      "text/plain": [
       "<Figure size 432x288 with 1 Axes>"
      ]
     },
     "metadata": {
      "needs_background": "light"
     },
     "output_type": "display_data"
    }
   ],
   "source": [
    "gd_1.fit(Xs, Y)\n",
    "\n",
    "print(mod1_1.param, mod1_2.param)\n",
    "\n",
    "plt.plot(gd_1.rvals)\n",
    "plt.show()"
   ]
  },
  {
   "cell_type": "code",
   "execution_count": 22,
   "id": "e0c5da99-5da9-4986-8157-04b2627f0ea0",
   "metadata": {},
   "outputs": [
    {
     "data": {
      "image/png": "[encoded data removed]",
      "text/plain": [
       "<Figure size 576x432 with 1 Axes>"
      ]
     },
     "metadata": {
      "needs_background": "light"
     },
     "output_type": "display_data"
    }
   ],
   "source": [
    "plt.figure(figsize=(8,6))\n",
    "plt.scatter(income, prestige)\n",
    "plt.xlabel('income')\n",
    "plt.ylabel('prestige')\n",
    "plt.plot(xrange, mod1.evaluate_all(xrange_s), label='AM:1')\n",
    "plt.plot(xrange, mod2.evaluate_all(xrange_s), label='AM:2')\n",
    "plt.plot(xrange, mod1_1.evaluate_all(xrange_s), label='WM:1')\n",
    "plt.plot(xrange, mod1_2.evaluate_all(xrange_s), label='WM:2')\n",
    "plt.legend()\n",
    "plt.minorticks_on()\n",
    "plt.show()"
   ]
  },
  {
   "cell_type": "code",
   "execution_count": null,
   "id": "526739cb-6547-412d-adc7-e39df400a3db",
   "metadata": {},
   "outputs": [],
   "source": []
  }
 ],
 "metadata": {
  "kernelspec": {
   "display_name": "Python 3 (ipykernel)",
   "language": "python",
   "name": "python3"
  },
  "language_info": {
   "codemirror_mode": {
    "name": "ipython",
    "version": 3
   },
   "file_extension": ".py",
   "mimetype": "text/x-python",
   "name": "python",
   "nbconvert_exporter": "python",
   "pygments_lexer": "ipython3",
   "version": "3.9.12"
  }
 },
 "nbformat": 4,
 "nbformat_minor": 5
}
