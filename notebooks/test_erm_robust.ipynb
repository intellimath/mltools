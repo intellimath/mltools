{
 "cells": [
  {
   "cell_type": "code",
   "execution_count": 1,
   "id": "2a41f64c-1e88-474d-9969-075515b37c5b",
   "metadata": {},
   "outputs": [],
   "source": [
    "import python_inventory as pyinv"
   ]
  },
  {
   "cell_type": "code",
   "execution_count": 2,
   "id": "0587579d-6ddb-4570-b9b4-b9893abe212b",
   "metadata": {},
   "outputs": [],
   "source": [
    "import numpy as np\n",
    "import matplotlib.pyplot as plt\n",
    "import pandas as pd"
   ]
  },
  {
   "cell_type": "code",
   "execution_count": 3,
   "id": "b412c517-bd96-4e6d-8a0d-f3a1c6f9fddf",
   "metadata": {},
   "outputs": [
    {
     "data": {
      "text/html": [
       "<div>\n",
       "<style scoped>\n",
       "    .dataframe tbody tr th:only-of-type {\n",
       "        vertical-align: middle;\n",
       "    }\n",
       "\n",
       "    .dataframe tbody tr th {\n",
       "        vertical-align: top;\n",
       "    }\n",
       "\n",
       "    .dataframe thead th {\n",
       "        text-align: right;\n",
       "    }\n",
       "</style>\n",
       "<table border=\"1\" class=\"dataframe\">\n",
       "  <thead>\n",
       "    <tr style=\"text-align: right;\">\n",
       "      <th></th>\n",
       "      <th>name</th>\n",
       "      <th>body</th>\n",
       "      <th>brain</th>\n",
       "    </tr>\n",
       "  </thead>\n",
       "  <tbody>\n",
       "    <tr>\n",
       "      <th>0</th>\n",
       "      <td>Mountain beaver</td>\n",
       "      <td>1.350</td>\n",
       "      <td>8.1</td>\n",
       "    </tr>\n",
       "    <tr>\n",
       "      <th>1</th>\n",
       "      <td>Cow</td>\n",
       "      <td>465.000</td>\n",
       "      <td>423.0</td>\n",
       "    </tr>\n",
       "    <tr>\n",
       "      <th>2</th>\n",
       "      <td>Grey wolf</td>\n",
       "      <td>36.330</td>\n",
       "      <td>119.5</td>\n",
       "    </tr>\n",
       "    <tr>\n",
       "      <th>3</th>\n",
       "      <td>Goat</td>\n",
       "      <td>27.660</td>\n",
       "      <td>115.0</td>\n",
       "    </tr>\n",
       "    <tr>\n",
       "      <th>4</th>\n",
       "      <td>Guinea pig</td>\n",
       "      <td>1.040</td>\n",
       "      <td>5.5</td>\n",
       "    </tr>\n",
       "    <tr>\n",
       "      <th>...</th>\n",
       "      <td>...</td>\n",
       "      <td>...</td>\n",
       "      <td>...</td>\n",
       "    </tr>\n",
       "    <tr>\n",
       "      <th>60</th>\n",
       "      <td>Brazilian tapir</td>\n",
       "      <td>160.000</td>\n",
       "      <td>169.0</td>\n",
       "    </tr>\n",
       "    <tr>\n",
       "      <th>61</th>\n",
       "      <td>Tenrec</td>\n",
       "      <td>0.900</td>\n",
       "      <td>2.6</td>\n",
       "    </tr>\n",
       "    <tr>\n",
       "      <th>62</th>\n",
       "      <td>Phalanger</td>\n",
       "      <td>1.620</td>\n",
       "      <td>11.4</td>\n",
       "    </tr>\n",
       "    <tr>\n",
       "      <th>63</th>\n",
       "      <td>Tree shrew</td>\n",
       "      <td>0.104</td>\n",
       "      <td>2.5</td>\n",
       "    </tr>\n",
       "    <tr>\n",
       "      <th>64</th>\n",
       "      <td>Red fox</td>\n",
       "      <td>4.235</td>\n",
       "      <td>50.4</td>\n",
       "    </tr>\n",
       "  </tbody>\n",
       "</table>\n",
       "<p>65 rows × 3 columns</p>\n",
       "</div>"
      ],
      "text/plain": [
       "               name     body  brain\n",
       "0   Mountain beaver    1.350    8.1\n",
       "1               Cow  465.000  423.0\n",
       "2         Grey wolf   36.330  119.5\n",
       "3              Goat   27.660  115.0\n",
       "4        Guinea pig    1.040    5.5\n",
       "..              ...      ...    ...\n",
       "60  Brazilian tapir  160.000  169.0\n",
       "61           Tenrec    0.900    2.6\n",
       "62        Phalanger    1.620   11.4\n",
       "63       Tree shrew    0.104    2.5\n",
       "64          Red fox    4.235   50.4\n",
       "\n",
       "[65 rows x 3 columns]"
      ]
     },
     "execution_count": 3,
     "metadata": {},
     "output_type": "execute_result"
    }
   ],
   "source": [
    "df = pd.read_csv(\"data/Animals2.csv\", sep=\",\")\n",
    "df"
   ]
  },
  {
   "cell_type": "code",
   "execution_count": 4,
   "id": "37c11789-650d-48e2-87fd-251bc006a9be",
   "metadata": {},
   "outputs": [],
   "source": [
    "body = df['body'].values\n",
    "brain = df['brain'].values\n",
    "body = np.log(body)\n",
    "brain = np.log(brain)\n",
    "\n",
    "X = body\n",
    "Xs = X.reshape(-1,1)\n",
    "Y = brain"
   ]
  },
  {
   "cell_type": "code",
   "execution_count": 5,
   "id": "c99ec642-f31a-40ed-8aaf-39d1f4510002",
   "metadata": {},
   "outputs": [
    {
     "data": {
      "image/png": "[encoded data removed]",
      "text/plain": [
       "<Figure size 432x288 with 1 Axes>"
      ]
     },
     "metadata": {
      "needs_background": "light"
     },
     "output_type": "display_data"
    }
   ],
   "source": [
    "plt.scatter(body, brain)\n",
    "plt.show()"
   ]
  },
  {
   "cell_type": "code",
   "execution_count": 6,
   "id": "b4464433-e3bf-43f8-a1f7-8a8e3d3def08",
   "metadata": {},
   "outputs": [
    {
     "name": "stdout",
     "output_type": "stream",
     "text": [
      "96 [2.17123129 0.59157349]\n"
     ]
    }
   ],
   "source": [
    "line = pyinv.LinearModel(1)\n",
    "line.init_param()\n",
    "\n",
    "loss_square = pyinv.ErrorLoss(pyinv.Square())\n",
    "am = pyinv.ArithMean()\n",
    "risk = pyinv.Risk(line, loss_square, am)\n",
    "\n",
    "gd = pyinv.GradientDescent(risk)\n",
    "gd.fit(Xs, Y)\n",
    "print(gd.K, line.param)\n"
   ]
  },
  {
   "cell_type": "code",
   "execution_count": 7,
   "id": "a81ff1bf-06c4-431a-b1ac-142b53cc01fc",
   "metadata": {},
   "outputs": [
    {
     "data": {
      "image/png": "[encoded data removed]",
      "text/plain": [
       "<Figure size 432x288 with 1 Axes>"
      ]
     },
     "metadata": {
      "needs_background": "light"
     },
     "output_type": "display_data"
    }
   ],
   "source": [
    "plt.scatter(body, brain, c='w', edgecolors='k')\n",
    "plt.plot(X, line.evaluate_all(Xs))\n",
    "plt.show()"
   ]
  },
  {
   "cell_type": "code",
   "execution_count": 8,
   "id": "d9189439-7836-4488-9456-de8d761fc3d1",
   "metadata": {},
   "outputs": [
    {
     "name": "stdout",
     "output_type": "stream",
     "text": [
      "156 [2.13478518 0.75168638]\n"
     ]
    }
   ],
   "source": [
    "line2 = pyinv.LinearModel(1)\n",
    "line2.init_param()\n",
    "\n",
    "loss_square = pyinv.ErrorLoss(pyinv.Square())\n",
    "rho_func = pyinv.SoftQuantileFunc(pyinv.SoftAbs(0.001), 0.95)\n",
    "wm = pyinv.WMMean(rho_func)\n",
    "risk2 = pyinv.Risk(line2, loss_square, wm)\n",
    "\n",
    "gd2 = pyinv.GradientDescent(risk2)\n",
    "gd2.fit(Xs, Y)\n",
    "print(gd2.K, line2.param)"
   ]
  },
  {
   "cell_type": "code",
   "execution_count": 9,
   "id": "078451ff-72cc-47f3-b30e-7b16a53789a1",
   "metadata": {},
   "outputs": [
    {
     "data": {
      "image/png": "[encoded data removed]",
      "text/plain": [
       "<Figure size 432x288 with 1 Axes>"
      ]
     },
     "metadata": {
      "needs_background": "light"
     },
     "output_type": "display_data"
    }
   ],
   "source": [
    "plt.scatter(body, brain, c='w', edgecolors='k')\n",
    "plt.plot(X, line.evaluate_all(Xs), label='LS')\n",
    "plt.plot(X, line2.evaluate_all(Xs), label='WM')\n",
    "plt.legend()\n",
    "plt.show()"
   ]
  },
  {
   "cell_type": "code",
   "execution_count": null,
   "id": "b06869ac-4df3-4ef8-b13d-fcfa4a17a721",
   "metadata": {},
   "outputs": [],
   "source": []
  }
 ],
 "metadata": {
  "kernelspec": {
   "display_name": "Python 3 (ipykernel)",
   "language": "python",
   "name": "python3"
  },
  "language_info": {
   "codemirror_mode": {
    "name": "ipython",
    "version": 3
   },
   "file_extension": ".py",
   "mimetype": "text/x-python",
   "name": "python",
   "nbconvert_exporter": "python",
   "pygments_lexer": "ipython3",
   "version": "3.9.12"
  }
 },
 "nbformat": 4,
 "nbformat_minor": 5
}
