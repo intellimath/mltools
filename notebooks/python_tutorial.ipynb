{
 "cells": [
  {
   "cell_type": "markdown",
   "id": "d8084bbb-8056-45e0-8a8c-a00d53276b68",
   "metadata": {},
   "source": [
    "# Вводная по Python"
   ]
  },
  {
   "cell_type": "markdown",
   "id": "e173d8e0-d7e1-409c-980b-f56262e15ccf",
   "metadata": {},
   "source": [
    "Присваивание в Python это механизм связывания имен с объектами"
   ]
  },
  {
   "cell_type": "markdown",
   "id": "b8fdbd3f-ab81-4366-95c0-d30bfb6aba6e",
   "metadata": {},
   "source": [
    "## Оператор if"
   ]
  },
  {
   "cell_type": "code",
   "execution_count": 1,
   "id": "1f552093-3318-49d2-9a14-826a2b99ec7c",
   "metadata": {},
   "outputs": [
    {
     "name": "stdout",
     "output_type": "stream",
     "text": [
      "Знак числа -1\n"
     ]
    }
   ],
   "source": [
    "x = -10\n",
    "if x > 0:\n",
    "    y = 1\n",
    "    print(\"Знак числа +1\")\n",
    "elif x < 0:\n",
    "    y = -1\n",
    "    print(\"Знак числа -1\")\n",
    "else:\n",
    "    y = 0\n",
    "    print(\"Знак числа 0\")\n",
    "    "
   ]
  },
  {
   "cell_type": "markdown",
   "id": "54934686-8d83-4af3-8aad-79b2ac6d88be",
   "metadata": {},
   "source": [
    "## Оператор while"
   ]
  },
  {
   "cell_type": "code",
   "execution_count": 2,
   "id": "05cca103-6615-4d40-a4b2-71a30b52beb7",
   "metadata": {},
   "outputs": [
    {
     "name": "stdout",
     "output_type": "stream",
     "text": [
      "5050\n"
     ]
    }
   ],
   "source": [
    "S = 0\n",
    "k = 1\n",
    "while k <= 100:\n",
    "    S += k\n",
    "    k += 1\n",
    "    \n",
    "print(S)"
   ]
  },
  {
   "cell_type": "code",
   "execution_count": 3,
   "id": "b3304fcd-e707-49da-8dbc-4ae296d18638",
   "metadata": {},
   "outputs": [
    {
     "name": "stdout",
     "output_type": "stream",
     "text": [
      "2550\n"
     ]
    }
   ],
   "source": [
    "S = 0\n",
    "k = 1\n",
    "while k <= 100:\n",
    "    if k % 2 == 0:\n",
    "        S += k\n",
    "    k += 1\n",
    "    \n",
    "print(S)"
   ]
  },
  {
   "cell_type": "markdown",
   "id": "32e89408-203c-4a43-9cbd-15c95d1e774a",
   "metadata": {},
   "source": [
    "## Определение функций"
   ]
  },
  {
   "cell_type": "code",
   "execution_count": 4,
   "id": "f81aff2e-5365-4b85-b723-524452444234",
   "metadata": {},
   "outputs": [],
   "source": [
    "def sign(x):\n",
    "    \"\"\"Функция для вычисления знака числа.\n",
    "    \"\"\"\n",
    "    if x > 0:\n",
    "        return 1\n",
    "    elif x < 0:\n",
    "        return -1\n",
    "    else:\n",
    "        return 0"
   ]
  },
  {
   "cell_type": "code",
   "execution_count": 5,
   "id": "475bb368-ec53-480e-962c-69e8b18184e9",
   "metadata": {},
   "outputs": [
    {
     "data": {
      "text/plain": [
       "\u001b[0;31mSignature:\u001b[0m \u001b[0msign\u001b[0m\u001b[0;34m(\u001b[0m\u001b[0mx\u001b[0m\u001b[0;34m)\u001b[0m\u001b[0;34m\u001b[0m\u001b[0;34m\u001b[0m\u001b[0m\n",
       "\u001b[0;31mDocstring:\u001b[0m\n",
       "Функция для вычисления знака числа.\n",
       "    \n",
       "\u001b[0;31mFile:\u001b[0m      /tmp/ipykernel_60303/2897935691.py\n",
       "\u001b[0;31mType:\u001b[0m      function\n"
      ]
     },
     "metadata": {},
     "output_type": "display_data"
    }
   ],
   "source": [
    "sign?"
   ]
  },
  {
   "cell_type": "code",
   "execution_count": 6,
   "id": "ecb09cb5-1ab6-4708-abfb-6ae1616a1592",
   "metadata": {},
   "outputs": [
    {
     "name": "stdout",
     "output_type": "stream",
     "text": [
      "1\n",
      "-1\n",
      "0\n"
     ]
    }
   ],
   "source": [
    "print(sign(10))\n",
    "print(sign(-10))\n",
    "print(sign(0))"
   ]
  },
  {
   "cell_type": "code",
   "execution_count": 7,
   "id": "a588586c-40ae-41f7-9d07-b61326bbba57",
   "metadata": {},
   "outputs": [],
   "source": [
    "def sum_integer_numbers(N):\n",
    "    S = 0\n",
    "    k = 1\n",
    "    while k <= N:\n",
    "        S += k\n",
    "        k += 1\n",
    "    return S"
   ]
  },
  {
   "cell_type": "code",
   "execution_count": 8,
   "id": "d327a512-5a0a-49f9-9264-dd07799d8a8b",
   "metadata": {},
   "outputs": [
    {
     "data": {
      "text/plain": [
       "5050"
      ]
     },
     "execution_count": 8,
     "metadata": {},
     "output_type": "execute_result"
    }
   ],
   "source": [
    "sum_integer_numbers(100)"
   ]
  },
  {
   "cell_type": "markdown",
   "id": "16fa4140-c7f7-4a56-9e1d-e005fded958f",
   "metadata": {},
   "source": [
    "## Списки"
   ]
  },
  {
   "cell_type": "code",
   "execution_count": 9,
   "id": "6795c808-06f1-4150-8c03-22fe5a84474d",
   "metadata": {},
   "outputs": [],
   "source": [
    "l1 = [1, 2, 3,]\n",
    "l2 = [\"a\", \"b\", \"c\"]\n",
    "l3 = []"
   ]
  },
  {
   "cell_type": "code",
   "execution_count": 10,
   "id": "fb468f99-e07f-40e1-9dba-aabbdfba974e",
   "metadata": {},
   "outputs": [
    {
     "data": {
      "text/plain": [
       "list"
      ]
     },
     "execution_count": 10,
     "metadata": {},
     "output_type": "execute_result"
    }
   ],
   "source": [
    "type(l1)"
   ]
  },
  {
   "cell_type": "code",
   "execution_count": 11,
   "id": "0bbe741b-f259-4ec0-b8a2-55c746dad2b7",
   "metadata": {},
   "outputs": [
    {
     "data": {
      "text/plain": [
       "[1, 2, 3, 'a', 'b', 'c']"
      ]
     },
     "execution_count": 11,
     "metadata": {},
     "output_type": "execute_result"
    }
   ],
   "source": [
    "l1 + l2"
   ]
  },
  {
   "cell_type": "code",
   "execution_count": 12,
   "id": "d4e389c5-393a-46a4-bfe7-0ee145c03c56",
   "metadata": {},
   "outputs": [
    {
     "name": "stdout",
     "output_type": "stream",
     "text": [
      "1 2 3\n"
     ]
    }
   ],
   "source": [
    "print(l1[0], l1[1], l1[-1])"
   ]
  },
  {
   "cell_type": "code",
   "execution_count": 13,
   "id": "6aea0544-a9d4-4e66-8dc8-8493a795650c",
   "metadata": {},
   "outputs": [
    {
     "name": "stdout",
     "output_type": "stream",
     "text": [
      "[1, 2, 3, 100, -100, -200, 300]\n"
     ]
    }
   ],
   "source": [
    "l1.append(100)\n",
    "l1.extend([-100,-200,300])\n",
    "print(l1)"
   ]
  },
  {
   "cell_type": "code",
   "execution_count": 14,
   "id": "0d345a40-664e-4f60-994e-d7035d5b6cd6",
   "metadata": {},
   "outputs": [],
   "source": [
    "del l1[-1]"
   ]
  },
  {
   "cell_type": "code",
   "execution_count": 15,
   "id": "3d727fab-cc3d-4836-84aa-424db4431048",
   "metadata": {},
   "outputs": [],
   "source": [
    "l1.remove(100)"
   ]
  },
  {
   "cell_type": "code",
   "execution_count": 16,
   "id": "a57eed48-7591-493f-abec-b1f24b15b7f6",
   "metadata": {},
   "outputs": [
    {
     "name": "stdout",
     "output_type": "stream",
     "text": [
      "[1, 2, 3, -100, -200]\n"
     ]
    }
   ],
   "source": [
    "print(l1)"
   ]
  },
  {
   "cell_type": "code",
   "execution_count": 17,
   "id": "07e012e5-0de8-47db-99ec-0757c8d1d724",
   "metadata": {},
   "outputs": [
    {
     "data": {
      "text/plain": [
       "5"
      ]
     },
     "execution_count": 17,
     "metadata": {},
     "output_type": "execute_result"
    }
   ],
   "source": [
    "len(l1)"
   ]
  },
  {
   "cell_type": "code",
   "execution_count": 18,
   "id": "4c2de0bb-b7c0-4c2e-b07c-9c19475efc46",
   "metadata": {},
   "outputs": [
    {
     "name": "stdout",
     "output_type": "stream",
     "text": [
      "[2, 3, -100]\n"
     ]
    }
   ],
   "source": [
    "print(l1[1:-1])"
   ]
  },
  {
   "cell_type": "code",
   "execution_count": 19,
   "id": "f86f5470-31cd-4fde-ba82-8d3122c9ef7b",
   "metadata": {},
   "outputs": [
    {
     "name": "stdout",
     "output_type": "stream",
     "text": [
      "[1, 2, 3, -100, -200]\n"
     ]
    }
   ],
   "source": [
    "print(l1[:])"
   ]
  },
  {
   "cell_type": "code",
   "execution_count": 20,
   "id": "c82f1aa9-7058-42cd-b05c-db023d7da011",
   "metadata": {},
   "outputs": [],
   "source": [
    "l1[-1] = 1000"
   ]
  },
  {
   "cell_type": "markdown",
   "id": "a3aa2277-6b1f-4149-885b-be3cc7780fe0",
   "metadata": {},
   "source": [
    "## Кортежи"
   ]
  },
  {
   "cell_type": "code",
   "execution_count": 21,
   "id": "10b2f13c-ab7b-452a-93d5-fe688c4ca257",
   "metadata": {},
   "outputs": [],
   "source": [
    "t1 = (1, 2, 3,)\n",
    "t2 = (1,)\n",
    "t3 = ()"
   ]
  },
  {
   "cell_type": "code",
   "execution_count": 22,
   "id": "b25ac21b-c151-46f4-8852-b9ee3a29f26e",
   "metadata": {},
   "outputs": [
    {
     "data": {
      "text/plain": [
       "tuple"
      ]
     },
     "execution_count": 22,
     "metadata": {},
     "output_type": "execute_result"
    }
   ],
   "source": [
    "type(t1)"
   ]
  },
  {
   "cell_type": "code",
   "execution_count": 23,
   "id": "c2c488e4-c995-4fbe-8105-0a442470186f",
   "metadata": {},
   "outputs": [
    {
     "name": "stdout",
     "output_type": "stream",
     "text": [
      "(2,)\n"
     ]
    }
   ],
   "source": [
    "print(t1[1:-1])"
   ]
  },
  {
   "cell_type": "code",
   "execution_count": 24,
   "id": "b3588bcf-d7b5-4c96-a5da-5182d12a515c",
   "metadata": {},
   "outputs": [
    {
     "ename": "TypeError",
     "evalue": "'tuple' object does not support item assignment",
     "output_type": "error",
     "traceback": [
      "\u001b[0;31m---------------------------------------------------------------------------\u001b[0m",
      "\u001b[0;31mTypeError\u001b[0m                                 Traceback (most recent call last)",
      "Input \u001b[0;32mIn [24]\u001b[0m, in \u001b[0;36m<cell line: 1>\u001b[0;34m()\u001b[0m\n\u001b[0;32m----> 1\u001b[0m t1[\u001b[38;5;241m0\u001b[39m] \u001b[38;5;241m=\u001b[39m \u001b[38;5;241m100\u001b[39m\n",
      "\u001b[0;31mTypeError\u001b[0m: 'tuple' object does not support item assignment"
     ]
    }
   ],
   "source": [
    "t1[0] = 100"
   ]
  },
  {
   "cell_type": "code",
   "execution_count": 25,
   "id": "1cec75ab-dc14-4bd6-ab8e-77475ce3f1b4",
   "metadata": {},
   "outputs": [
    {
     "data": {
      "text/plain": [
       "(1, 2, 3, 'a', 'b', 'c')"
      ]
     },
     "execution_count": 25,
     "metadata": {},
     "output_type": "execute_result"
    }
   ],
   "source": [
    "t1 + ('a', 'b', 'c')"
   ]
  },
  {
   "cell_type": "code",
   "execution_count": 26,
   "id": "f239a1d0-61d9-4983-9f17-003f3208ab3d",
   "metadata": {},
   "outputs": [
    {
     "data": {
      "text/plain": [
       "3"
      ]
     },
     "execution_count": 26,
     "metadata": {},
     "output_type": "execute_result"
    }
   ],
   "source": [
    "len(t1)"
   ]
  },
  {
   "cell_type": "code",
   "execution_count": 27,
   "id": "6c906a79-a46d-494f-b37d-ffc1c076a44f",
   "metadata": {},
   "outputs": [
    {
     "name": "stdout",
     "output_type": "stream",
     "text": [
      "True False\n"
     ]
    }
   ],
   "source": [
    "print(1 in t1, 100 in l1)"
   ]
  },
  {
   "cell_type": "markdown",
   "id": "037eca55-9057-4078-8d3e-e66dba478a02",
   "metadata": {},
   "source": [
    "## Словари"
   ]
  },
  {
   "cell_type": "code",
   "execution_count": 28,
   "id": "5e2670a2-2a27-4614-9101-addcd605618c",
   "metadata": {},
   "outputs": [],
   "source": [
    "d1 = {'a':1, 'b':2, 'c':3, }\n",
    "d2 = {}"
   ]
  },
  {
   "cell_type": "code",
   "execution_count": 29,
   "id": "9b2e3459-2312-4834-af2a-0271dad1a150",
   "metadata": {},
   "outputs": [
    {
     "data": {
      "text/plain": [
       "1"
      ]
     },
     "execution_count": 29,
     "metadata": {},
     "output_type": "execute_result"
    }
   ],
   "source": [
    "d1['a']"
   ]
  },
  {
   "cell_type": "code",
   "execution_count": 30,
   "id": "7251c6d1-1612-4b38-be05-96b3548fe973",
   "metadata": {},
   "outputs": [],
   "source": [
    "d1['d'] = 4"
   ]
  },
  {
   "cell_type": "code",
   "execution_count": 31,
   "id": "10b2159f-e21a-4649-be12-ea699d040846",
   "metadata": {},
   "outputs": [],
   "source": [
    "del d1['a']"
   ]
  },
  {
   "cell_type": "code",
   "execution_count": 32,
   "id": "e7f5dbf3-c795-4546-9a85-1b0b33155525",
   "metadata": {},
   "outputs": [
    {
     "name": "stdout",
     "output_type": "stream",
     "text": [
      "{'b': 2, 'c': 3, 'd': 4}\n"
     ]
    }
   ],
   "source": [
    "print(d1)"
   ]
  },
  {
   "cell_type": "code",
   "execution_count": 33,
   "id": "b1e70f38-bdd8-4ed2-b483-2253d8179f4a",
   "metadata": {},
   "outputs": [],
   "source": [
    "d1.update({'aa':100, 'bb':200})"
   ]
  },
  {
   "cell_type": "code",
   "execution_count": 34,
   "id": "4e8207c6-f168-4ea1-bae8-c0ab2bccc551",
   "metadata": {},
   "outputs": [
    {
     "name": "stdout",
     "output_type": "stream",
     "text": [
      "{'b': 2, 'c': 3, 'd': 4, 'aa': 100, 'bb': 200}\n"
     ]
    }
   ],
   "source": [
    "print(d1)"
   ]
  },
  {
   "cell_type": "code",
   "execution_count": 35,
   "id": "1f6b6242-93ac-42c5-b91f-c9be1039d3bf",
   "metadata": {},
   "outputs": [],
   "source": [
    "d3 = {(1,2):'a', (2,3):'b', (3,6):'c'}"
   ]
  },
  {
   "cell_type": "code",
   "execution_count": 36,
   "id": "07ba8a70-7546-4056-9df1-d31f1b2fdadc",
   "metadata": {},
   "outputs": [
    {
     "name": "stdout",
     "output_type": "stream",
     "text": [
      "{(1, 2): 'a', (2, 3): 'b', (3, 6): 'c'}\n"
     ]
    }
   ],
   "source": [
    "print(d3)"
   ]
  },
  {
   "cell_type": "code",
   "execution_count": 37,
   "id": "8b65173c-c29b-464c-bfbb-f1cf93c17608",
   "metadata": {},
   "outputs": [
    {
     "data": {
      "text/plain": [
       "dict_keys(['b', 'c', 'd', 'aa', 'bb'])"
      ]
     },
     "execution_count": 37,
     "metadata": {},
     "output_type": "execute_result"
    }
   ],
   "source": [
    "d1.keys()"
   ]
  },
  {
   "cell_type": "code",
   "execution_count": 38,
   "id": "6744c5ce-9d42-48ff-9145-33092bac51b6",
   "metadata": {},
   "outputs": [
    {
     "data": {
      "text/plain": [
       "dict_values([2, 3, 4, 100, 200])"
      ]
     },
     "execution_count": 38,
     "metadata": {},
     "output_type": "execute_result"
    }
   ],
   "source": [
    "d1.values()"
   ]
  },
  {
   "cell_type": "code",
   "execution_count": 39,
   "id": "f391c394-8b40-4aea-94c5-3c164af0c17c",
   "metadata": {},
   "outputs": [
    {
     "data": {
      "text/plain": [
       "dict_items([('b', 2), ('c', 3), ('d', 4), ('aa', 100), ('bb', 200)])"
      ]
     },
     "execution_count": 39,
     "metadata": {},
     "output_type": "execute_result"
    }
   ],
   "source": [
    "d1.items()"
   ]
  },
  {
   "cell_type": "code",
   "execution_count": 40,
   "id": "f5ebb29b-c6c9-4f6e-ac47-8f82634090f2",
   "metadata": {},
   "outputs": [
    {
     "data": {
      "text/plain": [
       "True"
      ]
     },
     "execution_count": 40,
     "metadata": {},
     "output_type": "execute_result"
    }
   ],
   "source": [
    "'b' in d1"
   ]
  },
  {
   "cell_type": "markdown",
   "id": "2a53c1d3-ca08-40cb-a23e-1db20503e038",
   "metadata": {},
   "source": [
    "## Итераторы и генераторы"
   ]
  },
  {
   "cell_type": "code",
   "execution_count": 41,
   "id": "9303ea3a-81c9-4b5f-b4ed-3914370bc2f7",
   "metadata": {},
   "outputs": [],
   "source": [
    "ll = ['a','b','c']"
   ]
  },
  {
   "cell_type": "code",
   "execution_count": 42,
   "id": "0bdaeca3-9f39-45a2-ba45-5c57333fcfa2",
   "metadata": {},
   "outputs": [],
   "source": [
    "ill = iter(ll)"
   ]
  },
  {
   "cell_type": "code",
   "execution_count": 43,
   "id": "b2005dcf-5327-4050-ae9f-b601a87fc1e1",
   "metadata": {},
   "outputs": [
    {
     "data": {
      "text/plain": [
       "list_iterator"
      ]
     },
     "execution_count": 43,
     "metadata": {},
     "output_type": "execute_result"
    }
   ],
   "source": [
    "type(ill)"
   ]
  },
  {
   "cell_type": "code",
   "execution_count": 44,
   "id": "005dac4d-0f6d-40c0-b9d7-4942452d1fca",
   "metadata": {},
   "outputs": [
    {
     "data": {
      "text/plain": [
       "'a'"
      ]
     },
     "execution_count": 44,
     "metadata": {},
     "output_type": "execute_result"
    }
   ],
   "source": [
    "next(ill)"
   ]
  },
  {
   "cell_type": "code",
   "execution_count": 45,
   "id": "e2aa1506-eb74-4e30-a27e-15ce89265a70",
   "metadata": {},
   "outputs": [
    {
     "name": "stdout",
     "output_type": "stream",
     "text": [
      "a\n",
      "b\n",
      "c\n"
     ]
    }
   ],
   "source": [
    "for x in ll:\n",
    "    print(x)"
   ]
  },
  {
   "cell_type": "code",
   "execution_count": 46,
   "id": "533dd3c7-56d4-4cb3-8812-08d05a2225b4",
   "metadata": {},
   "outputs": [
    {
     "name": "stdout",
     "output_type": "stream",
     "text": [
      "5\n",
      "4\n",
      "3\n",
      "2\n",
      "1\n"
     ]
    }
   ],
   "source": [
    "for i in range(5,0,-1):\n",
    "    print(i)"
   ]
  },
  {
   "cell_type": "code",
   "execution_count": 47,
   "id": "6d0a6409-2bdf-4b86-9ab8-822ab1c83f0f",
   "metadata": {},
   "outputs": [],
   "source": [
    "def myrange(N):\n",
    "    for i in range(N):\n",
    "        yield i*i"
   ]
  },
  {
   "cell_type": "code",
   "execution_count": 48,
   "id": "7ec7eea7-5e0a-4eab-8531-40f9383ba20c",
   "metadata": {},
   "outputs": [
    {
     "name": "stdout",
     "output_type": "stream",
     "text": [
      "0\n",
      "1\n",
      "4\n",
      "9\n",
      "16\n"
     ]
    }
   ],
   "source": [
    "for x in myrange(5):\n",
    "    print(x)"
   ]
  },
  {
   "cell_type": "code",
   "execution_count": 1,
   "id": "4b9dc0b4-3be0-4fc3-b7f2-6e7fb3e37e66",
   "metadata": {},
   "outputs": [
    {
     "name": "stdout",
     "output_type": "stream",
     "text": [
      "0\n",
      "1\n",
      "4\n",
      "9\n",
      "16\n"
     ]
    }
   ],
   "source": [
    "gen = (i*i for i in range(5))\n",
    "for x in gen:\n",
    "    print(x)"
   ]
  },
  {
   "cell_type": "code",
   "execution_count": null,
   "id": "7a7969d9-d96d-4c0a-b715-1318671f01cb",
   "metadata": {},
   "outputs": [],
   "source": [
    "gen = (i*i for i in range(5))\n",
    "for x in (i*i for i in range(5)):\n",
    "    print(x)"
   ]
  },
  {
   "cell_type": "code",
   "execution_count": 51,
   "id": "695b2f3a-c9a5-46cb-92e4-37fd61accf41",
   "metadata": {},
   "outputs": [
    {
     "name": "stdout",
     "output_type": "stream",
     "text": [
      "(1, 2)\n",
      "(2, 3)\n",
      "(3, 6)\n"
     ]
    }
   ],
   "source": [
    "for x in d3:\n",
    "    print(x)"
   ]
  },
  {
   "cell_type": "code",
   "execution_count": 50,
   "id": "b49c1db3-a3d1-4caf-9131-7ded2003a76c",
   "metadata": {},
   "outputs": [
    {
     "name": "stdout",
     "output_type": "stream",
     "text": [
      "a\n",
      "b\n",
      "c\n"
     ]
    }
   ],
   "source": [
    "for x in d3.values():\n",
    "    print(x)"
   ]
  },
  {
   "cell_type": "code",
   "execution_count": 52,
   "id": "00d5a4be-a005-48d7-ad93-6a0ff9618d8f",
   "metadata": {},
   "outputs": [
    {
     "name": "stdout",
     "output_type": "stream",
     "text": [
      "(1, 2) a\n",
      "(2, 3) b\n",
      "(3, 6) c\n"
     ]
    }
   ],
   "source": [
    "for k,v in d3.items():\n",
    "    print(k,v)"
   ]
  },
  {
   "cell_type": "code",
   "execution_count": 53,
   "id": "7a59b666-065f-4eba-8020-8c1fc9d730bf",
   "metadata": {},
   "outputs": [
    {
     "name": "stdout",
     "output_type": "stream",
     "text": [
      "0 a\n",
      "1 b\n",
      "2 c\n"
     ]
    }
   ],
   "source": [
    "for i,x in enumerate(ll):\n",
    "    print(i,x)"
   ]
  },
  {
   "cell_type": "markdown",
   "id": "30e5f721-38ff-400b-af17-e233cf679b00",
   "metadata": {},
   "source": [
    "## Классы"
   ]
  },
  {
   "cell_type": "code",
   "execution_count": 54,
   "id": "8406e560-67b0-4f6c-8004-0a4ac3bc2cfb",
   "metadata": {},
   "outputs": [],
   "source": [
    "class Vec:\n",
    "    \"\"\"\n",
    "    Класс Vec\n",
    "    Представляет векторы на плоскости\n",
    "    \"\"\"\n",
    "    # метод __init__\n",
    "    def __init__(self, x, y):\n",
    "        self.x = x\n",
    "        self.y = y\n",
    "    #\n",
    "    def square_len(self):\n",
    "        return self.x ** 2 + self.y ** 2\n",
    "    #\n",
    "    def __add__(self, v):\n",
    "        return Vec(self.x + v.x, self.y + v.y)\n",
    "    #\n",
    "    def __repr__(self):\n",
    "        return f\"Vec({self.x}, {self.y})\"\n",
    "    #"
   ]
  },
  {
   "cell_type": "code",
   "execution_count": 57,
   "id": "c72885bb-d4aa-43b1-bd36-056149546a73",
   "metadata": {},
   "outputs": [
    {
     "data": {
      "text/plain": [
       "\"<class '__main__.Vec'>\""
      ]
     },
     "execution_count": 57,
     "metadata": {},
     "output_type": "execute_result"
    }
   ],
   "source": [
    "repr(Vec)"
   ]
  },
  {
   "cell_type": "code",
   "execution_count": 58,
   "id": "c0ee0f29-fd0d-49ae-a3d3-1661457c4886",
   "metadata": {},
   "outputs": [],
   "source": [
    "v1 = Vec(1,2)\n",
    "v2 = Vec(3,4)"
   ]
  },
  {
   "cell_type": "code",
   "execution_count": 59,
   "id": "742e6b85-4aaf-4cbe-a17b-011bb0dd454e",
   "metadata": {},
   "outputs": [
    {
     "data": {
      "text/plain": [
       "Vec(4, 6)"
      ]
     },
     "execution_count": 59,
     "metadata": {},
     "output_type": "execute_result"
    }
   ],
   "source": [
    "v1 + v2"
   ]
  },
  {
   "cell_type": "code",
   "execution_count": 60,
   "id": "f13d5351-4be4-4266-b232-1ecbe9600ab2",
   "metadata": {},
   "outputs": [
    {
     "name": "stdout",
     "output_type": "stream",
     "text": [
      "Vec(4, 6)\n"
     ]
    }
   ],
   "source": [
    "v = v1 + v2\n",
    "print(v)"
   ]
  },
  {
   "cell_type": "code",
   "execution_count": 61,
   "id": "11e609bd-0a9c-47f2-9206-f5482d0b559a",
   "metadata": {},
   "outputs": [
    {
     "data": {
      "text/plain": [
       "52"
      ]
     },
     "execution_count": 61,
     "metadata": {},
     "output_type": "execute_result"
    }
   ],
   "source": [
    "v.square_len()"
   ]
  },
  {
   "cell_type": "markdown",
   "id": "c8bd2086-cd35-4fc6-995b-da993a5114be",
   "metadata": {},
   "source": [
    "## Списочные выражения"
   ]
  },
  {
   "cell_type": "code",
   "execution_count": 2,
   "id": "7ee33c37-9aed-4138-a137-ab8180d39ea2",
   "metadata": {},
   "outputs": [
    {
     "name": "stdout",
     "output_type": "stream",
     "text": [
      "[0, 1, 4, 9, 16, 25, 36, 49, 64, 81]\n"
     ]
    }
   ],
   "source": [
    "squares = [x*x for x in range(10)]\n",
    "print(squares)"
   ]
  },
  {
   "cell_type": "code",
   "execution_count": 4,
   "id": "43ac084c-1aab-4a44-a220-a9edb99a59d1",
   "metadata": {},
   "outputs": [
    {
     "name": "stdout",
     "output_type": "stream",
     "text": [
      "[0, 4, 16, 36, 64]\n"
     ]
    }
   ],
   "source": [
    "squares2 = [x*x for x in range(10) if x % 2 == 0]\n",
    "print(squares2)"
   ]
  },
  {
   "cell_type": "markdown",
   "id": "fdd36d5e-1e55-415b-8a8f-ac1247a1d2fb",
   "metadata": {},
   "source": [
    "## Словарные выражения"
   ]
  },
  {
   "cell_type": "code",
   "execution_count": 5,
   "id": "de16e709-20c7-49e7-aead-8c937c29e64f",
   "metadata": {},
   "outputs": [
    {
     "name": "stdout",
     "output_type": "stream",
     "text": [
      "{0: 0, 1: 1, 2: 4, 3: 9, 4: 16, 5: 25, 6: 36, 7: 49, 8: 64, 9: 81}\n"
     ]
    }
   ],
   "source": [
    "squares = {x:x*x for x in range(10)}\n",
    "print(squares)"
   ]
  },
  {
   "cell_type": "code",
   "execution_count": null,
   "id": "473701c7-3e5f-4bc2-8e64-e3550c789e8e",
   "metadata": {},
   "outputs": [],
   "source": []
  }
 ],
 "metadata": {
  "kernelspec": {
   "display_name": "Python 3 (ipykernel)",
   "language": "python",
   "name": "python3"
  },
  "language_info": {
   "codemirror_mode": {
    "name": "ipython",
    "version": 3
   },
   "file_extension": ".py",
   "mimetype": "text/x-python",
   "name": "python",
   "nbconvert_exporter": "python",
   "pygments_lexer": "ipython3",
   "version": "3.10.7"
  }
 },
 "nbformat": 4,
 "nbformat_minor": 5
}
