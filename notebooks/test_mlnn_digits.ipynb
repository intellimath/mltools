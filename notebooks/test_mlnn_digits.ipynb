{
 "cells": [
  {
   "cell_type": "code",
   "execution_count": 1,
   "id": "243c27b6-db19-4cd2-a3b1-777eda28503a",
   "metadata": {},
   "outputs": [],
   "source": [
    "import python_inventory as pyinv\n",
    "import numpy as np\n",
    "import matplotlib.pyplot as plt\n",
    "\n",
    "from sklearn.datasets import load_digits\n",
    "from sklearn.preprocessing import label_binarize\n",
    "from sklearn.metrics import accuracy_score"
   ]
  },
  {
   "cell_type": "code",
   "execution_count": 2,
   "id": "b4379c55-8644-4854-953e-e4e7f9e55601",
   "metadata": {},
   "outputs": [],
   "source": [
    "X, Y = load_digits(return_X_y=True)"
   ]
  },
  {
   "cell_type": "code",
   "execution_count": 25,
   "id": "045fa52f-ff2c-4101-bc19-b3ea1e92c4a4",
   "metadata": {},
   "outputs": [
    {
     "name": "stdout",
     "output_type": "stream",
     "text": [
      "(1797, 64)\n"
     ]
    }
   ],
   "source": [
    "print(X.shape)"
   ]
  },
  {
   "cell_type": "code",
   "execution_count": 3,
   "id": "31b4f87a-fdf9-4210-aaf3-a71cf6cdf0e1",
   "metadata": {},
   "outputs": [],
   "source": [
    "YB = label_binarize(Y, classes=np.arange(0,10))"
   ]
  },
  {
   "cell_type": "code",
   "execution_count": 4,
   "id": "df52e570-ef54-44d7-b144-685aadae55f3",
   "metadata": {},
   "outputs": [
    {
     "name": "stdout",
     "output_type": "stream",
     "text": [
      "[[1 0 0 ... 0 0 0]\n",
      " [0 1 0 ... 0 0 0]\n",
      " [0 0 1 ... 0 0 0]\n",
      " ...\n",
      " [0 0 0 ... 0 1 0]\n",
      " [0 0 0 ... 0 0 1]\n",
      " [0 0 0 ... 0 1 0]]\n"
     ]
    }
   ],
   "source": [
    "print(YB)"
   ]
  },
  {
   "cell_type": "code",
   "execution_count": 5,
   "id": "c7a824a0-1c91-4533-8a85-d4a27d464ff8",
   "metadata": {},
   "outputs": [
    {
     "data": {
      "text/plain": [
       "array([-1., -1., -1., ...,  1., -1.,  1.])"
      ]
     },
     "execution_count": 5,
     "metadata": {},
     "output_type": "execute_result"
    }
   ],
   "source": [
    "YB8 = 2.0 * YB[:,8] - 1.0\n",
    "YB8"
   ]
  },
  {
   "cell_type": "code",
   "execution_count": 6,
   "id": "809e1c04-3125-4bf5-8fe9-3dcc9cc65dd7",
   "metadata": {},
   "outputs": [
    {
     "name": "stdout",
     "output_type": "stream",
     "text": [
      "[8 8 8 8 8 8 8 8 8 8 8 8 8 8 8 8 8 8 8 8 8 8 8 8 8 8 8 8 8 8 8 8 8 8 8 8 8\n",
      " 8 8 8 8 8 8 8 8 8 8 8 8 8 8 8 8 8 8 8 8 8 8 8 8 8 8 8 8 8 8 8 8 8 8 8 8 8\n",
      " 8 8 8 8 8 8 8 8 8 8 8 8 8 8 8 8 8 8 8 8 8 8 8 8 8 8 8 8 8 8 8 8 8 8 8 8 8\n",
      " 8 8 8 8 8 8 8 8 8 8 8 8 8 8 8 8 8 8 8 8 8 8 8 8 8 8 8 8 8 8 8 8 8 8 8 8 8\n",
      " 8 8 8 8 8 8 8 8 8 8 8 8 8 8 8 8 8 8 8 8 8 8 8 8 8 8]\n",
      "[1. 1. 1. 1. 1. 1. 1. 1. 1. 1. 1. 1. 1. 1. 1. 1. 1. 1. 1. 1. 1. 1. 1. 1.\n",
      " 1. 1. 1. 1. 1. 1. 1. 1. 1. 1. 1. 1. 1. 1. 1. 1. 1. 1. 1. 1. 1. 1. 1. 1.\n",
      " 1. 1. 1. 1. 1. 1. 1. 1. 1. 1. 1. 1. 1. 1. 1. 1. 1. 1. 1. 1. 1. 1. 1. 1.\n",
      " 1. 1. 1. 1. 1. 1. 1. 1. 1. 1. 1. 1. 1. 1. 1. 1. 1. 1. 1. 1. 1. 1. 1. 1.\n",
      " 1. 1. 1. 1. 1. 1. 1. 1. 1. 1. 1. 1. 1. 1. 1. 1. 1. 1. 1. 1. 1. 1. 1. 1.\n",
      " 1. 1. 1. 1. 1. 1. 1. 1. 1. 1. 1. 1. 1. 1. 1. 1. 1. 1. 1. 1. 1. 1. 1. 1.\n",
      " 1. 1. 1. 1. 1. 1. 1. 1. 1. 1. 1. 1. 1. 1. 1. 1. 1. 1. 1. 1. 1. 1. 1. 1.\n",
      " 1. 1. 1. 1. 1. 1.]\n",
      "[-1. -1. -1. ... -1. -1. -1.]\n"
     ]
    }
   ],
   "source": [
    "print(Y[Y == 8])\n",
    "print(YB8[Y ==8])\n",
    "print(YB8[Y != 8])"
   ]
  },
  {
   "cell_type": "code",
   "execution_count": 7,
   "id": "325134df-3a57-459d-9a0d-f6b11f0632ef",
   "metadata": {},
   "outputs": [
    {
     "data": {
      "text/plain": [
       "array([ 1.,  1.,  1., ..., 10.,  1., 10.])"
      ]
     },
     "execution_count": 7,
     "metadata": {},
     "output_type": "execute_result"
    }
   ],
   "source": [
    "W8 = np.ones_like(YB8)\n",
    "W8[Y == 8] = 10\n",
    "W8"
   ]
  },
  {
   "cell_type": "code",
   "execution_count": 22,
   "id": "b0b851ea-2102-48c6-9770-5ac10f5737c9",
   "metadata": {},
   "outputs": [],
   "source": [
    "m = 20\n",
    "body = pyinv.NN()\n",
    "models = []\n",
    "for j in range(m):\n",
    "    mod = pyinv.SigmaNeuronModel(pyinv.Sigmoidal(), 64)\n",
    "    models.append(mod)\n",
    "layer = pyinv.FuncLayer(models)\n",
    "body.add(layer)\n",
    "\n",
    "head = pyinv.LinearModel(m)\n",
    "\n",
    "nn = pyinv.ModelNN(head, body)\n",
    "\n",
    "nn.init_param()"
   ]
  },
  {
   "cell_type": "code",
   "execution_count": 23,
   "id": "a318b16c-a58a-497c-8c7f-ee7160f4974e",
   "metadata": {},
   "outputs": [],
   "source": [
    "loss_hinge = pyinv.ErrorLoss(pyinv.Square())\n",
    "am = pyinv.ArithMean()\n",
    "risk = pyinv.Risk(nn, loss_hinge, am)\n",
    "\n",
    "gd = pyinv.GradientDescent(risk, h=0.2, n_iter=3, tol=1.0e-9)"
   ]
  },
  {
   "cell_type": "code",
   "execution_count": 24,
   "id": "6b5ee85e-b7ba-4e36-8322-57530368899e",
   "metadata": {},
   "outputs": [
    {
     "name": "stdout",
     "output_type": "stream",
     "text": [
      "3\n"
     ]
    },
    {
     "data": {
      "image/png": "[encoded data removed]",
      "text/plain": [
       "<Figure size 432x288 with 1 Axes>"
      ]
     },
     "metadata": {
      "needs_background": "light"
     },
     "output_type": "display_data"
    }
   ],
   "source": [
    "gd.fit(X, YB8)\n",
    "print(gd.K)\n",
    "\n",
    "plt.plot(gd.rvals)\n",
    "plt.minorticks_on()\n",
    "plt.show()"
   ]
  },
  {
   "cell_type": "code",
   "execution_count": 21,
   "id": "aae9bdad-944a-491a-84ad-bbdaef53825b",
   "metadata": {},
   "outputs": [],
   "source": [
    "YB8_p = np.sign(nn.evaluate_all(X))"
   ]
  },
  {
   "cell_type": "code",
   "execution_count": 12,
   "id": "8ebe0baf-1923-4319-b062-21eba8ba0cbf",
   "metadata": {},
   "outputs": [
    {
     "name": "stdout",
     "output_type": "stream",
     "text": [
      "1797\n",
      "0\n"
     ]
    }
   ],
   "source": [
    "print(sum(YB8_p == 1.))\n",
    "print(sum(YB8_p != 1.))"
   ]
  },
  {
   "cell_type": "code",
   "execution_count": 13,
   "id": "3f689c06-6244-4a3b-b053-bc56c35a0f72",
   "metadata": {},
   "outputs": [
    {
     "name": "stdout",
     "output_type": "stream",
     "text": [
      "1.0\n",
      "0.0\n"
     ]
    }
   ],
   "source": [
    "print(accuracy_score(YB8[Y == 8], YB8_p[Y == 8]))\n",
    "print(accuracy_score(YB8[Y != 8], YB8_p[Y != 8]))"
   ]
  },
  {
   "cell_type": "code",
   "execution_count": 14,
   "id": "1f20fcb8-d2b6-4187-844a-2ecf8a05b30e",
   "metadata": {},
   "outputs": [
    {
     "data": {
      "text/plain": [
       "array([-1., -1., -1., ...,  1., -1.,  1.])"
      ]
     },
     "execution_count": 14,
     "metadata": {},
     "output_type": "execute_result"
    }
   ],
   "source": [
    "YB8"
   ]
  },
  {
   "cell_type": "code",
   "execution_count": null,
   "id": "8788e5c3-f399-49ed-ae49-2f154b6c1eb0",
   "metadata": {},
   "outputs": [],
   "source": []
  }
 ],
 "metadata": {
  "kernelspec": {
   "display_name": "Python 3 (ipykernel)",
   "language": "python",
   "name": "python3"
  },
  "language_info": {
   "codemirror_mode": {
    "name": "ipython",
    "version": 3
   },
   "file_extension": ".py",
   "mimetype": "text/x-python",
   "name": "python",
   "nbconvert_exporter": "python",
   "pygments_lexer": "ipython3",
   "version": "3.12.6"
  }
 },
 "nbformat": 4,
 "nbformat_minor": 5
}
