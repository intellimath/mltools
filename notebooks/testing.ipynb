{
 "cells": [
  {
   "cell_type": "code",
   "execution_count": 1,
   "id": "02690319-9374-4920-9123-0963f3878da6",
   "metadata": {
    "execution": {
     "iopub.execute_input": "2024-09-30T15:33:24.714657Z",
     "iopub.status.busy": "2024-09-30T15:33:24.713317Z",
     "iopub.status.idle": "2024-09-30T15:33:25.056152Z",
     "shell.execute_reply": "2024-09-30T15:33:25.054696Z",
     "shell.execute_reply.started": "2024-09-30T15:33:24.714512Z"
    }
   },
   "outputs": [],
   "source": [
    "import numpy as np"
   ]
  },
  {
   "cell_type": "code",
   "execution_count": 4,
   "id": "66883e85-131f-4c6b-8770-2b79181c2f0d",
   "metadata": {
    "execution": {
     "iopub.execute_input": "2024-09-30T15:34:40.031394Z",
     "iopub.status.busy": "2024-09-30T15:34:40.030056Z",
     "iopub.status.idle": "2024-09-30T15:34:40.050973Z",
     "shell.execute_reply": "2024-09-30T15:34:40.048322Z",
     "shell.execute_reply.started": "2024-09-30T15:34:40.031272Z"
    }
   },
   "outputs": [
    {
     "name": "stdout",
     "output_type": "stream",
     "text": [
      "140603431082416\n",
      "[[1 2]\n",
      " [3 4]\n",
      " [5 6]]\n",
      "[2 3 4]\n",
      "[[ 2  4]\n",
      " [ 9 12]\n",
      " [20 24]]\n"
     ]
    }
   ],
   "source": [
    "A = np.array([[1,2],[3,4],[5,6]])\n",
    "a = np.array([2,3,4])\n",
    "print(id(a))\n",
    "print(A)\n",
    "print(a)\n",
    "print(A * a[:,None])"
   ]
  },
  {
   "cell_type": "code",
   "execution_count": 5,
   "id": "8d5c0b50-7158-4662-92a0-4657bc5198b8",
   "metadata": {
    "execution": {
     "iopub.execute_input": "2024-09-30T15:34:42.495474Z",
     "iopub.status.busy": "2024-09-30T15:34:42.494542Z",
     "iopub.status.idle": "2024-09-30T15:34:42.508661Z",
     "shell.execute_reply": "2024-09-30T15:34:42.505991Z",
     "shell.execute_reply.started": "2024-09-30T15:34:42.495392Z"
    }
   },
   "outputs": [
    {
     "name": "stdout",
     "output_type": "stream",
     "text": [
      "140603431082416\n",
      "[  2 103 104]\n"
     ]
    }
   ],
   "source": [
    "a[a > 2] += 100\n",
    "print(id(a))\n",
    "print(a)"
   ]
  },
  {
   "cell_type": "code",
   "execution_count": 3,
   "id": "5780a154-21d8-4fe3-935e-f4d134d03a95",
   "metadata": {
    "execution": {
     "iopub.execute_input": "2024-09-22T18:31:58.564474Z",
     "iopub.status.busy": "2024-09-22T18:31:58.563895Z",
     "iopub.status.idle": "2024-09-22T18:31:58.568461Z",
     "shell.execute_reply": "2024-09-22T18:31:58.567751Z",
     "shell.execute_reply.started": "2024-09-22T18:31:58.564450Z"
    }
   },
   "outputs": [
    {
     "name": "stdout",
     "output_type": "stream",
     "text": [
      "[[2 3 4]\n",
      " [2 3 4]\n",
      " [2 3 4]\n",
      " [2 3 4]\n",
      " [2 3 4]]\n"
     ]
    }
   ],
   "source": [
    "print(np.repeat(a[None,:], 5, axis=0))"
   ]
  },
  {
   "cell_type": "code",
   "execution_count": 2,
   "id": "9cb22612-8d52-43a3-84b1-da2216869235",
   "metadata": {},
   "outputs": [],
   "source": [
    "x = np.array([1,1,1], 'd')"
   ]
  },
  {
   "cell_type": "code",
   "execution_count": 5,
   "id": "723d649a-07d4-40d5-9995-803af7bb65f1",
   "metadata": {},
   "outputs": [
    {
     "data": {
      "text/plain": [
       "array([[1., 1., 1.],\n",
       "       [1., 1., 1.],\n",
       "       [1., 1., 1.],\n",
       "       [1., 1., 1.],\n",
       "       [1., 1., 1.],\n",
       "       [1., 1., 1.],\n",
       "       [1., 1., 1.],\n",
       "       [1., 1., 1.],\n",
       "       [1., 1., 1.],\n",
       "       [1., 1., 1.]])"
      ]
     },
     "execution_count": 5,
     "metadata": {},
     "output_type": "execute_result"
    }
   ],
   "source": [
    "np.vstack(tuple(x for i in range(10)))"
   ]
  },
  {
   "cell_type": "code",
   "execution_count": 10,
   "id": "487db6cb-3f10-4b69-babb-a862a7312d3e",
   "metadata": {},
   "outputs": [
    {
     "data": {
      "text/plain": [
       "(dtype('float64'), (10, 3))"
      ]
     },
     "execution_count": 10,
     "metadata": {},
     "output_type": "execute_result"
    }
   ],
   "source": [
    "X = np.fromiter((x for i in range(10)), np.dtype((np.double, 3)), 10)\n",
    "X.dtype, X.shape"
   ]
  },
  {
   "cell_type": "code",
   "execution_count": null,
   "id": "87803cfe-278f-46bb-a152-aaffac6a1160",
   "metadata": {},
   "outputs": [],
   "source": [
    "np.fromiter("
   ]
  },
  {
   "cell_type": "code",
   "execution_count": 13,
   "id": "e8dd2cf3-1503-4d54-8ced-ffa6b38dddf6",
   "metadata": {},
   "outputs": [
    {
     "data": {
      "text/plain": [
       "array([1., 0., 1., 2., 3., 4.])"
      ]
     },
     "execution_count": 13,
     "metadata": {},
     "output_type": "execute_result"
    }
   ],
   "source": [
    "np.hstack((np.array([1],'d'),np.array([0,1,2,3,4],'d')))"
   ]
  },
  {
   "cell_type": "code",
   "execution_count": 15,
   "id": "593485e2-92ab-4ff7-93c1-b6f310daaebb",
   "metadata": {},
   "outputs": [
    {
     "data": {
      "text/plain": [
       "array([[ 1., -1., -1., -1., -1., -1.],\n",
       "       [ 1., -1., -1., -1., -1., -1.],\n",
       "       [ 1., -1., -1., -1., -1., -1.],\n",
       "       [ 1., -1., -1., -1., -1., -1.],\n",
       "       [ 1., -1., -1., -1., -1., -1.],\n",
       "       [ 1., -1., -1., -1., -1., -1.],\n",
       "       [ 1., -1., -1., -1., -1., -1.],\n",
       "       [ 1., -1., -1., -1., -1., -1.],\n",
       "       [ 1., -1., -1., -1., -1., -1.],\n",
       "       [ 1., -1., -1., -1., -1., -1.]])"
      ]
     },
     "execution_count": 15,
     "metadata": {},
     "output_type": "execute_result"
    }
   ],
   "source": [
    "np.hstack((np.ones((10,1),'d'),np.full((10,5),-1,'d')))"
   ]
  },
  {
   "cell_type": "code",
   "execution_count": null,
   "id": "38bcad32-2f00-400b-80b3-1e3664678451",
   "metadata": {},
   "outputs": [],
   "source": []
  },
  {
   "cell_type": "code",
   "execution_count": 3,
   "id": "58df0bfa-a945-4793-be67-b875a78b3569",
   "metadata": {},
   "outputs": [
    {
     "data": {
      "text/plain": [
       "array([[1., 1., 1.],\n",
       "       [2., 2., 2.],\n",
       "       [3., 3., 3.],\n",
       "       [4., 4., 4.],\n",
       "       [5., 5., 5.],\n",
       "       [6., 6., 6.]])"
      ]
     },
     "execution_count": 3,
     "metadata": {},
     "output_type": "execute_result"
    }
   ],
   "source": [
    "np.multiply(np.array([1,2,3,4,5,6], 'd').reshape((6,1)), np.ones((6,3), 'd'))"
   ]
  },
  {
   "cell_type": "code",
   "execution_count": 2,
   "id": "7e0f8735-f9bb-4d0c-b24f-85b1627d1d09",
   "metadata": {
    "execution": {
     "iopub.execute_input": "2023-11-29T10:03:22.415312Z",
     "iopub.status.busy": "2023-11-29T10:03:22.414703Z",
     "iopub.status.idle": "2023-11-29T10:03:22.464899Z",
     "shell.execute_reply": "2023-11-29T10:03:22.464082Z",
     "shell.execute_reply.started": "2023-11-29T10:03:22.415280Z"
    }
   },
   "outputs": [
    {
     "name": "stdout",
     "output_type": "stream",
     "text": [
      "[[1. 1. 1.]\n",
      " [2. 2. 2.]\n",
      " [3. 3. 3.]\n",
      " [4. 4. 4.]\n",
      " [5. 5. 5.]\n",
      " [6. 6. 6.]]\n"
     ]
    }
   ],
   "source": [
    "G = np.ones((6,3), 'd')\n",
    "S = np.array([1,2,3,4,5,6], 'd')\n",
    "G *= S.reshape((-1,1))\n",
    "print(G)"
   ]
  },
  {
   "cell_type": "code",
   "execution_count": 3,
   "id": "67caffd1-7aed-47de-87d7-8fdd9b06355d",
   "metadata": {
    "execution": {
     "iopub.execute_input": "2023-11-29T10:03:24.991228Z",
     "iopub.status.busy": "2023-11-29T10:03:24.990943Z",
     "iopub.status.idle": "2023-11-29T10:03:24.999836Z",
     "shell.execute_reply": "2023-11-29T10:03:24.998969Z",
     "shell.execute_reply.started": "2023-11-29T10:03:24.991203Z"
    }
   },
   "outputs": [
    {
     "data": {
      "text/plain": [
       "array([[ 0,  0,  0],\n",
       "       [ 0,  1,  2],\n",
       "       [ 0,  2,  4],\n",
       "       [ 0,  3,  6],\n",
       "       [ 0,  4,  8],\n",
       "       [ 0,  5, 10]])"
      ]
     },
     "execution_count": 3,
     "metadata": {},
     "output_type": "execute_result"
    }
   ],
   "source": [
    "np.arange(6).reshape(-1,1) @ np.arange(3).reshape(1,-1)"
   ]
  },
  {
   "cell_type": "code",
   "execution_count": 4,
   "id": "ea0a01d5-3618-4638-a584-0be44016b7ce",
   "metadata": {
    "execution": {
     "iopub.execute_input": "2023-11-29T10:04:11.690047Z",
     "iopub.status.busy": "2023-11-29T10:04:11.687856Z",
     "iopub.status.idle": "2023-11-29T10:04:11.703150Z",
     "shell.execute_reply": "2023-11-29T10:04:11.699963Z",
     "shell.execute_reply.started": "2023-11-29T10:04:11.689915Z"
    }
   },
   "outputs": [],
   "source": [
    "S1 = S[1:]"
   ]
  },
  {
   "cell_type": "code",
   "execution_count": 8,
   "id": "07cd0a3e-50ed-40f4-a46d-d65575cc507d",
   "metadata": {
    "execution": {
     "iopub.execute_input": "2023-11-29T10:05:30.671493Z",
     "iopub.status.busy": "2023-11-29T10:05:30.670249Z",
     "iopub.status.idle": "2023-11-29T10:05:30.688479Z",
     "shell.execute_reply": "2023-11-29T10:05:30.685491Z",
     "shell.execute_reply.started": "2023-11-29T10:05:30.671373Z"
    }
   },
   "outputs": [
    {
     "name": "stdout",
     "output_type": "stream",
     "text": [
      "[  1.   2.   3.   4.   5. 100.]\n"
     ]
    }
   ],
   "source": [
    "S1[-1]=100\n",
    "print(S)"
   ]
  },
  {
   "cell_type": "code",
   "execution_count": 12,
   "id": "9acbcaba-b348-4c29-accb-2abfc63a9b6e",
   "metadata": {
    "execution": {
     "iopub.execute_input": "2023-11-29T10:08:12.047345Z",
     "iopub.status.busy": "2023-11-29T10:08:12.046877Z",
     "iopub.status.idle": "2023-11-29T10:08:12.053370Z",
     "shell.execute_reply": "2023-11-29T10:08:12.051677Z",
     "shell.execute_reply.started": "2023-11-29T10:08:12.047305Z"
    }
   },
   "outputs": [],
   "source": [
    "S2 = S.take(range(1,len(S)))"
   ]
  },
  {
   "cell_type": "code",
   "execution_count": 13,
   "id": "ace7d5d4-821f-488f-9f03-4e8b36451dde",
   "metadata": {
    "execution": {
     "iopub.execute_input": "2023-11-29T10:08:24.983395Z",
     "iopub.status.busy": "2023-11-29T10:08:24.982149Z",
     "iopub.status.idle": "2023-11-29T10:08:25.000224Z",
     "shell.execute_reply": "2023-11-29T10:08:24.996765Z",
     "shell.execute_reply.started": "2023-11-29T10:08:24.983276Z"
    }
   },
   "outputs": [
    {
     "name": "stdout",
     "output_type": "stream",
     "text": [
      "[  1.   2.   3.   4.   5. 100.]\n"
     ]
    }
   ],
   "source": [
    "S2[-1]=200\n",
    "print(S)"
   ]
  },
  {
   "cell_type": "code",
   "execution_count": null,
   "id": "bbba3304-aad1-457d-9dd5-1b69c2886661",
   "metadata": {},
   "outputs": [],
   "source": [
    "S."
   ]
  },
  {
   "cell_type": "code",
   "execution_count": 1,
   "id": "8f771abe-eaca-4668-8d8a-bfc75ad93211",
   "metadata": {
    "execution": {
     "iopub.execute_input": "2024-09-21T12:44:35.922275Z",
     "iopub.status.busy": "2024-09-21T12:44:35.921687Z",
     "iopub.status.idle": "2024-09-21T12:44:36.560378Z",
     "shell.execute_reply": "2024-09-21T12:44:36.559666Z",
     "shell.execute_reply.started": "2024-09-21T12:44:35.922237Z"
    }
   },
   "outputs": [],
   "source": [
    "%load_ext cython"
   ]
  },
  {
   "cell_type": "code",
   "execution_count": 2,
   "id": "181a7848-9f64-4a99-b7ad-a768233308f7",
   "metadata": {
    "execution": {
     "iopub.execute_input": "2024-09-21T12:44:45.522950Z",
     "iopub.status.busy": "2024-09-21T12:44:45.521784Z",
     "iopub.status.idle": "2024-09-21T12:44:45.707244Z",
     "shell.execute_reply": "2024-09-21T12:44:45.706572Z",
     "shell.execute_reply.started": "2024-09-21T12:44:45.522906Z"
    }
   },
   "outputs": [],
   "source": [
    "import numpy as np"
   ]
  },
  {
   "cell_type": "code",
   "execution_count": 19,
   "id": "21eb40d8-cfc0-4b35-ae24-7964bf6a702b",
   "metadata": {
    "execution": {
     "iopub.execute_input": "2024-09-21T12:55:19.473440Z",
     "iopub.status.busy": "2024-09-21T12:55:19.471402Z",
     "iopub.status.idle": "2024-09-21T12:55:25.802437Z",
     "shell.execute_reply": "2024-09-21T12:55:25.801684Z",
     "shell.execute_reply.started": "2024-09-21T12:55:19.473383Z"
    }
   },
   "outputs": [
    {
     "name": "stdout",
     "output_type": "stream",
     "text": [
      "Content of stderr:\n",
      "In file included from /usr/lib/python3/dist-packages/numpy/core/include/numpy/ndarraytypes.h:1929,\n",
      "                 from /usr/lib/python3/dist-packages/numpy/core/include/numpy/ndarrayobject.h:12,\n",
      "                 from /usr/lib/python3/dist-packages/numpy/core/include/numpy/arrayobject.h:5,\n",
      "                 from /home/intellimath/.cache/ipython/cython/_cython_magic_b37bd5c9ffbf04a8e2d297f8ac435c8fff9294e1.c:1265:\n",
      "/usr/lib/python3/dist-packages/numpy/core/include/numpy/npy_1_7_deprecated_api.h:17:2: warning: #warning \"Using deprecated NumPy API, disable it with \" \"#define NPY_NO_DEPRECATED_API NPY_1_7_API_VERSION\" [-Wcpp]\n",
      "   17 | #warning \"Using deprecated NumPy API, disable it with \" \\\n",
      "      |  ^~~~~~~\n",
      "1\n",
      "0\n"
     ]
    }
   ],
   "source": [
    "%%cython\n",
    "import numpy as np\n",
    "cimport numpy as np\n",
    "b = np.array([True, False])\n",
    "\n",
    "\n",
    "cdef np.npy_bool[::1] bb = b\n",
    "cdef int i\n",
    "\n",
    "print()\n",
    "for i in range(2):\n",
    "    # print(type(b[i]))\n",
    "    print(bb[i])\n"
   ]
  },
  {
   "cell_type": "code",
   "execution_count": null,
   "id": "91754617-287a-40d4-8778-23458e4999ac",
   "metadata": {},
   "outputs": [],
   "source": []
  }
 ],
 "metadata": {
  "kernelspec": {
   "display_name": "Python 3 (ipykernel)",
   "language": "python",
   "name": "python3"
  },
  "language_info": {
   "codemirror_mode": {
    "name": "ipython",
    "version": 3
   },
   "file_extension": ".py",
   "mimetype": "text/x-python",
   "name": "python",
   "nbconvert_exporter": "python",
   "pygments_lexer": "ipython3",
   "version": "3.12.6"
  }
 },
 "nbformat": 4,
 "nbformat_minor": 5
}
