{
 "cells": [
  {
   "cell_type": "code",
   "execution_count": 1,
   "id": "fae68092-c5b7-4b2d-a678-4089eca330f6",
   "metadata": {},
   "outputs": [],
   "source": [
    "import python_inventory as pyinv\n",
    "import numpy as np\n",
    "import matplotlib.pyplot as plt\n",
    "import pandas as pd"
   ]
  },
  {
   "cell_type": "code",
   "execution_count": 2,
   "id": "37183332-5b7f-4c8e-ae52-1aedf9f8f45d",
   "metadata": {},
   "outputs": [
    {
     "data": {
      "text/html": [
       "<div>\n",
       "<style scoped>\n",
       "    .dataframe tbody tr th:only-of-type {\n",
       "        vertical-align: middle;\n",
       "    }\n",
       "\n",
       "    .dataframe tbody tr th {\n",
       "        vertical-align: top;\n",
       "    }\n",
       "\n",
       "    .dataframe thead th {\n",
       "        text-align: right;\n",
       "    }\n",
       "</style>\n",
       "<table border=\"1\" class=\"dataframe\">\n",
       "  <thead>\n",
       "    <tr style=\"text-align: right;\">\n",
       "      <th></th>\n",
       "      <th>log.Te</th>\n",
       "      <th>log.light</th>\n",
       "    </tr>\n",
       "    <tr>\n",
       "      <th>id</th>\n",
       "      <th></th>\n",
       "      <th></th>\n",
       "    </tr>\n",
       "  </thead>\n",
       "  <tbody>\n",
       "    <tr>\n",
       "      <th>1</th>\n",
       "      <td>4.37</td>\n",
       "      <td>5.23</td>\n",
       "    </tr>\n",
       "    <tr>\n",
       "      <th>2</th>\n",
       "      <td>4.56</td>\n",
       "      <td>5.74</td>\n",
       "    </tr>\n",
       "    <tr>\n",
       "      <th>3</th>\n",
       "      <td>4.26</td>\n",
       "      <td>4.93</td>\n",
       "    </tr>\n",
       "    <tr>\n",
       "      <th>4</th>\n",
       "      <td>4.56</td>\n",
       "      <td>5.74</td>\n",
       "    </tr>\n",
       "    <tr>\n",
       "      <th>5</th>\n",
       "      <td>4.30</td>\n",
       "      <td>5.19</td>\n",
       "    </tr>\n",
       "    <tr>\n",
       "      <th>6</th>\n",
       "      <td>4.46</td>\n",
       "      <td>5.46</td>\n",
       "    </tr>\n",
       "    <tr>\n",
       "      <th>7</th>\n",
       "      <td>3.84</td>\n",
       "      <td>4.65</td>\n",
       "    </tr>\n",
       "    <tr>\n",
       "      <th>8</th>\n",
       "      <td>4.57</td>\n",
       "      <td>5.27</td>\n",
       "    </tr>\n",
       "    <tr>\n",
       "      <th>9</th>\n",
       "      <td>4.26</td>\n",
       "      <td>5.57</td>\n",
       "    </tr>\n",
       "    <tr>\n",
       "      <th>10</th>\n",
       "      <td>4.37</td>\n",
       "      <td>5.12</td>\n",
       "    </tr>\n",
       "    <tr>\n",
       "      <th>11</th>\n",
       "      <td>3.49</td>\n",
       "      <td>5.73</td>\n",
       "    </tr>\n",
       "    <tr>\n",
       "      <th>12</th>\n",
       "      <td>4.43</td>\n",
       "      <td>5.45</td>\n",
       "    </tr>\n",
       "    <tr>\n",
       "      <th>13</th>\n",
       "      <td>4.48</td>\n",
       "      <td>5.42</td>\n",
       "    </tr>\n",
       "    <tr>\n",
       "      <th>14</th>\n",
       "      <td>4.01</td>\n",
       "      <td>4.05</td>\n",
       "    </tr>\n",
       "    <tr>\n",
       "      <th>15</th>\n",
       "      <td>4.29</td>\n",
       "      <td>4.26</td>\n",
       "    </tr>\n",
       "    <tr>\n",
       "      <th>16</th>\n",
       "      <td>4.42</td>\n",
       "      <td>4.58</td>\n",
       "    </tr>\n",
       "    <tr>\n",
       "      <th>17</th>\n",
       "      <td>4.23</td>\n",
       "      <td>3.94</td>\n",
       "    </tr>\n",
       "    <tr>\n",
       "      <th>18</th>\n",
       "      <td>4.42</td>\n",
       "      <td>4.18</td>\n",
       "    </tr>\n",
       "    <tr>\n",
       "      <th>19</th>\n",
       "      <td>4.23</td>\n",
       "      <td>4.18</td>\n",
       "    </tr>\n",
       "    <tr>\n",
       "      <th>20</th>\n",
       "      <td>3.49</td>\n",
       "      <td>5.89</td>\n",
       "    </tr>\n",
       "    <tr>\n",
       "      <th>21</th>\n",
       "      <td>4.29</td>\n",
       "      <td>4.38</td>\n",
       "    </tr>\n",
       "    <tr>\n",
       "      <th>22</th>\n",
       "      <td>4.29</td>\n",
       "      <td>4.22</td>\n",
       "    </tr>\n",
       "    <tr>\n",
       "      <th>23</th>\n",
       "      <td>4.42</td>\n",
       "      <td>4.42</td>\n",
       "    </tr>\n",
       "    <tr>\n",
       "      <th>24</th>\n",
       "      <td>4.49</td>\n",
       "      <td>4.85</td>\n",
       "    </tr>\n",
       "    <tr>\n",
       "      <th>25</th>\n",
       "      <td>4.38</td>\n",
       "      <td>5.02</td>\n",
       "    </tr>\n",
       "    <tr>\n",
       "      <th>26</th>\n",
       "      <td>4.42</td>\n",
       "      <td>4.66</td>\n",
       "    </tr>\n",
       "    <tr>\n",
       "      <th>27</th>\n",
       "      <td>4.29</td>\n",
       "      <td>4.66</td>\n",
       "    </tr>\n",
       "    <tr>\n",
       "      <th>28</th>\n",
       "      <td>4.38</td>\n",
       "      <td>4.90</td>\n",
       "    </tr>\n",
       "    <tr>\n",
       "      <th>29</th>\n",
       "      <td>4.22</td>\n",
       "      <td>4.39</td>\n",
       "    </tr>\n",
       "    <tr>\n",
       "      <th>30</th>\n",
       "      <td>3.48</td>\n",
       "      <td>6.05</td>\n",
       "    </tr>\n",
       "    <tr>\n",
       "      <th>31</th>\n",
       "      <td>4.38</td>\n",
       "      <td>4.42</td>\n",
       "    </tr>\n",
       "    <tr>\n",
       "      <th>32</th>\n",
       "      <td>4.56</td>\n",
       "      <td>5.10</td>\n",
       "    </tr>\n",
       "    <tr>\n",
       "      <th>33</th>\n",
       "      <td>4.45</td>\n",
       "      <td>5.22</td>\n",
       "    </tr>\n",
       "    <tr>\n",
       "      <th>34</th>\n",
       "      <td>3.49</td>\n",
       "      <td>6.29</td>\n",
       "    </tr>\n",
       "    <tr>\n",
       "      <th>35</th>\n",
       "      <td>4.23</td>\n",
       "      <td>4.34</td>\n",
       "    </tr>\n",
       "    <tr>\n",
       "      <th>36</th>\n",
       "      <td>4.62</td>\n",
       "      <td>5.62</td>\n",
       "    </tr>\n",
       "    <tr>\n",
       "      <th>37</th>\n",
       "      <td>4.53</td>\n",
       "      <td>5.10</td>\n",
       "    </tr>\n",
       "    <tr>\n",
       "      <th>38</th>\n",
       "      <td>4.45</td>\n",
       "      <td>5.22</td>\n",
       "    </tr>\n",
       "    <tr>\n",
       "      <th>39</th>\n",
       "      <td>4.53</td>\n",
       "      <td>5.18</td>\n",
       "    </tr>\n",
       "    <tr>\n",
       "      <th>40</th>\n",
       "      <td>4.43</td>\n",
       "      <td>5.57</td>\n",
       "    </tr>\n",
       "    <tr>\n",
       "      <th>41</th>\n",
       "      <td>4.38</td>\n",
       "      <td>4.62</td>\n",
       "    </tr>\n",
       "    <tr>\n",
       "      <th>42</th>\n",
       "      <td>4.45</td>\n",
       "      <td>5.06</td>\n",
       "    </tr>\n",
       "    <tr>\n",
       "      <th>43</th>\n",
       "      <td>4.50</td>\n",
       "      <td>5.34</td>\n",
       "    </tr>\n",
       "    <tr>\n",
       "      <th>44</th>\n",
       "      <td>4.45</td>\n",
       "      <td>5.34</td>\n",
       "    </tr>\n",
       "    <tr>\n",
       "      <th>45</th>\n",
       "      <td>4.55</td>\n",
       "      <td>5.54</td>\n",
       "    </tr>\n",
       "    <tr>\n",
       "      <th>46</th>\n",
       "      <td>4.45</td>\n",
       "      <td>4.98</td>\n",
       "    </tr>\n",
       "    <tr>\n",
       "      <th>47</th>\n",
       "      <td>4.42</td>\n",
       "      <td>4.50</td>\n",
       "    </tr>\n",
       "  </tbody>\n",
       "</table>\n",
       "</div>"
      ],
      "text/plain": [
       "    log.Te  log.light\n",
       "id                   \n",
       "1     4.37       5.23\n",
       "2     4.56       5.74\n",
       "3     4.26       4.93\n",
       "4     4.56       5.74\n",
       "5     4.30       5.19\n",
       "6     4.46       5.46\n",
       "7     3.84       4.65\n",
       "8     4.57       5.27\n",
       "9     4.26       5.57\n",
       "10    4.37       5.12\n",
       "11    3.49       5.73\n",
       "12    4.43       5.45\n",
       "13    4.48       5.42\n",
       "14    4.01       4.05\n",
       "15    4.29       4.26\n",
       "16    4.42       4.58\n",
       "17    4.23       3.94\n",
       "18    4.42       4.18\n",
       "19    4.23       4.18\n",
       "20    3.49       5.89\n",
       "21    4.29       4.38\n",
       "22    4.29       4.22\n",
       "23    4.42       4.42\n",
       "24    4.49       4.85\n",
       "25    4.38       5.02\n",
       "26    4.42       4.66\n",
       "27    4.29       4.66\n",
       "28    4.38       4.90\n",
       "29    4.22       4.39\n",
       "30    3.48       6.05\n",
       "31    4.38       4.42\n",
       "32    4.56       5.10\n",
       "33    4.45       5.22\n",
       "34    3.49       6.29\n",
       "35    4.23       4.34\n",
       "36    4.62       5.62\n",
       "37    4.53       5.10\n",
       "38    4.45       5.22\n",
       "39    4.53       5.18\n",
       "40    4.43       5.57\n",
       "41    4.38       4.62\n",
       "42    4.45       5.06\n",
       "43    4.50       5.34\n",
       "44    4.45       5.34\n",
       "45    4.55       5.54\n",
       "46    4.45       4.98\n",
       "47    4.42       4.50"
      ]
     },
     "execution_count": 2,
     "metadata": {},
     "output_type": "execute_result"
    }
   ],
   "source": [
    "df = pd.read_csv(\"data/starsCYG.csv\", index_col='id')\n",
    "df"
   ]
  },
  {
   "cell_type": "code",
   "execution_count": 4,
   "id": "e592228a-fd06-4c7a-99b1-baa53a113ac7",
   "metadata": {},
   "outputs": [],
   "source": [
    "log_Te = df['log.Te'].values\n",
    "log_light = df['log.light'].values"
   ]
  },
  {
   "cell_type": "code",
   "execution_count": 5,
   "id": "aeef7422-ceeb-415e-a5d0-a0061fc702b2",
   "metadata": {},
   "outputs": [
    {
     "data": {
      "image/png": "[encoded data removed]",
      "text/plain": [
       "<Figure size 432x288 with 1 Axes>"
      ]
     },
     "metadata": {
      "needs_background": "light"
     },
     "output_type": "display_data"
    }
   ],
   "source": [
    "plt.scatter(log_Te, log_light, c='w', edgecolors='k')\n",
    "plt.xlabel('log_Te')\n",
    "plt.ylabel('log_light')\n",
    "plt.show()"
   ]
  },
  {
   "cell_type": "code",
   "execution_count": 6,
   "id": "1550ca87-8afa-4d21-a632-a09fe172ba95",
   "metadata": {},
   "outputs": [],
   "source": [
    "X = np.c_[log_Te, log_light]\n",
    "Y = np.zeros(len(log_Te), 'd')"
   ]
  },
  {
   "cell_type": "code",
   "execution_count": 7,
   "id": "b08f84bf-a979-4979-a292-798d863efaf1",
   "metadata": {},
   "outputs": [],
   "source": [
    "loss_func = pyinv.ErrorLoss(pyinv.Square())"
   ]
  },
  {
   "cell_type": "code",
   "execution_count": 8,
   "id": "468129b0-74cf-453a-a654-c0d5078e5914",
   "metadata": {},
   "outputs": [],
   "source": [
    "line10 = pyinv.TLinearModel(1)\n",
    "line10.init_param()"
   ]
  },
  {
   "cell_type": "code",
   "execution_count": 9,
   "id": "cf17b46d-8f30-4f5c-8cab-13d054b61d2c",
   "metadata": {},
   "outputs": [
    {
     "data": {
      "image/png": "[encoded data removed]",
      "text/plain": [
       "<Figure size 432x288 with 1 Axes>"
      ]
     },
     "metadata": {
      "needs_background": "light"
     },
     "output_type": "display_data"
    }
   ],
   "source": [
    "risk1 = pyinv.Risk(line10, loss_func)\n",
    "gd1 = pyinv.GradientDescent(risk1, n_iter=2000)\n",
    "gd1.fit(X, Y)\n",
    "\n",
    "line1 = pyinv.LinearModel(1, line10.param)\n",
    "\n",
    "plt.plot(gd1.rvals)\n",
    "plt.show()"
   ]
  },
  {
   "cell_type": "code",
   "execution_count": 10,
   "id": "a482fa33-f56b-432a-abb7-8961622e3a12",
   "metadata": {},
   "outputs": [
    {
     "data": {
      "image/png": "[encoded data removed]",
      "text/plain": [
       "<Figure size 432x288 with 1 Axes>"
      ]
     },
     "metadata": {
      "needs_background": "light"
     },
     "output_type": "display_data"
    }
   ],
   "source": [
    "plt.scatter(log_Te, log_light, c='w', edgecolors='k')\n",
    "XX = np.array([[3.0],[5.0]])\n",
    "plt.plot([3.0, 5.0], line1.evaluate_all(XX), label='LS+PP')\n",
    "plt.xlabel('log_Te')\n",
    "plt.ylabel('log_light')\n",
    "plt.legend()\n",
    "plt.show()"
   ]
  },
  {
   "cell_type": "code",
   "execution_count": 44,
   "id": "2249a5a9-76ad-4366-bd48-c26b1fde0316",
   "metadata": {},
   "outputs": [],
   "source": [
    "line20 = pyinv.TLinearModel(1)\n",
    "line20.init_param()"
   ]
  },
  {
   "cell_type": "code",
   "execution_count": 51,
   "id": "0030dc18-ba05-4643-9ab6-14b948bebff7",
   "metadata": {},
   "outputs": [
    {
     "data": {
      "image/png": "[encoded data removed]",
      "text/plain": [
       "<Figure size 432x288 with 1 Axes>"
      ]
     },
     "metadata": {
      "needs_background": "light"
     },
     "output_type": "display_data"
    }
   ],
   "source": [
    "agg = pyinv.WMMean(pyinv.SoftQuantileFunc(pyinv.SoftAbs(0.001), 0.84))\n",
    "risk2 = pyinv.Risk(line20, loss_func, agg=agg)\n",
    "gd2 = pyinv.GradientDescent(risk2, n_iter=2000)\n",
    "gd2.fit(X,Y)\n",
    "\n",
    "line2 = pyinv.LinearModel(1, line20.param)\n",
    "\n",
    "plt.plot(gd2.rvals)\n",
    "plt.show()"
   ]
  },
  {
   "cell_type": "code",
   "execution_count": 52,
   "id": "5d011087-2315-4f93-96c9-9a88c6111dfa",
   "metadata": {},
   "outputs": [
    {
     "data": {
      "image/png": "[encoded data removed]",
      "text/plain": [
       "<Figure size 432x288 with 1 Axes>"
      ]
     },
     "metadata": {
      "needs_background": "light"
     },
     "output_type": "display_data"
    }
   ],
   "source": [
    "plt.scatter(log_Te, log_light, c='w', edgecolors='k')\n",
    "XX = np.array([[3.0],[5.0]])\n",
    "plt.plot([3.0, 5.0], line2.evaluate_all(XX), label='LS+PP+WW')\n",
    "plt.xlabel('log_Te')\n",
    "plt.ylabel('log_light')\n",
    "plt.legend()\n",
    "plt.show()"
   ]
  },
  {
   "cell_type": "code",
   "execution_count": 21,
   "id": "4c021103-d8a0-4625-84ef-15d345c7036c",
   "metadata": {},
   "outputs": [],
   "source": [
    "X1 = log_Te\n",
    "X1s = X1.reshape(-1,1)\n",
    "Y1 = log_light"
   ]
  },
  {
   "cell_type": "code",
   "execution_count": 22,
   "id": "04a52a4c-265d-4e07-b707-7cd58abd74d5",
   "metadata": {},
   "outputs": [],
   "source": [
    "line3 = pyinv.LinearModel(1)\n",
    "line3.init_param()"
   ]
  },
  {
   "cell_type": "code",
   "execution_count": 23,
   "id": "58d76167-2563-4c5b-be0f-0c87bc21e794",
   "metadata": {},
   "outputs": [
    {
     "data": {
      "image/png": "[encoded data removed]",
      "text/plain": [
       "<Figure size 432x288 with 1 Axes>"
      ]
     },
     "metadata": {
      "needs_background": "light"
     },
     "output_type": "display_data"
    }
   ],
   "source": [
    "risk3 = pyinv.Risk(line3, loss_func)\n",
    "gd3 = pyinv.GradientDescent(risk3, n_iter=2000)\n",
    "gd3.fit(X1s,Y1)\n",
    "\n",
    "plt.plot(gd3.rvals)\n",
    "plt.show()"
   ]
  },
  {
   "cell_type": "code",
   "execution_count": 53,
   "id": "dc6212ac-cf0f-4938-8cb5-ce193896264b",
   "metadata": {},
   "outputs": [
    {
     "data": {
      "image/png": "[encoded data removed]",
      "text/plain": [
       "<Figure size 432x288 with 1 Axes>"
      ]
     },
     "metadata": {
      "needs_background": "light"
     },
     "output_type": "display_data"
    }
   ],
   "source": [
    "plt.scatter(log_Te, log_light, c='w', edgecolors='k')\n",
    "XX = np.array([[3.0],[5.0]])\n",
    "plt.plot([3.0, 5.0], line3.evaluate_all(XX), label='LS')\n",
    "plt.xlabel('log_Te')\n",
    "plt.ylabel('log_light')\n",
    "plt.legend()\n",
    "plt.show()"
   ]
  },
  {
   "cell_type": "code",
   "execution_count": 54,
   "id": "d9ad15d2-fc66-49fa-a87f-c7d9b89d2826",
   "metadata": {},
   "outputs": [
    {
     "data": {
      "image/png": "[encoded data removed]",
      "text/plain": [
       "<Figure size 432x288 with 1 Axes>"
      ]
     },
     "metadata": {
      "needs_background": "light"
     },
     "output_type": "display_data"
    }
   ],
   "source": [
    "plt.scatter(log_Te, log_light, c='w', edgecolors='k')\n",
    "XX = np.array([[3.0],[5.0]])\n",
    "plt.plot([3.0, 5.0], line1.evaluate_all(XX), label='LS+PP')\n",
    "plt.plot([3.0, 5.0], line2.evaluate_all(XX), label='LS+PP+WW')\n",
    "plt.plot([3.0, 5.0], line3.evaluate_all(XX), label='LS')\n",
    "plt.xlabel('log_Te')\n",
    "plt.ylabel('log_light')\n",
    "plt.legend()\n",
    "plt.show()"
   ]
  },
  {
   "cell_type": "code",
   "execution_count": null,
   "id": "d8ab0180-de27-4784-a2d0-2be8840fb9ee",
   "metadata": {},
   "outputs": [],
   "source": []
  },
  {
   "cell_type": "code",
   "execution_count": null,
   "id": "b6137f5e-1886-499b-a555-4f16df12241d",
   "metadata": {},
   "outputs": [],
   "source": []
  }
 ],
 "metadata": {
  "kernelspec": {
   "display_name": "Python 3 (ipykernel)",
   "language": "python",
   "name": "python3"
  },
  "language_info": {
   "codemirror_mode": {
    "name": "ipython",
    "version": 3
   },
   "file_extension": ".py",
   "mimetype": "text/x-python",
   "name": "python",
   "nbconvert_exporter": "python",
   "pygments_lexer": "ipython3",
   "version": "3.12.6"
  }
 },
 "nbformat": 4,
 "nbformat_minor": 5
}
