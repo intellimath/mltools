{
 "cells": [
  {
   "cell_type": "code",
   "execution_count": 3,
   "id": "1d24f0d5-2e0d-4f86-b28f-ac8de55e0409",
   "metadata": {
    "execution": {
     "iopub.execute_input": "2024-12-11T17:05:07.480714Z",
     "iopub.status.busy": "2024-12-11T17:05:07.479988Z",
     "iopub.status.idle": "2024-12-11T17:05:08.921328Z",
     "shell.execute_reply": "2024-12-11T17:05:08.920537Z",
     "shell.execute_reply.started": "2024-12-11T17:05:07.480650Z"
    }
   },
   "outputs": [],
   "source": [
    "import numpy as np\n",
    "import pandas as pd\n",
    "import matplotlib.pyplot as plt\n",
    "\n",
    "import mltools.pca as pca\n",
    "import mltools.location_scatter as loc\n",
    "import mltools.plots as plots\n",
    "import mltools.aggfuncs as aggfuncs\n",
    "import mltools.funcs as funcs\n",
    "from mltools.scores import modified_zscore"
   ]
  },
  {
   "cell_type": "code",
   "execution_count": 4,
   "id": "f8b9dc3e-9995-44de-afb3-28ec3bf525b7",
   "metadata": {
    "execution": {
     "iopub.execute_input": "2024-12-11T17:05:08.923329Z",
     "iopub.status.busy": "2024-12-11T17:05:08.922848Z",
     "iopub.status.idle": "2024-12-11T17:05:08.955394Z",
     "shell.execute_reply": "2024-12-11T17:05:08.953024Z",
     "shell.execute_reply.started": "2024-12-11T17:05:08.923302Z"
    }
   },
   "outputs": [
    {
     "data": {
      "text/html": [
       "<div>\n",
       "<style scoped>\n",
       "    .dataframe tbody tr th:only-of-type {\n",
       "        vertical-align: middle;\n",
       "    }\n",
       "\n",
       "    .dataframe tbody tr th {\n",
       "        vertical-align: top;\n",
       "    }\n",
       "\n",
       "    .dataframe thead th {\n",
       "        text-align: right;\n",
       "    }\n",
       "</style>\n",
       "<table border=\"1\" class=\"dataframe\">\n",
       "  <thead>\n",
       "    <tr style=\"text-align: right;\">\n",
       "      <th></th>\n",
       "      <th>heelstick</th>\n",
       "      <th>catheter</th>\n",
       "    </tr>\n",
       "  </thead>\n",
       "  <tbody>\n",
       "    <tr>\n",
       "      <th>0</th>\n",
       "      <td>23.0</td>\n",
       "      <td>25.2</td>\n",
       "    </tr>\n",
       "    <tr>\n",
       "      <th>1</th>\n",
       "      <td>33.2</td>\n",
       "      <td>26.0</td>\n",
       "    </tr>\n",
       "    <tr>\n",
       "      <th>2</th>\n",
       "      <td>16.6</td>\n",
       "      <td>16.3</td>\n",
       "    </tr>\n",
       "    <tr>\n",
       "      <th>3</th>\n",
       "      <td>26.3</td>\n",
       "      <td>27.2</td>\n",
       "    </tr>\n",
       "    <tr>\n",
       "      <th>4</th>\n",
       "      <td>20.0</td>\n",
       "      <td>23.2</td>\n",
       "    </tr>\n",
       "    <tr>\n",
       "      <th>5</th>\n",
       "      <td>20.0</td>\n",
       "      <td>18.1</td>\n",
       "    </tr>\n",
       "    <tr>\n",
       "      <th>6</th>\n",
       "      <td>20.6</td>\n",
       "      <td>22.2</td>\n",
       "    </tr>\n",
       "    <tr>\n",
       "      <th>7</th>\n",
       "      <td>18.9</td>\n",
       "      <td>17.2</td>\n",
       "    </tr>\n",
       "    <tr>\n",
       "      <th>8</th>\n",
       "      <td>17.8</td>\n",
       "      <td>18.8</td>\n",
       "    </tr>\n",
       "    <tr>\n",
       "      <th>9</th>\n",
       "      <td>20.0</td>\n",
       "      <td>16.4</td>\n",
       "    </tr>\n",
       "    <tr>\n",
       "      <th>10</th>\n",
       "      <td>26.4</td>\n",
       "      <td>24.8</td>\n",
       "    </tr>\n",
       "    <tr>\n",
       "      <th>11</th>\n",
       "      <td>21.8</td>\n",
       "      <td>26.8</td>\n",
       "    </tr>\n",
       "    <tr>\n",
       "      <th>12</th>\n",
       "      <td>14.9</td>\n",
       "      <td>15.4</td>\n",
       "    </tr>\n",
       "    <tr>\n",
       "      <th>13</th>\n",
       "      <td>17.4</td>\n",
       "      <td>14.9</td>\n",
       "    </tr>\n",
       "    <tr>\n",
       "      <th>14</th>\n",
       "      <td>20.0</td>\n",
       "      <td>18.1</td>\n",
       "    </tr>\n",
       "    <tr>\n",
       "      <th>15</th>\n",
       "      <td>13.2</td>\n",
       "      <td>16.3</td>\n",
       "    </tr>\n",
       "    <tr>\n",
       "      <th>16</th>\n",
       "      <td>28.4</td>\n",
       "      <td>31.3</td>\n",
       "    </tr>\n",
       "    <tr>\n",
       "      <th>17</th>\n",
       "      <td>25.9</td>\n",
       "      <td>31.2</td>\n",
       "    </tr>\n",
       "    <tr>\n",
       "      <th>18</th>\n",
       "      <td>18.9</td>\n",
       "      <td>18.0</td>\n",
       "    </tr>\n",
       "    <tr>\n",
       "      <th>19</th>\n",
       "      <td>13.8</td>\n",
       "      <td>15.6</td>\n",
       "    </tr>\n",
       "  </tbody>\n",
       "</table>\n",
       "</div>"
      ],
      "text/plain": [
       "    heelstick  catheter\n",
       "0        23.0      25.2\n",
       "1        33.2      26.0\n",
       "2        16.6      16.3\n",
       "3        26.3      27.2\n",
       "4        20.0      23.2\n",
       "5        20.0      18.1\n",
       "6        20.6      22.2\n",
       "7        18.9      17.2\n",
       "8        17.8      18.8\n",
       "9        20.0      16.4\n",
       "10       26.4      24.8\n",
       "11       21.8      26.8\n",
       "12       14.9      15.4\n",
       "13       17.4      14.9\n",
       "14       20.0      18.1\n",
       "15       13.2      16.3\n",
       "16       28.4      31.3\n",
       "17       25.9      31.2\n",
       "18       18.9      18.0\n",
       "19       13.8      15.6"
      ]
     },
     "execution_count": 4,
     "metadata": {},
     "output_type": "execute_result"
    }
   ],
   "source": [
    "df = pd.read_csv(\"data/kelly1984.csv\", sep=',')\n",
    "df"
   ]
  },
  {
   "cell_type": "code",
   "execution_count": 5,
   "id": "7b72399a-58c3-4769-be91-bcd266675bbf",
   "metadata": {
    "execution": {
     "iopub.execute_input": "2024-12-11T17:05:08.960549Z",
     "iopub.status.busy": "2024-12-11T17:05:08.959903Z",
     "iopub.status.idle": "2024-12-11T17:05:08.972036Z",
     "shell.execute_reply": "2024-12-11T17:05:08.969207Z",
     "shell.execute_reply.started": "2024-12-11T17:05:08.960491Z"
    }
   },
   "outputs": [],
   "source": [
    "X0 = df.values\n",
    "N = len(X0)\n",
    "W = X0[:,0].max() - X0[:,0].min()\n",
    "H = X0[:,1].max() - X0[:,1].min()\n",
    "W /= 4\n",
    "H /= 4"
   ]
  },
  {
   "cell_type": "code",
   "execution_count": 6,
   "id": "3761dbb9-c8ab-40f6-a09c-09648f5039fa",
   "metadata": {
    "execution": {
     "iopub.execute_input": "2024-12-11T17:05:10.027476Z",
     "iopub.status.busy": "2024-12-11T17:05:10.026709Z",
     "iopub.status.idle": "2024-12-11T17:05:10.038728Z",
     "shell.execute_reply": "2024-12-11T17:05:10.035912Z",
     "shell.execute_reply.started": "2024-12-11T17:05:10.027392Z"
    }
   },
   "outputs": [
    {
     "name": "stdout",
     "output_type": "stream",
     "text": [
      "0.85\n"
     ]
    }
   ],
   "source": [
    "alpha = (N-3)/N\n",
    "print(alpha)"
   ]
  },
  {
   "cell_type": "code",
   "execution_count": 7,
   "id": "f4156f8c-c44f-4c5d-a7a3-5303d8429868",
   "metadata": {
    "execution": {
     "iopub.execute_input": "2024-12-11T17:05:11.025769Z",
     "iopub.status.busy": "2024-12-11T17:05:11.024907Z",
     "iopub.status.idle": "2024-12-11T17:05:11.405686Z",
     "shell.execute_reply": "2024-12-11T17:05:11.404799Z",
     "shell.execute_reply.started": "2024-12-11T17:05:11.025700Z"
    }
   },
   "outputs": [
    {
     "data": {
      "image/png": "[encoded data removed]",
      "text/plain": [
       "<Figure size 500x410 with 1 Axes>"
      ]
     },
     "metadata": {},
     "output_type": "display_data"
    }
   ],
   "source": [
    "plt.figure(figsize=(W,H))\n",
    "plt.scatter(X0[:,0], X0[:,1], c='w', s=25, edgecolors='k')\n",
    "plt.show()"
   ]
  },
  {
   "cell_type": "code",
   "execution_count": null,
   "id": "e1897881-0607-4145-bb43-573cde3d991b",
   "metadata": {},
   "outputs": [],
   "source": []
  }
 ],
 "metadata": {
  "kernelspec": {
   "display_name": "Python 3 (ipykernel)",
   "language": "python",
   "name": "python3"
  },
  "language_info": {
   "codemirror_mode": {
    "name": "ipython",
    "version": 3
   },
   "file_extension": ".py",
   "mimetype": "text/x-python",
   "name": "python",
   "nbconvert_exporter": "python",
   "pygments_lexer": "ipython3",
   "version": "3.12.8"
  }
 },
 "nbformat": 4,
 "nbformat_minor": 5
}
