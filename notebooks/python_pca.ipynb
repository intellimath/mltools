{
 "cells": [
  {
   "cell_type": "markdown",
   "id": "2569154f-05d2-4f4d-8563-6b3bc45775f6",
   "metadata": {},
   "source": [
    "# Метод главных компонент"
   ]
  },
  {
   "cell_type": "markdown",
   "id": "e68fa386-c712-40d1-b9ac-6f1c84cde83c",
   "metadata": {},
   "source": [
    "$$\n",
    "Q(a_0,a_1,\\dots,a_m) = \\sum_{k=1}^N \\left( \n",
    "\\|x_k - a_0\\| - \\sum_{j=1}^m (a_j, x_k - a_0)^2 \\right)\n",
    "$$"
   ]
  },
  {
   "cell_type": "code",
   "execution_count": 1,
   "id": "652a93e7-1e84-45b7-8109-812e68f192d6",
   "metadata": {},
   "outputs": [
    {
     "data": {
      "text/plain": [
       "<contextlib._GeneratorContextManager at 0x7f0a09b578e0>"
      ]
     },
     "execution_count": 1,
     "metadata": {},
     "output_type": "execute_result"
    }
   ],
   "source": [
    "import pandas as pd\n",
    "import numpy as np\n",
    "import matplotlib.pyplot as plt\n",
    "\n",
    "np.printoptions(precision=3)"
   ]
  },
  {
   "cell_type": "code",
   "execution_count": 2,
   "id": "f485b36c-cafb-4d5d-aa1b-b6f37736bd38",
   "metadata": {},
   "outputs": [
    {
     "data": {
      "text/html": [
       "<div>\n",
       "<style scoped>\n",
       "    .dataframe tbody tr th:only-of-type {\n",
       "        vertical-align: middle;\n",
       "    }\n",
       "\n",
       "    .dataframe tbody tr th {\n",
       "        vertical-align: top;\n",
       "    }\n",
       "\n",
       "    .dataframe thead th {\n",
       "        text-align: right;\n",
       "    }\n",
       "</style>\n",
       "<table border=\"1\" class=\"dataframe\">\n",
       "  <thead>\n",
       "    <tr style=\"text-align: right;\">\n",
       "      <th></th>\n",
       "      <th>id</th>\n",
       "      <th>log.Te</th>\n",
       "      <th>log.light</th>\n",
       "    </tr>\n",
       "  </thead>\n",
       "  <tbody>\n",
       "    <tr>\n",
       "      <th>0</th>\n",
       "      <td>1</td>\n",
       "      <td>4.37</td>\n",
       "      <td>5.23</td>\n",
       "    </tr>\n",
       "    <tr>\n",
       "      <th>1</th>\n",
       "      <td>2</td>\n",
       "      <td>4.56</td>\n",
       "      <td>5.74</td>\n",
       "    </tr>\n",
       "    <tr>\n",
       "      <th>2</th>\n",
       "      <td>3</td>\n",
       "      <td>4.26</td>\n",
       "      <td>4.93</td>\n",
       "    </tr>\n",
       "    <tr>\n",
       "      <th>3</th>\n",
       "      <td>4</td>\n",
       "      <td>4.56</td>\n",
       "      <td>5.74</td>\n",
       "    </tr>\n",
       "    <tr>\n",
       "      <th>4</th>\n",
       "      <td>5</td>\n",
       "      <td>4.30</td>\n",
       "      <td>5.19</td>\n",
       "    </tr>\n",
       "    <tr>\n",
       "      <th>5</th>\n",
       "      <td>6</td>\n",
       "      <td>4.46</td>\n",
       "      <td>5.46</td>\n",
       "    </tr>\n",
       "    <tr>\n",
       "      <th>6</th>\n",
       "      <td>7</td>\n",
       "      <td>3.84</td>\n",
       "      <td>4.65</td>\n",
       "    </tr>\n",
       "    <tr>\n",
       "      <th>7</th>\n",
       "      <td>8</td>\n",
       "      <td>4.57</td>\n",
       "      <td>5.27</td>\n",
       "    </tr>\n",
       "    <tr>\n",
       "      <th>8</th>\n",
       "      <td>9</td>\n",
       "      <td>4.26</td>\n",
       "      <td>5.57</td>\n",
       "    </tr>\n",
       "    <tr>\n",
       "      <th>9</th>\n",
       "      <td>10</td>\n",
       "      <td>4.37</td>\n",
       "      <td>5.12</td>\n",
       "    </tr>\n",
       "    <tr>\n",
       "      <th>10</th>\n",
       "      <td>11</td>\n",
       "      <td>3.49</td>\n",
       "      <td>5.73</td>\n",
       "    </tr>\n",
       "    <tr>\n",
       "      <th>11</th>\n",
       "      <td>12</td>\n",
       "      <td>4.43</td>\n",
       "      <td>5.45</td>\n",
       "    </tr>\n",
       "    <tr>\n",
       "      <th>12</th>\n",
       "      <td>13</td>\n",
       "      <td>4.48</td>\n",
       "      <td>5.42</td>\n",
       "    </tr>\n",
       "    <tr>\n",
       "      <th>13</th>\n",
       "      <td>14</td>\n",
       "      <td>4.01</td>\n",
       "      <td>4.05</td>\n",
       "    </tr>\n",
       "    <tr>\n",
       "      <th>14</th>\n",
       "      <td>15</td>\n",
       "      <td>4.29</td>\n",
       "      <td>4.26</td>\n",
       "    </tr>\n",
       "    <tr>\n",
       "      <th>15</th>\n",
       "      <td>16</td>\n",
       "      <td>4.42</td>\n",
       "      <td>4.58</td>\n",
       "    </tr>\n",
       "    <tr>\n",
       "      <th>16</th>\n",
       "      <td>17</td>\n",
       "      <td>4.23</td>\n",
       "      <td>3.94</td>\n",
       "    </tr>\n",
       "    <tr>\n",
       "      <th>17</th>\n",
       "      <td>18</td>\n",
       "      <td>4.42</td>\n",
       "      <td>4.18</td>\n",
       "    </tr>\n",
       "    <tr>\n",
       "      <th>18</th>\n",
       "      <td>19</td>\n",
       "      <td>4.23</td>\n",
       "      <td>4.18</td>\n",
       "    </tr>\n",
       "    <tr>\n",
       "      <th>19</th>\n",
       "      <td>20</td>\n",
       "      <td>3.49</td>\n",
       "      <td>5.89</td>\n",
       "    </tr>\n",
       "    <tr>\n",
       "      <th>20</th>\n",
       "      <td>21</td>\n",
       "      <td>4.29</td>\n",
       "      <td>4.38</td>\n",
       "    </tr>\n",
       "    <tr>\n",
       "      <th>21</th>\n",
       "      <td>22</td>\n",
       "      <td>4.29</td>\n",
       "      <td>4.22</td>\n",
       "    </tr>\n",
       "    <tr>\n",
       "      <th>22</th>\n",
       "      <td>23</td>\n",
       "      <td>4.42</td>\n",
       "      <td>4.42</td>\n",
       "    </tr>\n",
       "    <tr>\n",
       "      <th>23</th>\n",
       "      <td>24</td>\n",
       "      <td>4.49</td>\n",
       "      <td>4.85</td>\n",
       "    </tr>\n",
       "    <tr>\n",
       "      <th>24</th>\n",
       "      <td>25</td>\n",
       "      <td>4.38</td>\n",
       "      <td>5.02</td>\n",
       "    </tr>\n",
       "    <tr>\n",
       "      <th>25</th>\n",
       "      <td>26</td>\n",
       "      <td>4.42</td>\n",
       "      <td>4.66</td>\n",
       "    </tr>\n",
       "    <tr>\n",
       "      <th>26</th>\n",
       "      <td>27</td>\n",
       "      <td>4.29</td>\n",
       "      <td>4.66</td>\n",
       "    </tr>\n",
       "    <tr>\n",
       "      <th>27</th>\n",
       "      <td>28</td>\n",
       "      <td>4.38</td>\n",
       "      <td>4.90</td>\n",
       "    </tr>\n",
       "    <tr>\n",
       "      <th>28</th>\n",
       "      <td>29</td>\n",
       "      <td>4.22</td>\n",
       "      <td>4.39</td>\n",
       "    </tr>\n",
       "    <tr>\n",
       "      <th>29</th>\n",
       "      <td>30</td>\n",
       "      <td>3.48</td>\n",
       "      <td>6.05</td>\n",
       "    </tr>\n",
       "    <tr>\n",
       "      <th>30</th>\n",
       "      <td>31</td>\n",
       "      <td>4.38</td>\n",
       "      <td>4.42</td>\n",
       "    </tr>\n",
       "    <tr>\n",
       "      <th>31</th>\n",
       "      <td>32</td>\n",
       "      <td>4.56</td>\n",
       "      <td>5.10</td>\n",
       "    </tr>\n",
       "    <tr>\n",
       "      <th>32</th>\n",
       "      <td>33</td>\n",
       "      <td>4.45</td>\n",
       "      <td>5.22</td>\n",
       "    </tr>\n",
       "    <tr>\n",
       "      <th>33</th>\n",
       "      <td>34</td>\n",
       "      <td>3.49</td>\n",
       "      <td>6.29</td>\n",
       "    </tr>\n",
       "    <tr>\n",
       "      <th>34</th>\n",
       "      <td>35</td>\n",
       "      <td>4.23</td>\n",
       "      <td>4.34</td>\n",
       "    </tr>\n",
       "    <tr>\n",
       "      <th>35</th>\n",
       "      <td>36</td>\n",
       "      <td>4.62</td>\n",
       "      <td>5.62</td>\n",
       "    </tr>\n",
       "    <tr>\n",
       "      <th>36</th>\n",
       "      <td>37</td>\n",
       "      <td>4.53</td>\n",
       "      <td>5.10</td>\n",
       "    </tr>\n",
       "    <tr>\n",
       "      <th>37</th>\n",
       "      <td>38</td>\n",
       "      <td>4.45</td>\n",
       "      <td>5.22</td>\n",
       "    </tr>\n",
       "    <tr>\n",
       "      <th>38</th>\n",
       "      <td>39</td>\n",
       "      <td>4.53</td>\n",
       "      <td>5.18</td>\n",
       "    </tr>\n",
       "    <tr>\n",
       "      <th>39</th>\n",
       "      <td>40</td>\n",
       "      <td>4.43</td>\n",
       "      <td>5.57</td>\n",
       "    </tr>\n",
       "    <tr>\n",
       "      <th>40</th>\n",
       "      <td>41</td>\n",
       "      <td>4.38</td>\n",
       "      <td>4.62</td>\n",
       "    </tr>\n",
       "    <tr>\n",
       "      <th>41</th>\n",
       "      <td>42</td>\n",
       "      <td>4.45</td>\n",
       "      <td>5.06</td>\n",
       "    </tr>\n",
       "    <tr>\n",
       "      <th>42</th>\n",
       "      <td>43</td>\n",
       "      <td>4.50</td>\n",
       "      <td>5.34</td>\n",
       "    </tr>\n",
       "    <tr>\n",
       "      <th>43</th>\n",
       "      <td>44</td>\n",
       "      <td>4.45</td>\n",
       "      <td>5.34</td>\n",
       "    </tr>\n",
       "    <tr>\n",
       "      <th>44</th>\n",
       "      <td>45</td>\n",
       "      <td>4.55</td>\n",
       "      <td>5.54</td>\n",
       "    </tr>\n",
       "    <tr>\n",
       "      <th>45</th>\n",
       "      <td>46</td>\n",
       "      <td>4.45</td>\n",
       "      <td>4.98</td>\n",
       "    </tr>\n",
       "    <tr>\n",
       "      <th>46</th>\n",
       "      <td>47</td>\n",
       "      <td>4.42</td>\n",
       "      <td>4.50</td>\n",
       "    </tr>\n",
       "  </tbody>\n",
       "</table>\n",
       "</div>"
      ],
      "text/plain": [
       "    id  log.Te  log.light\n",
       "0    1    4.37       5.23\n",
       "1    2    4.56       5.74\n",
       "2    3    4.26       4.93\n",
       "3    4    4.56       5.74\n",
       "4    5    4.30       5.19\n",
       "5    6    4.46       5.46\n",
       "6    7    3.84       4.65\n",
       "7    8    4.57       5.27\n",
       "8    9    4.26       5.57\n",
       "9   10    4.37       5.12\n",
       "10  11    3.49       5.73\n",
       "11  12    4.43       5.45\n",
       "12  13    4.48       5.42\n",
       "13  14    4.01       4.05\n",
       "14  15    4.29       4.26\n",
       "15  16    4.42       4.58\n",
       "16  17    4.23       3.94\n",
       "17  18    4.42       4.18\n",
       "18  19    4.23       4.18\n",
       "19  20    3.49       5.89\n",
       "20  21    4.29       4.38\n",
       "21  22    4.29       4.22\n",
       "22  23    4.42       4.42\n",
       "23  24    4.49       4.85\n",
       "24  25    4.38       5.02\n",
       "25  26    4.42       4.66\n",
       "26  27    4.29       4.66\n",
       "27  28    4.38       4.90\n",
       "28  29    4.22       4.39\n",
       "29  30    3.48       6.05\n",
       "30  31    4.38       4.42\n",
       "31  32    4.56       5.10\n",
       "32  33    4.45       5.22\n",
       "33  34    3.49       6.29\n",
       "34  35    4.23       4.34\n",
       "35  36    4.62       5.62\n",
       "36  37    4.53       5.10\n",
       "37  38    4.45       5.22\n",
       "38  39    4.53       5.18\n",
       "39  40    4.43       5.57\n",
       "40  41    4.38       4.62\n",
       "41  42    4.45       5.06\n",
       "42  43    4.50       5.34\n",
       "43  44    4.45       5.34\n",
       "44  45    4.55       5.54\n",
       "45  46    4.45       4.98\n",
       "46  47    4.42       4.50"
      ]
     },
     "execution_count": 2,
     "metadata": {},
     "output_type": "execute_result"
    }
   ],
   "source": [
    "df = pd.read_csv(\"data/starsCYG.csv\", sep=',')\n",
    "df"
   ]
  },
  {
   "cell_type": "code",
   "execution_count": 3,
   "id": "20a30f0c-f6b1-40bd-944a-6daf0e78be37",
   "metadata": {},
   "outputs": [
    {
     "name": "stdout",
     "output_type": "stream",
     "text": [
      "[[4.37 5.23]\n",
      " [4.56 5.74]\n",
      " [4.26 4.93]\n",
      " [4.56 5.74]\n",
      " [4.3  5.19]\n",
      " [4.46 5.46]\n",
      " [3.84 4.65]\n",
      " [4.57 5.27]\n",
      " [4.26 5.57]\n",
      " [4.37 5.12]\n",
      " [3.49 5.73]\n",
      " [4.43 5.45]\n",
      " [4.48 5.42]\n",
      " [4.01 4.05]\n",
      " [4.29 4.26]\n",
      " [4.42 4.58]\n",
      " [4.23 3.94]\n",
      " [4.42 4.18]\n",
      " [4.23 4.18]\n",
      " [3.49 5.89]\n",
      " [4.29 4.38]\n",
      " [4.29 4.22]\n",
      " [4.42 4.42]\n",
      " [4.49 4.85]\n",
      " [4.38 5.02]\n",
      " [4.42 4.66]\n",
      " [4.29 4.66]\n",
      " [4.38 4.9 ]\n",
      " [4.22 4.39]\n",
      " [3.48 6.05]\n",
      " [4.38 4.42]\n",
      " [4.56 5.1 ]\n",
      " [4.45 5.22]\n",
      " [3.49 6.29]\n",
      " [4.23 4.34]\n",
      " [4.62 5.62]\n",
      " [4.53 5.1 ]\n",
      " [4.45 5.22]\n",
      " [4.53 5.18]\n",
      " [4.43 5.57]\n",
      " [4.38 4.62]\n",
      " [4.45 5.06]\n",
      " [4.5  5.34]\n",
      " [4.45 5.34]\n",
      " [4.55 5.54]\n",
      " [4.45 4.98]\n",
      " [4.42 4.5 ]]\n"
     ]
    }
   ],
   "source": [
    "X1 = df['log.Te'].values\n",
    "X2 = df['log.light'].values\n",
    "X = np.c_[X1, X2]\n",
    "print(X)"
   ]
  },
  {
   "cell_type": "code",
   "execution_count": 4,
   "id": "29478798-c025-4809-9e0b-3e7bef9a6580",
   "metadata": {},
   "outputs": [
    {
     "data": {
      "text/plain": [
       "0.8723404255319149"
      ]
     },
     "execution_count": 4,
     "metadata": {},
     "output_type": "execute_result"
    }
   ],
   "source": [
    "N = len(X)\n",
    "(N-6)/N"
   ]
  },
  {
   "cell_type": "code",
   "execution_count": 5,
   "id": "d79ec4b3-4a48-4b67-a1a9-862a32284ff6",
   "metadata": {},
   "outputs": [
    {
     "name": "stdout",
     "output_type": "stream",
     "text": [
      "[4.31       5.01212766]\n"
     ]
    }
   ],
   "source": [
    "c0 = np.mean(X, axis=0)\n",
    "print(c0)"
   ]
  },
  {
   "cell_type": "code",
   "execution_count": 6,
   "id": "70cc1166-ce4d-4a4e-8831-ecb0b8baa867",
   "metadata": {},
   "outputs": [
    {
     "data": {
      "image/png": "[encoded data removed]",
      "text/plain": [
       "<Figure size 640x480 with 1 Axes>"
      ]
     },
     "metadata": {},
     "output_type": "display_data"
    }
   ],
   "source": [
    "plt.scatter(X1, X2)\n",
    "plt.scatter([c0[0]], [[c0[1]]], c='g', s=100)\n",
    "plt.show()"
   ]
  },
  {
   "cell_type": "code",
   "execution_count": 7,
   "id": "4bb9fa06-bb6d-408f-bcf4-4ad777110f81",
   "metadata": {},
   "outputs": [],
   "source": [
    "Z = X - c0\n",
    "U = Z * Z\n",
    "R = U.sum(axis=1)"
   ]
  },
  {
   "cell_type": "code",
   "execution_count": 8,
   "id": "c51c80b2-2484-4424-8b10-440072c1e035",
   "metadata": {},
   "outputs": [
    {
     "data": {
      "image/png": "[encoded data removed]",
      "text/plain": [
       "<Figure size 640x480 with 1 Axes>"
      ]
     },
     "metadata": {},
     "output_type": "display_data"
    }
   ],
   "source": [
    "plt.plot(sorted(R), marker='o')\n",
    "plt.show()"
   ]
  },
  {
   "cell_type": "markdown",
   "id": "d87d1845-8922-4bbc-8b96-033bcdccb25e",
   "metadata": {},
   "source": [
    "$$\n",
    "Q(a) = \\frac 1 N \\sum_{k=1}^N \\|x_k-a\\|^2\n",
    "$$"
   ]
  },
  {
   "cell_type": "markdown",
   "id": "5240534a-7cae-44ef-b600-37c2d0ef30a2",
   "metadata": {},
   "source": [
    "$$\n",
    "Q(a) = \\mathsf{M} \\{\\|x_1-a\\|^2, \\dots, \\|x_N-a\\|^2\\}\n",
    "$$"
   ]
  },
  {
   "cell_type": "markdown",
   "id": "e4cf558a-abf8-4e0f-b449-db83555b1c71",
   "metadata": {},
   "source": [
    "$$\n",
    "\\mathsf{M}_\\rho \\{ z_1,\\dots,z_N\\} = \\arg\\min_u\\sum_{k=1}^N \\rho(z_k-u)\n",
    "$$"
   ]
  },
  {
   "cell_type": "markdown",
   "id": "c549bf4f-f436-4a35-b1dd-d74a077199d5",
   "metadata": {},
   "source": [
    "$$\n",
    "\\rho(r) = \\sqrt{\\varepsilon^2+r^2} - \\varepsilon\n",
    "$$\n",
    "\n",
    "$$\n",
    "\\rho_\\alpha(r) = \\left\\{\n",
    "\\begin{array}{ll}\n",
    "\\alpha\\rho(r), &  \\mathrm{если}\\  r\\geq0\\\\\n",
    "(1-\\alpha)\\rho(r), &  \\mathrm{если}\\ r<0\\\\\n",
    "\\end{array}\n",
    "\\right.\n",
    "$$"
   ]
  },
  {
   "cell_type": "markdown",
   "id": "8ceb2554-e33c-4010-90b0-ee0df446dcf9",
   "metadata": {},
   "source": [
    "$$\n",
    "\\mathsf{WM}_\\alpha \\{z_1,\\dots,z_N\\} = \\frac 1 N \\sum_{k=1}^N\n",
    "\\min(z_k, \\bar z_\\alpha )\n",
    "$$\n",
    "\n",
    "$$\n",
    "\\bar z_\\alpha = \\mathsf{M}_{\\rho_\\alpha} \\{z_1,\\dots, z_N\\}\n",
    "$$"
   ]
  },
  {
   "cell_type": "markdown",
   "id": "816b6939-d2b4-4de9-b9e9-fad22263bf8f",
   "metadata": {},
   "source": [
    "$$\n",
    "\\nabla Q(a) = \\sum_{k=1}^N v_k(a) (x_k - a),\n",
    "$$\n",
    "где\n",
    "$$\n",
    "v_k(a)=\\frac{\\partial \\mathsf{M}}{\\partial z_k}\n",
    "(z_1,\\dots, z_N),\\qquad z_k = \\|x_k - a\\|^2\n",
    "$$\n"
   ]
  },
  {
   "cell_type": "markdown",
   "id": "af1e624e-34d3-4221-b24e-c920f7339e66",
   "metadata": {},
   "source": [
    "$$\n",
    "a^{t+1} = \\sum_{k=1}^N v_k(a^t) x_k\n",
    "$$"
   ]
  },
  {
   "cell_type": "code",
   "execution_count": 23,
   "id": "1538b0d6-8218-4e78-ba77-1a8e5abc4355",
   "metadata": {},
   "outputs": [],
   "source": [
    "def find_center(X, qf, n_iter=100, tol=1.0e-8):\n",
    "    a = a_min = X.mean(axis=0)\n",
    "    U = X - a\n",
    "    Z = (U * U).sum(axis=1)\n",
    "    S = S_min = qf.evaluate(Z)\n",
    "    G = qf.gradient(Z)\n",
    "    # print(S, a)\n",
    "    SS = [S]\n",
    "\n",
    "    for K in range(n_iter):\n",
    "        S0 = S\n",
    "        a = X.T @ G\n",
    "\n",
    "        U = X - a\n",
    "        Z = (U * U).sum(axis=1)\n",
    "\n",
    "        S = qf.evaluate(Z)\n",
    "        G = qf.gradient(Z)\n",
    "        SS.append(S)\n",
    "\n",
    "        if S < S_min:\n",
    "            S_min = S\n",
    "            a_min = a\n",
    "\n",
    "        if K > 0 and abs(S - S0) < tol:\n",
    "            break\n",
    "\n",
    "    return a_min, SS"
   ]
  },
  {
   "cell_type": "code",
   "execution_count": null,
   "id": "95e5e90f-2c99-449b-8965-1dbdcee49137",
   "metadata": {},
   "outputs": [],
   "source": [
    "plt."
   ]
  },
  {
   "cell_type": "code",
   "execution_count": 10,
   "id": "ff0f5040-9317-4526-b586-40958493c84a",
   "metadata": {},
   "outputs": [],
   "source": [
    "from funcs import SoftQuantileFunc, SoftAbs\n",
    "from aggfuncs import WMMean, MMean"
   ]
  },
  {
   "cell_type": "code",
   "execution_count": 11,
   "id": "517ecd54-8347-4122-9ef9-39e76585eb11",
   "metadata": {},
   "outputs": [],
   "source": [
    "rho_a = SoftQuantileFunc(SoftAbs(0.01), 0.84)\n",
    "wma = WMMean(rho_a)"
   ]
  },
  {
   "cell_type": "code",
   "execution_count": 12,
   "id": "238febb0-b03f-42d1-80ce-8c330e1f7131",
   "metadata": {},
   "outputs": [],
   "source": [
    "c1, SS = find_center(X, wma)"
   ]
  },
  {
   "cell_type": "code",
   "execution_count": 13,
   "id": "9965be93-8cee-40e3-a597-509d4e97c2f1",
   "metadata": {},
   "outputs": [
    {
     "data": {
      "image/png": "[encoded data removed]",
      "text/plain": [
       "<Figure size 640x480 with 1 Axes>"
      ]
     },
     "metadata": {},
     "output_type": "display_data"
    }
   ],
   "source": [
    "plt.plot(SS, marker='o')\n",
    "plt.show()"
   ]
  },
  {
   "cell_type": "code",
   "execution_count": 14,
   "id": "897f4cf5-b0de-496a-913a-65f676292bda",
   "metadata": {},
   "outputs": [
    {
     "data": {
      "image/png": "[encoded data removed]",
      "text/plain": [
       "<Figure size 640x480 with 1 Axes>"
      ]
     },
     "metadata": {},
     "output_type": "display_data"
    }
   ],
   "source": [
    "plt.scatter(X1, X2)\n",
    "plt.scatter([c0[0]], [[c0[1]]], c='g', s=100, label='classic')\n",
    "plt.scatter([c1[0]], [[c1[1]]], c='r', s=100, label='robust')\n",
    "plt.legend()\n",
    "plt.show()"
   ]
  },
  {
   "cell_type": "markdown",
   "id": "5d0beefb-a23e-4b92-8793-8cceef943abb",
   "metadata": {},
   "source": [
    "$$\n",
    "x_k\\to x_k - c\n",
    "$$"
   ]
  },
  {
   "cell_type": "markdown",
   "id": "f41c6545-67a7-422d-a596-ebc218a71ab4",
   "metadata": {},
   "source": [
    "$$\n",
    "Q(a) = \\sum_{k=1}^N \\left(\\|x_k\\|^2 - (x_k,a)^2\\right)\n",
    "$$\n",
    "$$\n",
    "\\|a\\|^2=1\n",
    "$$"
   ]
  },
  {
   "cell_type": "markdown",
   "id": "1284674c-1d09-4978-b537-7b0c3aa74ecd",
   "metadata": {},
   "source": [
    "Метод множителей Лагранжа:\n",
    "\n",
    "$$\n",
    "Q(a,\\lambda) = \\lambda(\\|a\\|^2-1) + \\sum_{k=1}^N \\left(\\|x_k\\|^2 - (x_k,a)^2\\right)\n",
    "$$"
   ]
  },
  {
   "cell_type": "markdown",
   "id": "6282fa6f-159b-4b90-b4ed-a1d3f284231f",
   "metadata": {},
   "source": [
    "$$\n",
    "S a = \\lambda a\n",
    "$$\n",
    "$$\n",
    "S = X^\\top X\n",
    "$$"
   ]
  },
  {
   "cell_type": "markdown",
   "id": "698ea778-60b6-4d20-8aff-c61a47d6b7b4",
   "metadata": {},
   "source": [
    "$$\n",
    "a^\\top Sa = \\lambda (a,a)\n",
    "$$"
   ]
  },
  {
   "cell_type": "markdown",
   "id": "c17f8dd2-937b-4ac5-af51-d2f8b46d580d",
   "metadata": {},
   "source": [
    "$$\n",
    "S = \\frac {1} {N}\\sum_{k=1}^N x_k\\otimes x_k\n",
    "$$"
   ]
  },
  {
   "cell_type": "markdown",
   "id": "beccce51-b488-4246-9360-d8b94595bb02",
   "metadata": {},
   "source": [
    "$$\n",
    "\\lambda^{t+1}=\\frac{a^{\\top t}Sa^t}{(a^t,a^t)}\n",
    "$$\n",
    "\n",
    "$$\n",
    "a^{t+1} = \\frac{1}{\\lambda^t} Sa^t\n",
    "$$"
   ]
  },
  {
   "cell_type": "markdown",
   "id": "e54b94a8-2235-4c73-9515-c554a89f82e7",
   "metadata": {},
   "source": [
    "$$\n",
    "Q(a,\\lambda) = \\lambda(\\|a\\|^2-1) + M\\{ ...,\\|x_k\\|^2 - (x_k,a)^2 ,...\\}\n",
    "$$"
   ]
  },
  {
   "cell_type": "markdown",
   "id": "df359bf5-c453-402d-80d3-57229977eb3f",
   "metadata": {},
   "source": [
    "$$\n",
    "\\frac{\\partial Q}{\\partial a} = 2\\lambda a - 2\\sum_{k=1}^N \\frac {\\partial M}{\\partial z_k}x_k\\otimes x_k a\n",
    "$$\n",
    "\n",
    "$z_k = \\|x_k\\|^2 - (x_k,a)^2$"
   ]
  },
  {
   "cell_type": "markdown",
   "id": "9a0b1e0e-af73-4ed3-b7f8-07486652fe0e",
   "metadata": {},
   "source": [
    "$$\n",
    "S = \\sum_{k=1}^N \\frac {\\partial M}{\\partial z_k}x_k\\otimes x_k\n",
    "$$\n",
    "\n",
    "$$\n",
    "S a = \\lambda a\n",
    "$$"
   ]
  },
  {
   "cell_type": "code",
   "execution_count": 24,
   "id": "cee46fcc-8586-44da-ad97-77e3cd91a340",
   "metadata": {},
   "outputs": [],
   "source": [
    "X1_0 = X - c0\n",
    "X1 = X - c1"
   ]
  },
  {
   "cell_type": "code",
   "execution_count": 46,
   "id": "2aac0c1d-467f-422e-9a56-f94435738c6a",
   "metadata": {},
   "outputs": [],
   "source": [
    "def find_pc(X, n_iter=100, tol=1.0e-8, verbose=False):\n",
    "    L = L_min = 1.\n",
    "    a = X[0]\n",
    "    X2 = (X * X).sum(axis=1)\n",
    "    U = X @ a\n",
    "    U2 = U * U\n",
    "    Z = X2 - U2\n",
    "    Q = Q_min = Z.sum()\n",
    "    QQ = [Q]\n",
    "    \n",
    "    S = X.T @ X\n",
    "    for K in range(n_iter):\n",
    "        Q0 = Q\n",
    "        L1 = ((a @ S) @ a) / (a @ a)\n",
    "        a1 = (S @ a) / L1\n",
    "        a1 = a1 / np.sqrt(a1 @ a1)\n",
    "\n",
    "        U = X @ a1\n",
    "        Z = X2 - U * U\n",
    "        Q = Z.sum()\n",
    "        \n",
    "        if Q < Q_min:\n",
    "            Q_min = Q\n",
    "            a_min = a1\n",
    "            L_min = L1\n",
    "            if verbose:\n",
    "                print('*', Q, L1, a1)\n",
    "\n",
    "        if np.max(np.abs(a1 - a)) < tol:\n",
    "            break\n",
    "\n",
    "        a = a1\n",
    "        \n",
    "    return a_min, L_min"
   ]
  },
  {
   "cell_type": "code",
   "execution_count": 47,
   "id": "b6b122dc-7a51-432e-95fe-6ece0a6dd073",
   "metadata": {},
   "outputs": [],
   "source": [
    "def find_robust_pc(X, qf, n_iter=100, tol=1.0e-8, verbose=False):\n",
    "    L = L_min = 1.\n",
    "    a = X[0]\n",
    "    X2 = (X * X).sum(axis=1)\n",
    "    U = X @ a\n",
    "    U2 = U * U\n",
    "    Z = X2 - U2\n",
    "    Q = Q_min = qf.evaluate(Z)\n",
    "    G = qf.gradient(Z)\n",
    "    QQ = [Q]\n",
    "    \n",
    "    for K in range(n_iter):\n",
    "        S = (X.T * G) @ X\n",
    "        Q0 = Q\n",
    "        L1 = ((a @ S) @ a) / (a @ a)\n",
    "        a1 = (S @ a) / L1\n",
    "        a1 = a1 / np.sqrt(a1 @ a1)\n",
    "\n",
    "        U = X @ a1\n",
    "        Z = X2 - U * U\n",
    "        Q = qf.evaluate(Z)\n",
    "        G = qf.gradient(Z)\n",
    "        \n",
    "        if Q < Q_min:\n",
    "            Q_min = Q\n",
    "            a_min = a1\n",
    "            L_min = L1\n",
    "            if verbose:\n",
    "                print('*', Q, L1, a1)\n",
    "\n",
    "        if np.max(np.abs(a1 - a)) < tol:\n",
    "            break\n",
    "\n",
    "        a = a1\n",
    "        \n",
    "    return a_min, L_min\n",
    "        "
   ]
  },
  {
   "cell_type": "code",
   "execution_count": 51,
   "id": "9bacba5e-ca73-419e-8655-86e4a392f576",
   "metadata": {},
   "outputs": [
    {
     "data": {
      "text/plain": [
       "array([-0.13718465,  0.99054549])"
      ]
     },
     "execution_count": 51,
     "metadata": {},
     "output_type": "execute_result"
    }
   ],
   "source": [
    "a1_0, L1_0 = find_pc(X1)\n",
    "a1_0"
   ]
  },
  {
   "cell_type": "code",
   "execution_count": 50,
   "id": "696c3122-5e95-42a1-8b9c-4c765e9ff4dd",
   "metadata": {},
   "outputs": [
    {
     "data": {
      "text/plain": [
       "array([0.14957064, 0.98875104])"
      ]
     },
     "execution_count": 50,
     "metadata": {},
     "output_type": "execute_result"
    }
   ],
   "source": [
    "a1, L1 = find_robust_pc(X1, wma)\n",
    "a1"
   ]
  },
  {
   "cell_type": "code",
   "execution_count": 52,
   "id": "ad993203-f4e3-4908-96a7-445f618eb34e",
   "metadata": {},
   "outputs": [
    {
     "data": {
      "image/png": "[encoded data removed]",
      "text/plain": [
       "<Figure size 337.5x600 with 1 Axes>"
      ]
     },
     "metadata": {},
     "output_type": "display_data"
    }
   ],
   "source": [
    "plt.figure(figsize=(6/(16/9),6))\n",
    "plt.scatter(X[:,0], X[:,1])\n",
    "plt.scatter([c0[0]], [[c0[1]]], c='g', s=100, label='classic')\n",
    "plt.scatter([c1[0]], [[c1[1]]], c='r', s=100, label='robust')\n",
    "plt.plot([c1[0], c1[0]+a1[0]], [c1[1], c1[1]+a1[1]])\n",
    "plt.plot([c0[0], c0[0]+a1_0[0]], [c0[1], c0[1]+a1_0[1]])\n",
    "plt.legend()\n",
    "plt.show()"
   ]
  },
  {
   "cell_type": "code",
   "execution_count": 56,
   "id": "8b44afa5-bea7-49dc-a23b-2b273f4ab9bf",
   "metadata": {},
   "outputs": [],
   "source": [
    "XA = np.array([xa * a1 for xa in X1 @ a1])\n",
    "X2 = X1 - XA"
   ]
  },
  {
   "cell_type": "code",
   "execution_count": 57,
   "id": "77dfc918-82ce-43fa-b6d2-5788ad912014",
   "metadata": {},
   "outputs": [],
   "source": [
    "XA = np.array([xa * a1_0 for xa in X1_0 @ a1_0])\n",
    "X2_0 = X1_0 - XA"
   ]
  },
  {
   "cell_type": "code",
   "execution_count": 66,
   "id": "a0f5d767-6058-48ec-a221-42de239507e3",
   "metadata": {},
   "outputs": [
    {
     "name": "stdout",
     "output_type": "stream",
     "text": [
      "[0.99054549 0.13718465]\n"
     ]
    }
   ],
   "source": [
    "a2_0, L2_0 = find_pc(X2_0)\n",
    "print(a2_0)"
   ]
  },
  {
   "cell_type": "code",
   "execution_count": 67,
   "id": "c1f68f7f-9956-428f-87ef-b83aa2b4d7ee",
   "metadata": {},
   "outputs": [
    {
     "name": "stdout",
     "output_type": "stream",
     "text": [
      "[-0.98875104  0.14957064]\n"
     ]
    }
   ],
   "source": [
    "a2, L2 = find_robust_pc(X2, wma)\n",
    "print(a2)"
   ]
  },
  {
   "cell_type": "code",
   "execution_count": 71,
   "id": "2baf0563-65f5-4401-81aa-ef34cdf81f6f",
   "metadata": {},
   "outputs": [
    {
     "data": {
      "image/png": "[encoded data removed]",
      "text/plain": [
       "<Figure size 393.75x600 with 1 Axes>"
      ]
     },
     "metadata": {},
     "output_type": "display_data"
    }
   ],
   "source": [
    "plt.figure(figsize=(7/(16/9),6))\n",
    "plt.scatter(X[:,0], X[:,1])\n",
    "plt.scatter([c0[0]], [[c0[1]]], c='g', s=100, label='classic')\n",
    "plt.scatter([c1[0]], [[c1[1]]], c='r', s=100, label='robust')\n",
    "plt.plot([c1[0], c1[0]+a1[0]], [c1[1], c1[1]+a1[1]], color='r')\n",
    "plt.plot([c1[0], c1[0]+a2[0]], [c1[1], c1[1]+a2[1]], color='r')\n",
    "plt.plot([c0[0], c0[0]+a1_0[0]], [c0[1], c0[1]+a1_0[1]], color='g')\n",
    "plt.plot([c0[0], c0[0]+a2_0[0]], [c0[1], c0[1]+a2_0[1]], color='g')\n",
    "plt.legend()\n",
    "plt.show()"
   ]
  },
  {
   "cell_type": "code",
   "execution_count": null,
   "id": "1f4552a4-2337-48db-ba41-22b51480f6c8",
   "metadata": {},
   "outputs": [],
   "source": []
  }
 ],
 "metadata": {
  "kernelspec": {
   "display_name": "Python 3 (ipykernel)",
   "language": "python",
   "name": "python3"
  },
  "language_info": {
   "codemirror_mode": {
    "name": "ipython",
    "version": 3
   },
   "file_extension": ".py",
   "mimetype": "text/x-python",
   "name": "python",
   "nbconvert_exporter": "python",
   "pygments_lexer": "ipython3",
   "version": "3.12.6"
  }
 },
 "nbformat": 4,
 "nbformat_minor": 5
}
