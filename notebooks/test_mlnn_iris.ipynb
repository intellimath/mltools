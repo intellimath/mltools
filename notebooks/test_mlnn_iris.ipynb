{
 "cells": [
  {
   "cell_type": "code",
   "execution_count": 1,
   "id": "243c27b6-db19-4cd2-a3b1-777eda28503a",
   "metadata": {},
   "outputs": [],
   "source": [
    "import python_inventory as pyinv\n",
    "import numpy as np\n",
    "import matplotlib.pyplot as plt\n",
    "\n",
    "from sklearn.datasets import load_iris\n",
    "from sklearn.preprocessing import label_binarize\n",
    "from sklearn.metrics import accuracy_score"
   ]
  },
  {
   "cell_type": "code",
   "execution_count": 2,
   "id": "b4379c55-8644-4854-953e-e4e7f9e55601",
   "metadata": {},
   "outputs": [],
   "source": [
    "X, Y = load_iris(return_X_y=True)"
   ]
  },
  {
   "cell_type": "code",
   "execution_count": 3,
   "id": "045fa52f-ff2c-4101-bc19-b3ea1e92c4a4",
   "metadata": {},
   "outputs": [
    {
     "name": "stdout",
     "output_type": "stream",
     "text": [
      "(150, 4)\n"
     ]
    }
   ],
   "source": [
    "print(X.shape)"
   ]
  },
  {
   "cell_type": "code",
   "execution_count": 4,
   "id": "31b4f87a-fdf9-4210-aaf3-a71cf6cdf0e1",
   "metadata": {},
   "outputs": [],
   "source": [
    "YB = label_binarize(Y, classes=np.arange(3))"
   ]
  },
  {
   "cell_type": "code",
   "execution_count": 5,
   "id": "c7a824a0-1c91-4533-8a85-d4a27d464ff8",
   "metadata": {},
   "outputs": [
    {
     "data": {
      "text/plain": [
       "array([-1., -1., -1., -1., -1., -1., -1., -1., -1., -1., -1., -1., -1.,\n",
       "       -1., -1., -1., -1., -1., -1., -1., -1., -1., -1., -1., -1., -1.,\n",
       "       -1., -1., -1., -1., -1., -1., -1., -1., -1., -1., -1., -1., -1.,\n",
       "       -1., -1., -1., -1., -1., -1., -1., -1., -1., -1., -1., -1., -1.,\n",
       "       -1., -1., -1., -1., -1., -1., -1., -1., -1., -1., -1., -1., -1.,\n",
       "       -1., -1., -1., -1., -1., -1., -1., -1., -1., -1., -1., -1., -1.,\n",
       "       -1., -1., -1., -1., -1., -1., -1., -1., -1., -1., -1., -1., -1.,\n",
       "       -1., -1., -1., -1., -1., -1., -1., -1., -1.,  1.,  1.,  1.,  1.,\n",
       "        1.,  1.,  1.,  1.,  1.,  1.,  1.,  1.,  1.,  1.,  1.,  1.,  1.,\n",
       "        1.,  1.,  1.,  1.,  1.,  1.,  1.,  1.,  1.,  1.,  1.,  1.,  1.,\n",
       "        1.,  1.,  1.,  1.,  1.,  1.,  1.,  1.,  1.,  1.,  1.,  1.,  1.,\n",
       "        1.,  1.,  1.,  1.,  1.,  1.,  1.])"
      ]
     },
     "execution_count": 5,
     "metadata": {},
     "output_type": "execute_result"
    }
   ],
   "source": [
    "YB1 = 2.0 * YB[:,2] - 1.0\n",
    "YB1"
   ]
  },
  {
   "cell_type": "code",
   "execution_count": 6,
   "id": "b0b851ea-2102-48c6-9770-5ac10f5737c9",
   "metadata": {},
   "outputs": [
    {
     "name": "stdout",
     "output_type": "stream",
     "text": [
      "100\n",
      "21\n"
     ]
    }
   ],
   "source": [
    "m = 20\n",
    "body = pyinv.NN()\n",
    "\n",
    "models = []\n",
    "for j in range(m):\n",
    "    mod = pyinv.SigmaNeuronModel(pyinv.RELU(), 4)\n",
    "    models.append(mod)\n",
    "layer = pyinv.FuncLayer(models)\n",
    "body.add(layer)\n",
    "\n",
    "print(body.n_param)\n",
    "\n",
    "head = pyinv.LinearModel(m)\n",
    "\n",
    "print(head.n_param)\n",
    "\n",
    "nn = pyinv.ModelNN(head, body)\n",
    "\n",
    "nn.init_param()"
   ]
  },
  {
   "cell_type": "code",
   "execution_count": 7,
   "id": "a318b16c-a58a-497c-8c7f-ee7160f4974e",
   "metadata": {},
   "outputs": [],
   "source": [
    "loss_func = pyinv.ErrorLoss(pyinv.Square())\n",
    "am = pyinv.ArithMean()\n",
    "risk = pyinv.Risk(nn, loss_func, am)\n",
    "\n",
    "gd = pyinv.GradientDescent(risk, h=0.1, n_iter=100, tol=1.0e-9)"
   ]
  },
  {
   "cell_type": "code",
   "execution_count": 8,
   "id": "6b5ee85e-b7ba-4e36-8322-57530368899e",
   "metadata": {},
   "outputs": [
    {
     "name": "stdout",
     "output_type": "stream",
     "text": [
      "77\n"
     ]
    },
    {
     "data": {
      "image/png": "[encoded data removed]",
      "text/plain": [
       "<Figure size 432x288 with 1 Axes>"
      ]
     },
     "metadata": {
      "needs_background": "light"
     },
     "output_type": "display_data"
    }
   ],
   "source": [
    "gd.fit(X, YB1)\n",
    "print(gd.K)\n",
    "\n",
    "plt.plot(gd.rvals)\n",
    "plt.minorticks_on()\n",
    "plt.show()"
   ]
  },
  {
   "cell_type": "code",
   "execution_count": 9,
   "id": "aae9bdad-944a-491a-84ad-bbdaef53825b",
   "metadata": {},
   "outputs": [],
   "source": [
    "YB1_p = np.sign(nn.evaluate_all(X))"
   ]
  },
  {
   "cell_type": "code",
   "execution_count": 10,
   "id": "a1210c72-f458-4ae5-94f2-b2747e7e8d24",
   "metadata": {},
   "outputs": [
    {
     "data": {
      "text/plain": [
       "array([-0.33323344, -0.33323344, -0.33323344, -0.33323344, -0.33323344,\n",
       "       -0.33323344, -0.33323344, -0.33323344, -0.33323344, -0.33323344,\n",
       "       -0.33323344, -0.33323344, -0.33323344, -0.33323344, -0.33323344,\n",
       "       -0.33323344, -0.33323344, -0.33323344, -0.33323344, -0.33323344,\n",
       "       -0.33323344, -0.33323344, -0.33323344, -0.33323344, -0.33323344,\n",
       "       -0.33323344, -0.33323344, -0.33323344, -0.33323344, -0.33323344,\n",
       "       -0.33323344, -0.33323344, -0.33323344, -0.33323344, -0.33323344,\n",
       "       -0.33323344, -0.33323344, -0.33323344, -0.33323344, -0.33323344,\n",
       "       -0.33323344, -0.33323344, -0.33323344, -0.33323344, -0.33323344,\n",
       "       -0.33323344, -0.33323344, -0.33323344, -0.33323344, -0.33323344,\n",
       "       -0.33323344, -0.33323344, -0.33323344, -0.33323344, -0.33323344,\n",
       "       -0.33323344, -0.33323344, -0.33323344, -0.33323344, -0.33323344,\n",
       "       -0.33323344, -0.33323344, -0.33323344, -0.33323344, -0.33323344,\n",
       "       -0.33323344, -0.33323344, -0.33323344, -0.33323344, -0.33323344,\n",
       "       -0.33323344, -0.33323344, -0.33323344, -0.33323344, -0.33323344,\n",
       "       -0.33323344, -0.33323344, -0.33323344, -0.33323344, -0.33323344,\n",
       "       -0.33323344, -0.33323344, -0.33323344, -0.33323344, -0.33323344,\n",
       "       -0.33323344, -0.33323344, -0.33323344, -0.33323344, -0.33323344,\n",
       "       -0.33323344, -0.33323344, -0.33323344, -0.33323344, -0.33323344,\n",
       "       -0.33323344, -0.33323344, -0.33323344, -0.33323344, -0.33323344,\n",
       "       -0.33323344, -0.33323344, -0.33323344, -0.33323344, -0.33323344,\n",
       "       -0.33323344, -0.33323344, -0.33323344, -0.33323344, -0.33323344,\n",
       "       -0.33323344, -0.33323344, -0.33323344, -0.33323344, -0.33323344,\n",
       "       -0.33323344, -0.33323344, -0.33323344, -0.33323344, -0.33323344,\n",
       "       -0.33323344, -0.33323344, -0.33323344, -0.33323344, -0.33323344,\n",
       "       -0.33323344, -0.33323344, -0.33323344, -0.33323344, -0.33323344,\n",
       "       -0.33323344, -0.33323344, -0.33323344, -0.33323344, -0.33323344,\n",
       "       -0.33323344, -0.33323344, -0.33323344, -0.33323344, -0.33323344,\n",
       "       -0.33323344, -0.33323344, -0.33323344, -0.33323344, -0.33323344,\n",
       "       -0.33323344, -0.33323344, -0.33323344, -0.33323344, -0.33323344])"
      ]
     },
     "execution_count": 10,
     "metadata": {},
     "output_type": "execute_result"
    }
   ],
   "source": [
    "nn.evaluate_all(X)"
   ]
  },
  {
   "cell_type": "code",
   "execution_count": 11,
   "id": "8ebe0baf-1923-4319-b062-21eba8ba0cbf",
   "metadata": {},
   "outputs": [
    {
     "name": "stdout",
     "output_type": "stream",
     "text": [
      "0\n",
      "150\n"
     ]
    }
   ],
   "source": [
    "print(sum(YB1_p == 1.))\n",
    "print(sum(YB1_p != 1.))"
   ]
  },
  {
   "cell_type": "code",
   "execution_count": null,
   "id": "c90c21a6-72ca-4374-9896-7afe6eb50850",
   "metadata": {},
   "outputs": [],
   "source": []
  }
 ],
 "metadata": {
  "kernelspec": {
   "display_name": "Python 3 (ipykernel)",
   "language": "python",
   "name": "python3"
  },
  "language_info": {
   "codemirror_mode": {
    "name": "ipython",
    "version": 3
   },
   "file_extension": ".py",
   "mimetype": "text/x-python",
   "name": "python",
   "nbconvert_exporter": "python",
   "pygments_lexer": "ipython3",
   "version": "3.11.2"
  }
 },
 "nbformat": 4,
 "nbformat_minor": 5
}
