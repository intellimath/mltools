{
 "cells": [
  {
   "cell_type": "code",
   "execution_count": 1,
   "id": "3e7524bc-7961-47a0-86d0-2813e103c69e",
   "metadata": {
    "execution": {
     "iopub.execute_input": "2024-09-22T20:21:49.592597Z",
     "iopub.status.busy": "2024-09-22T20:21:49.592240Z",
     "iopub.status.idle": "2024-09-22T20:21:50.358564Z",
     "shell.execute_reply": "2024-09-22T20:21:50.357949Z",
     "shell.execute_reply.started": "2024-09-22T20:21:49.592550Z"
    }
   },
   "outputs": [],
   "source": [
    "import numpy as np\n",
    "import matplotlib.pyplot as plt\n",
    "import pandas as pd"
   ]
  },
  {
   "cell_type": "code",
   "execution_count": 2,
   "id": "4bc9a0c3-ad87-48b4-b4ee-cbcc2e4eb419",
   "metadata": {
    "execution": {
     "iopub.execute_input": "2024-09-22T20:21:50.359433Z",
     "iopub.status.busy": "2024-09-22T20:21:50.359183Z",
     "iopub.status.idle": "2024-09-22T20:21:50.380415Z",
     "shell.execute_reply": "2024-09-22T20:21:50.379281Z",
     "shell.execute_reply.started": "2024-09-22T20:21:50.359414Z"
    }
   },
   "outputs": [
    {
     "data": {
      "text/html": [
       "<div>\n",
       "<style scoped>\n",
       "    .dataframe tbody tr th:only-of-type {\n",
       "        vertical-align: middle;\n",
       "    }\n",
       "\n",
       "    .dataframe tbody tr th {\n",
       "        vertical-align: top;\n",
       "    }\n",
       "\n",
       "    .dataframe thead th {\n",
       "        text-align: right;\n",
       "    }\n",
       "</style>\n",
       "<table border=\"1\" class=\"dataframe\">\n",
       "  <thead>\n",
       "    <tr style=\"text-align: right;\">\n",
       "      <th></th>\n",
       "      <th>name</th>\n",
       "      <th>type</th>\n",
       "      <th>income</th>\n",
       "      <th>education</th>\n",
       "      <th>prestige</th>\n",
       "    </tr>\n",
       "  </thead>\n",
       "  <tbody>\n",
       "    <tr>\n",
       "      <th>0</th>\n",
       "      <td>accountant</td>\n",
       "      <td>prof</td>\n",
       "      <td>62</td>\n",
       "      <td>86</td>\n",
       "      <td>82</td>\n",
       "    </tr>\n",
       "    <tr>\n",
       "      <th>1</th>\n",
       "      <td>pilot</td>\n",
       "      <td>prof</td>\n",
       "      <td>72</td>\n",
       "      <td>76</td>\n",
       "      <td>83</td>\n",
       "    </tr>\n",
       "    <tr>\n",
       "      <th>2</th>\n",
       "      <td>architect</td>\n",
       "      <td>prof</td>\n",
       "      <td>75</td>\n",
       "      <td>92</td>\n",
       "      <td>90</td>\n",
       "    </tr>\n",
       "    <tr>\n",
       "      <th>3</th>\n",
       "      <td>author</td>\n",
       "      <td>prof</td>\n",
       "      <td>55</td>\n",
       "      <td>90</td>\n",
       "      <td>76</td>\n",
       "    </tr>\n",
       "    <tr>\n",
       "      <th>4</th>\n",
       "      <td>chemist</td>\n",
       "      <td>prof</td>\n",
       "      <td>64</td>\n",
       "      <td>86</td>\n",
       "      <td>90</td>\n",
       "    </tr>\n",
       "    <tr>\n",
       "      <th>5</th>\n",
       "      <td>minister</td>\n",
       "      <td>prof</td>\n",
       "      <td>21</td>\n",
       "      <td>84</td>\n",
       "      <td>87</td>\n",
       "    </tr>\n",
       "    <tr>\n",
       "      <th>6</th>\n",
       "      <td>professor</td>\n",
       "      <td>prof</td>\n",
       "      <td>64</td>\n",
       "      <td>93</td>\n",
       "      <td>93</td>\n",
       "    </tr>\n",
       "    <tr>\n",
       "      <th>7</th>\n",
       "      <td>dentist</td>\n",
       "      <td>prof</td>\n",
       "      <td>80</td>\n",
       "      <td>100</td>\n",
       "      <td>90</td>\n",
       "    </tr>\n",
       "    <tr>\n",
       "      <th>8</th>\n",
       "      <td>reporter</td>\n",
       "      <td>wc</td>\n",
       "      <td>67</td>\n",
       "      <td>87</td>\n",
       "      <td>52</td>\n",
       "    </tr>\n",
       "    <tr>\n",
       "      <th>9</th>\n",
       "      <td>engineer</td>\n",
       "      <td>prof</td>\n",
       "      <td>72</td>\n",
       "      <td>86</td>\n",
       "      <td>88</td>\n",
       "    </tr>\n",
       "    <tr>\n",
       "      <th>10</th>\n",
       "      <td>undertaker</td>\n",
       "      <td>prof</td>\n",
       "      <td>42</td>\n",
       "      <td>74</td>\n",
       "      <td>57</td>\n",
       "    </tr>\n",
       "    <tr>\n",
       "      <th>11</th>\n",
       "      <td>lawyer</td>\n",
       "      <td>prof</td>\n",
       "      <td>76</td>\n",
       "      <td>98</td>\n",
       "      <td>89</td>\n",
       "    </tr>\n",
       "    <tr>\n",
       "      <th>12</th>\n",
       "      <td>physician</td>\n",
       "      <td>prof</td>\n",
       "      <td>76</td>\n",
       "      <td>97</td>\n",
       "      <td>97</td>\n",
       "    </tr>\n",
       "    <tr>\n",
       "      <th>13</th>\n",
       "      <td>welfare.worker</td>\n",
       "      <td>prof</td>\n",
       "      <td>41</td>\n",
       "      <td>84</td>\n",
       "      <td>59</td>\n",
       "    </tr>\n",
       "    <tr>\n",
       "      <th>14</th>\n",
       "      <td>teacher</td>\n",
       "      <td>prof</td>\n",
       "      <td>48</td>\n",
       "      <td>91</td>\n",
       "      <td>73</td>\n",
       "    </tr>\n",
       "    <tr>\n",
       "      <th>15</th>\n",
       "      <td>conductor</td>\n",
       "      <td>wc</td>\n",
       "      <td>76</td>\n",
       "      <td>34</td>\n",
       "      <td>38</td>\n",
       "    </tr>\n",
       "    <tr>\n",
       "      <th>16</th>\n",
       "      <td>contractor</td>\n",
       "      <td>prof</td>\n",
       "      <td>53</td>\n",
       "      <td>45</td>\n",
       "      <td>76</td>\n",
       "    </tr>\n",
       "    <tr>\n",
       "      <th>17</th>\n",
       "      <td>factory.owner</td>\n",
       "      <td>prof</td>\n",
       "      <td>60</td>\n",
       "      <td>56</td>\n",
       "      <td>81</td>\n",
       "    </tr>\n",
       "    <tr>\n",
       "      <th>18</th>\n",
       "      <td>store.manager</td>\n",
       "      <td>prof</td>\n",
       "      <td>42</td>\n",
       "      <td>44</td>\n",
       "      <td>45</td>\n",
       "    </tr>\n",
       "    <tr>\n",
       "      <th>19</th>\n",
       "      <td>banker</td>\n",
       "      <td>prof</td>\n",
       "      <td>78</td>\n",
       "      <td>82</td>\n",
       "      <td>92</td>\n",
       "    </tr>\n",
       "    <tr>\n",
       "      <th>20</th>\n",
       "      <td>bookkeeper</td>\n",
       "      <td>wc</td>\n",
       "      <td>29</td>\n",
       "      <td>72</td>\n",
       "      <td>39</td>\n",
       "    </tr>\n",
       "    <tr>\n",
       "      <th>21</th>\n",
       "      <td>mail.carrier</td>\n",
       "      <td>wc</td>\n",
       "      <td>48</td>\n",
       "      <td>55</td>\n",
       "      <td>34</td>\n",
       "    </tr>\n",
       "    <tr>\n",
       "      <th>22</th>\n",
       "      <td>insurance.agent</td>\n",
       "      <td>wc</td>\n",
       "      <td>55</td>\n",
       "      <td>71</td>\n",
       "      <td>41</td>\n",
       "    </tr>\n",
       "    <tr>\n",
       "      <th>23</th>\n",
       "      <td>store.clerk</td>\n",
       "      <td>wc</td>\n",
       "      <td>29</td>\n",
       "      <td>50</td>\n",
       "      <td>16</td>\n",
       "    </tr>\n",
       "    <tr>\n",
       "      <th>24</th>\n",
       "      <td>carpenter</td>\n",
       "      <td>bc</td>\n",
       "      <td>21</td>\n",
       "      <td>23</td>\n",
       "      <td>33</td>\n",
       "    </tr>\n",
       "    <tr>\n",
       "      <th>25</th>\n",
       "      <td>electrician</td>\n",
       "      <td>bc</td>\n",
       "      <td>47</td>\n",
       "      <td>39</td>\n",
       "      <td>53</td>\n",
       "    </tr>\n",
       "    <tr>\n",
       "      <th>26</th>\n",
       "      <td>RR.engineer</td>\n",
       "      <td>bc</td>\n",
       "      <td>81</td>\n",
       "      <td>28</td>\n",
       "      <td>67</td>\n",
       "    </tr>\n",
       "    <tr>\n",
       "      <th>27</th>\n",
       "      <td>machinist</td>\n",
       "      <td>bc</td>\n",
       "      <td>36</td>\n",
       "      <td>32</td>\n",
       "      <td>57</td>\n",
       "    </tr>\n",
       "    <tr>\n",
       "      <th>28</th>\n",
       "      <td>auto.repairman</td>\n",
       "      <td>bc</td>\n",
       "      <td>22</td>\n",
       "      <td>22</td>\n",
       "      <td>26</td>\n",
       "    </tr>\n",
       "    <tr>\n",
       "      <th>29</th>\n",
       "      <td>plumber</td>\n",
       "      <td>bc</td>\n",
       "      <td>44</td>\n",
       "      <td>25</td>\n",
       "      <td>29</td>\n",
       "    </tr>\n",
       "    <tr>\n",
       "      <th>30</th>\n",
       "      <td>gas.stn.attendant</td>\n",
       "      <td>bc</td>\n",
       "      <td>15</td>\n",
       "      <td>29</td>\n",
       "      <td>10</td>\n",
       "    </tr>\n",
       "    <tr>\n",
       "      <th>31</th>\n",
       "      <td>coal.miner</td>\n",
       "      <td>bc</td>\n",
       "      <td>7</td>\n",
       "      <td>7</td>\n",
       "      <td>15</td>\n",
       "    </tr>\n",
       "    <tr>\n",
       "      <th>32</th>\n",
       "      <td>streetcar.motorman</td>\n",
       "      <td>bc</td>\n",
       "      <td>42</td>\n",
       "      <td>26</td>\n",
       "      <td>19</td>\n",
       "    </tr>\n",
       "    <tr>\n",
       "      <th>33</th>\n",
       "      <td>taxi.driver</td>\n",
       "      <td>bc</td>\n",
       "      <td>9</td>\n",
       "      <td>19</td>\n",
       "      <td>10</td>\n",
       "    </tr>\n",
       "    <tr>\n",
       "      <th>34</th>\n",
       "      <td>truck.driver</td>\n",
       "      <td>bc</td>\n",
       "      <td>21</td>\n",
       "      <td>15</td>\n",
       "      <td>13</td>\n",
       "    </tr>\n",
       "    <tr>\n",
       "      <th>35</th>\n",
       "      <td>machine.operator</td>\n",
       "      <td>bc</td>\n",
       "      <td>21</td>\n",
       "      <td>20</td>\n",
       "      <td>24</td>\n",
       "    </tr>\n",
       "    <tr>\n",
       "      <th>36</th>\n",
       "      <td>barber</td>\n",
       "      <td>bc</td>\n",
       "      <td>16</td>\n",
       "      <td>26</td>\n",
       "      <td>20</td>\n",
       "    </tr>\n",
       "    <tr>\n",
       "      <th>37</th>\n",
       "      <td>bartender</td>\n",
       "      <td>bc</td>\n",
       "      <td>16</td>\n",
       "      <td>28</td>\n",
       "      <td>7</td>\n",
       "    </tr>\n",
       "    <tr>\n",
       "      <th>38</th>\n",
       "      <td>shoe.shiner</td>\n",
       "      <td>bc</td>\n",
       "      <td>9</td>\n",
       "      <td>17</td>\n",
       "      <td>3</td>\n",
       "    </tr>\n",
       "    <tr>\n",
       "      <th>39</th>\n",
       "      <td>cook</td>\n",
       "      <td>bc</td>\n",
       "      <td>14</td>\n",
       "      <td>22</td>\n",
       "      <td>16</td>\n",
       "    </tr>\n",
       "    <tr>\n",
       "      <th>40</th>\n",
       "      <td>soda.clerk</td>\n",
       "      <td>bc</td>\n",
       "      <td>12</td>\n",
       "      <td>30</td>\n",
       "      <td>6</td>\n",
       "    </tr>\n",
       "    <tr>\n",
       "      <th>41</th>\n",
       "      <td>watchman</td>\n",
       "      <td>bc</td>\n",
       "      <td>17</td>\n",
       "      <td>25</td>\n",
       "      <td>11</td>\n",
       "    </tr>\n",
       "    <tr>\n",
       "      <th>42</th>\n",
       "      <td>janitor</td>\n",
       "      <td>bc</td>\n",
       "      <td>7</td>\n",
       "      <td>20</td>\n",
       "      <td>8</td>\n",
       "    </tr>\n",
       "    <tr>\n",
       "      <th>43</th>\n",
       "      <td>policeman</td>\n",
       "      <td>bc</td>\n",
       "      <td>34</td>\n",
       "      <td>47</td>\n",
       "      <td>41</td>\n",
       "    </tr>\n",
       "    <tr>\n",
       "      <th>44</th>\n",
       "      <td>waiter</td>\n",
       "      <td>bc</td>\n",
       "      <td>8</td>\n",
       "      <td>32</td>\n",
       "      <td>10</td>\n",
       "    </tr>\n",
       "  </tbody>\n",
       "</table>\n",
       "</div>"
      ],
      "text/plain": [
       "                  name  type  income  education  prestige\n",
       "0           accountant  prof      62         86        82\n",
       "1                pilot  prof      72         76        83\n",
       "2            architect  prof      75         92        90\n",
       "3               author  prof      55         90        76\n",
       "4              chemist  prof      64         86        90\n",
       "5             minister  prof      21         84        87\n",
       "6            professor  prof      64         93        93\n",
       "7              dentist  prof      80        100        90\n",
       "8             reporter    wc      67         87        52\n",
       "9             engineer  prof      72         86        88\n",
       "10          undertaker  prof      42         74        57\n",
       "11              lawyer  prof      76         98        89\n",
       "12           physician  prof      76         97        97\n",
       "13      welfare.worker  prof      41         84        59\n",
       "14             teacher  prof      48         91        73\n",
       "15           conductor    wc      76         34        38\n",
       "16          contractor  prof      53         45        76\n",
       "17       factory.owner  prof      60         56        81\n",
       "18       store.manager  prof      42         44        45\n",
       "19              banker  prof      78         82        92\n",
       "20          bookkeeper    wc      29         72        39\n",
       "21        mail.carrier    wc      48         55        34\n",
       "22     insurance.agent    wc      55         71        41\n",
       "23         store.clerk    wc      29         50        16\n",
       "24           carpenter    bc      21         23        33\n",
       "25         electrician    bc      47         39        53\n",
       "26         RR.engineer    bc      81         28        67\n",
       "27           machinist    bc      36         32        57\n",
       "28      auto.repairman    bc      22         22        26\n",
       "29             plumber    bc      44         25        29\n",
       "30   gas.stn.attendant    bc      15         29        10\n",
       "31          coal.miner    bc       7          7        15\n",
       "32  streetcar.motorman    bc      42         26        19\n",
       "33         taxi.driver    bc       9         19        10\n",
       "34        truck.driver    bc      21         15        13\n",
       "35    machine.operator    bc      21         20        24\n",
       "36              barber    bc      16         26        20\n",
       "37           bartender    bc      16         28         7\n",
       "38         shoe.shiner    bc       9         17         3\n",
       "39                cook    bc      14         22        16\n",
       "40          soda.clerk    bc      12         30         6\n",
       "41            watchman    bc      17         25        11\n",
       "42             janitor    bc       7         20         8\n",
       "43           policeman    bc      34         47        41\n",
       "44              waiter    bc       8         32        10"
      ]
     },
     "execution_count": 2,
     "metadata": {},
     "output_type": "execute_result"
    }
   ],
   "source": [
    "df = pd.pandas.read_csv(\"data/Duncan.csv\", sep=',')\n",
    "df"
   ]
  },
  {
   "cell_type": "code",
   "execution_count": 3,
   "id": "75b1e8fa-baae-4de7-95d9-1fa34ea51762",
   "metadata": {
    "execution": {
     "iopub.execute_input": "2024-09-22T20:21:50.383970Z",
     "iopub.status.busy": "2024-09-22T20:21:50.383086Z",
     "iopub.status.idle": "2024-09-22T20:21:50.392640Z",
     "shell.execute_reply": "2024-09-22T20:21:50.391874Z",
     "shell.execute_reply.started": "2024-09-22T20:21:50.383920Z"
    }
   },
   "outputs": [],
   "source": [
    "X_income = df['income'].values\n",
    "X_education = df['education'].values\n",
    "Y = df['prestige'].values"
   ]
  },
  {
   "cell_type": "code",
   "execution_count": 4,
   "id": "8b707b6e-9ad4-46cc-b65f-40b837ec7098",
   "metadata": {
    "execution": {
     "iopub.execute_input": "2024-09-22T20:21:50.394023Z",
     "iopub.status.busy": "2024-09-22T20:21:50.393678Z",
     "iopub.status.idle": "2024-09-22T20:21:50.614731Z",
     "shell.execute_reply": "2024-09-22T20:21:50.614016Z",
     "shell.execute_reply.started": "2024-09-22T20:21:50.393991Z"
    }
   },
   "outputs": [
    {
     "data": {
      "image/png": "[encoded data removed]",
      "text/plain": [
       "<Figure size 1000x400 with 2 Axes>"
      ]
     },
     "metadata": {},
     "output_type": "display_data"
    }
   ],
   "source": [
    "plt.figure(figsize=(10,4))\n",
    "plt.subplot(1,2,1)\n",
    "plt.scatter(X_income, Y, s=16, c='w', edgecolors='k')\n",
    "plt.subplot(1,2,2)\n",
    "plt.scatter(X_education, Y, s=16, c='w', edgecolors='k')\n",
    "plt.show()"
   ]
  },
  {
   "cell_type": "code",
   "execution_count": 5,
   "id": "37911f9a-99c4-4b39-9b48-8ac7c1c70aa1",
   "metadata": {
    "execution": {
     "iopub.execute_input": "2024-09-22T20:21:50.616277Z",
     "iopub.status.busy": "2024-09-22T20:21:50.615849Z",
     "iopub.status.idle": "2024-09-22T20:21:50.631036Z",
     "shell.execute_reply": "2024-09-22T20:21:50.630333Z",
     "shell.execute_reply.started": "2024-09-22T20:21:50.616255Z"
    }
   },
   "outputs": [],
   "source": [
    "from mltools.estimators import LinearLS\n",
    "from mltools.scores import modified_zscore"
   ]
  },
  {
   "cell_type": "code",
   "execution_count": 6,
   "id": "cf25a53e-b282-4123-a8f6-8cda3d03e137",
   "metadata": {
    "execution": {
     "iopub.execute_input": "2024-09-22T20:21:50.634136Z",
     "iopub.status.busy": "2024-09-22T20:21:50.633687Z",
     "iopub.status.idle": "2024-09-22T20:21:50.637527Z",
     "shell.execute_reply": "2024-09-22T20:21:50.636790Z",
     "shell.execute_reply.started": "2024-09-22T20:21:50.634110Z"
    }
   },
   "outputs": [],
   "source": [
    "X = X_income"
   ]
  },
  {
   "cell_type": "code",
   "execution_count": 7,
   "id": "ad5948ba-8997-4ad1-a3c4-7c20c4928b75",
   "metadata": {
    "execution": {
     "iopub.execute_input": "2024-09-22T20:21:50.638769Z",
     "iopub.status.busy": "2024-09-22T20:21:50.638499Z",
     "iopub.status.idle": "2024-09-22T20:21:50.649639Z",
     "shell.execute_reply": "2024-09-22T20:21:50.647861Z",
     "shell.execute_reply.started": "2024-09-22T20:21:50.638748Z"
    }
   },
   "outputs": [
    {
     "name": "stdout",
     "output_type": "stream",
     "text": [
      "[2.45657433 1.08038968]\n"
     ]
    }
   ],
   "source": [
    "regr_ls = LinearLS()\n",
    "regr_ls.fit(X[:,None], Y)\n",
    "mod_ls = regr_ls.model\n",
    "print(np.asarray(mod_ls.param))"
   ]
  },
  {
   "cell_type": "code",
   "execution_count": 21,
   "id": "96b4ea30-1181-4f7a-a329-c5dfa5685770",
   "metadata": {
    "execution": {
     "iopub.execute_input": "2024-09-22T20:22:40.324134Z",
     "iopub.status.busy": "2024-09-22T20:22:40.323350Z",
     "iopub.status.idle": "2024-09-22T20:22:40.532737Z",
     "shell.execute_reply": "2024-09-22T20:22:40.531600Z",
     "shell.execute_reply.started": "2024-09-22T20:22:40.324096Z"
    }
   },
   "outputs": [
    {
     "data": {
      "image/png": "[encoded data removed]",
      "text/plain": [
       "<Figure size 500x400 with 1 Axes>"
      ]
     },
     "metadata": {},
     "output_type": "display_data"
    }
   ],
   "source": [
    "plt.figure(figsize=(5,4))\n",
    "plt.scatter(X, Y, s=16, c='w', edgecolors='k')\n",
    "plt.plot(X, mod_ls.evaluate(X_income[:,None]))\n",
    "plt.show()"
   ]
  },
  {
   "cell_type": "code",
   "execution_count": 22,
   "id": "5f0f9dbf-8e17-4bce-81d8-017d5bb56784",
   "metadata": {
    "execution": {
     "iopub.execute_input": "2024-09-22T20:22:49.503026Z",
     "iopub.status.busy": "2024-09-22T20:22:49.502504Z",
     "iopub.status.idle": "2024-09-22T20:22:49.675952Z",
     "shell.execute_reply": "2024-09-22T20:22:49.674555Z",
     "shell.execute_reply.started": "2024-09-22T20:22:49.502987Z"
    }
   },
   "outputs": [
    {
     "data": {
      "image/png": "[encoded data removed]",
      "text/plain": [
       "<Figure size 640x480 with 1 Axes>"
      ]
     },
     "metadata": {},
     "output_type": "display_data"
    }
   ],
   "source": [
    "E = abs(Y - mod_ls.evaluate(X[:,None]))\n",
    "Z = modified_zscore(E)\n",
    "plt.plot(sorted(abs(Z)), marker='o')\n",
    "plt.grid(1)\n",
    "plt.show()"
   ]
  },
  {
   "cell_type": "code",
   "execution_count": 23,
   "id": "8b575c1c-2e2f-4c59-ae2d-67685742793b",
   "metadata": {
    "execution": {
     "iopub.execute_input": "2024-09-22T20:22:59.564575Z",
     "iopub.status.busy": "2024-09-22T20:22:59.564085Z",
     "iopub.status.idle": "2024-09-22T20:22:59.573178Z",
     "shell.execute_reply": "2024-09-22T20:22:59.571715Z",
     "shell.execute_reply.started": "2024-09-22T20:22:59.564539Z"
    }
   },
   "outputs": [],
   "source": [
    "X1 = X[abs(Z) < 1.5]\n",
    "Y1 = Y[abs(Z) < 1.5]"
   ]
  },
  {
   "cell_type": "code",
   "execution_count": 24,
   "id": "5d94ff7d-b13a-4378-9398-5cc53a6b1be0",
   "metadata": {
    "execution": {
     "iopub.execute_input": "2024-09-22T20:23:01.445220Z",
     "iopub.status.busy": "2024-09-22T20:23:01.444891Z",
     "iopub.status.idle": "2024-09-22T20:23:01.450733Z",
     "shell.execute_reply": "2024-09-22T20:23:01.449946Z",
     "shell.execute_reply.started": "2024-09-22T20:23:01.445194Z"
    }
   },
   "outputs": [
    {
     "name": "stdout",
     "output_type": "stream",
     "text": [
      "[-2.0860125   1.19748569]\n"
     ]
    }
   ],
   "source": [
    "regr_ls1 = LinearLS()\n",
    "regr_ls1.fit(X1[:,None], Y1)\n",
    "mod_ls1 = regr_ls1.model\n",
    "print(np.asarray(mod_ls1.param))"
   ]
  },
  {
   "cell_type": "code",
   "execution_count": 25,
   "id": "f22b976d-38f5-4916-b062-ca9023e56e01",
   "metadata": {
    "execution": {
     "iopub.execute_input": "2024-09-22T20:24:02.297382Z",
     "iopub.status.busy": "2024-09-22T20:24:02.296860Z",
     "iopub.status.idle": "2024-09-22T20:24:02.496618Z",
     "shell.execute_reply": "2024-09-22T20:24:02.495946Z",
     "shell.execute_reply.started": "2024-09-22T20:24:02.297337Z"
    }
   },
   "outputs": [
    {
     "data": {
      "image/png": "[encoded data removed]",
      "text/plain": [
       "<Figure size 500x400 with 1 Axes>"
      ]
     },
     "metadata": {},
     "output_type": "display_data"
    }
   ],
   "source": [
    "plt.figure(figsize=(5,4))\n",
    "plt.scatter(X, Y, s=16, c='w', edgecolors='k')\n",
    "plt.plot(X, mod_ls1.evaluate(X[:,None]))\n",
    "plt.show()"
   ]
  },
  {
   "cell_type": "code",
   "execution_count": 26,
   "id": "8f0446ff-5736-44ca-9e2e-d1b9e37e065a",
   "metadata": {
    "execution": {
     "iopub.execute_input": "2024-09-22T20:24:15.268411Z",
     "iopub.status.busy": "2024-09-22T20:24:15.267915Z",
     "iopub.status.idle": "2024-09-22T20:24:15.475743Z",
     "shell.execute_reply": "2024-09-22T20:24:15.474962Z",
     "shell.execute_reply.started": "2024-09-22T20:24:15.268372Z"
    }
   },
   "outputs": [
    {
     "data": {
      "image/png": "[encoded data removed]",
      "text/plain": [
       "<Figure size 640x480 with 1 Axes>"
      ]
     },
     "metadata": {},
     "output_type": "display_data"
    }
   ],
   "source": [
    "E1 = abs(Y - mod_ls1.evaluate(X[:,None]))\n",
    "Z1 = modified_zscore(E1)\n",
    "plt.plot(sorted(abs(Z1)), marker='o')\n",
    "plt.grid(1)\n",
    "plt.show()"
   ]
  },
  {
   "cell_type": "code",
   "execution_count": 28,
   "id": "9e953485-b6dd-4660-94f9-b081c0d0c216",
   "metadata": {
    "execution": {
     "iopub.execute_input": "2024-09-22T20:24:41.679330Z",
     "iopub.status.busy": "2024-09-22T20:24:41.676414Z",
     "iopub.status.idle": "2024-09-22T20:24:41.983375Z",
     "shell.execute_reply": "2024-09-22T20:24:41.982176Z",
     "shell.execute_reply.started": "2024-09-22T20:24:41.679197Z"
    }
   },
   "outputs": [
    {
     "data": {
      "image/png": "[encoded data removed]",
      "text/plain": [
       "<Figure size 640x480 with 1 Axes>"
      ]
     },
     "metadata": {},
     "output_type": "display_data"
    }
   ],
   "source": [
    "plt.hist(abs(Z1), bins=40, rwidth=0.9) #, density=True)\n",
    "plt.minorticks_on()\n",
    "plt.show()"
   ]
  },
  {
   "cell_type": "code",
   "execution_count": 29,
   "id": "00323aaa-1272-4aef-8288-25ceedd1ddd3",
   "metadata": {
    "execution": {
     "iopub.execute_input": "2024-09-22T20:25:00.086429Z",
     "iopub.status.busy": "2024-09-22T20:25:00.085577Z",
     "iopub.status.idle": "2024-09-22T20:25:00.091374Z",
     "shell.execute_reply": "2024-09-22T20:25:00.090412Z",
     "shell.execute_reply.started": "2024-09-22T20:25:00.086390Z"
    }
   },
   "outputs": [],
   "source": [
    "X2 = X[abs(Z) < 1.2]\n",
    "Y2 = Y[abs(Z) < 1.2]"
   ]
  },
  {
   "cell_type": "code",
   "execution_count": 30,
   "id": "99f73ab5-c87d-408b-a90d-115cfb3279c5",
   "metadata": {
    "execution": {
     "iopub.execute_input": "2024-09-22T20:25:01.577907Z",
     "iopub.status.busy": "2024-09-22T20:25:01.577226Z",
     "iopub.status.idle": "2024-09-22T20:25:01.582435Z",
     "shell.execute_reply": "2024-09-22T20:25:01.581569Z",
     "shell.execute_reply.started": "2024-09-22T20:25:01.577881Z"
    }
   },
   "outputs": [
    {
     "name": "stdout",
     "output_type": "stream",
     "text": [
      "[-4.04605986  1.2804273 ]\n"
     ]
    }
   ],
   "source": [
    "regr_ls2 = LinearLS()\n",
    "regr_ls2.fit(X2[:,None], Y2)\n",
    "mod_ls2 = regr_ls2.model\n",
    "print(np.asarray(mod_ls2.param))"
   ]
  },
  {
   "cell_type": "code",
   "execution_count": 31,
   "id": "71d34a13-c049-415b-a7bb-b376f12455b5",
   "metadata": {
    "execution": {
     "iopub.execute_input": "2024-09-22T20:25:02.395908Z",
     "iopub.status.busy": "2024-09-22T20:25:02.394420Z",
     "iopub.status.idle": "2024-09-22T20:25:02.639619Z",
     "shell.execute_reply": "2024-09-22T20:25:02.638117Z",
     "shell.execute_reply.started": "2024-09-22T20:25:02.395775Z"
    }
   },
   "outputs": [
    {
     "data": {
      "image/png": "[encoded data removed]",
      "text/plain": [
       "<Figure size 500x400 with 1 Axes>"
      ]
     },
     "metadata": {},
     "output_type": "display_data"
    }
   ],
   "source": [
    "plt.figure(figsize=(5,4))\n",
    "plt.scatter(X, Y, s=16, c='w', edgecolors='k')\n",
    "plt.plot(X, mod_ls2.evaluate(X[:,None]))\n",
    "plt.show()"
   ]
  },
  {
   "cell_type": "code",
   "execution_count": 32,
   "id": "ca4f5dc4-ba64-4994-b553-b42bb9e6bae6",
   "metadata": {
    "execution": {
     "iopub.execute_input": "2024-09-22T20:25:07.493321Z",
     "iopub.status.busy": "2024-09-22T20:25:07.492900Z",
     "iopub.status.idle": "2024-09-22T20:25:07.749830Z",
     "shell.execute_reply": "2024-09-22T20:25:07.749233Z",
     "shell.execute_reply.started": "2024-09-22T20:25:07.493298Z"
    }
   },
   "outputs": [
    {
     "data": {
      "image/png": "[encoded data removed]",
      "text/plain": [
       "<Figure size 640x480 with 1 Axes>"
      ]
     },
     "metadata": {},
     "output_type": "display_data"
    }
   ],
   "source": [
    "E2 = abs(Y - mod_ls2.evaluate(X[:,None]))\n",
    "Z2 = modified_zscore(E2)\n",
    "plt.plot(sorted(abs(Z2)), marker='o')\n",
    "plt.grid(1)\n",
    "plt.minorticks_on()\n",
    "plt.show()"
   ]
  },
  {
   "cell_type": "code",
   "execution_count": 33,
   "id": "4883cd81-b195-42b9-9363-b2a81e11a2a4",
   "metadata": {
    "execution": {
     "iopub.execute_input": "2024-09-22T20:25:16.138075Z",
     "iopub.status.busy": "2024-09-22T20:25:16.137572Z",
     "iopub.status.idle": "2024-09-22T20:25:16.379633Z",
     "shell.execute_reply": "2024-09-22T20:25:16.378973Z",
     "shell.execute_reply.started": "2024-09-22T20:25:16.138036Z"
    }
   },
   "outputs": [
    {
     "data": {
      "image/png": "[encoded data removed]",
      "text/plain": [
       "<Figure size 640x480 with 1 Axes>"
      ]
     },
     "metadata": {},
     "output_type": "display_data"
    }
   ],
   "source": [
    "plt.hist(abs(Z2), bins=40, rwidth=0.9) #, density=True)\n",
    "plt.show()"
   ]
  },
  {
   "cell_type": "code",
   "execution_count": 20,
   "id": "3e6203a4-03b6-4cc5-80b5-5624edd810fc",
   "metadata": {
    "execution": {
     "iopub.execute_input": "2024-09-22T20:21:52.447019Z",
     "iopub.status.busy": "2024-09-22T20:21:52.445591Z",
     "iopub.status.idle": "2024-09-22T20:21:52.705396Z",
     "shell.execute_reply": "2024-09-22T20:21:52.704624Z",
     "shell.execute_reply.started": "2024-09-22T20:21:52.446887Z"
    }
   },
   "outputs": [
    {
     "data": {
      "image/png": "[encoded data removed]",
      "text/plain": [
       "<Figure size 500x400 with 1 Axes>"
      ]
     },
     "metadata": {},
     "output_type": "display_data"
    }
   ],
   "source": [
    "plt.figure(figsize=(5,4))\n",
    "plt.scatter(X, Y, s=16, c='w', edgecolors='k')\n",
    "plt.scatter(X[abs(Z2) > 1.1], Y[abs(Z2) > 1.1], s=16, c='w', edgecolors='r')\n",
    "plt.plot(X, mod_ls2.evaluate(X[:,None]))\n",
    "plt.show()"
   ]
  },
  {
   "cell_type": "code",
   "execution_count": null,
   "id": "04687e86-6bc9-4e17-93b0-a94446ed7e06",
   "metadata": {},
   "outputs": [],
   "source": []
  }
 ],
 "metadata": {
  "kernelspec": {
   "display_name": "Python 3 (ipykernel)",
   "language": "python",
   "name": "python3"
  },
  "language_info": {
   "codemirror_mode": {
    "name": "ipython",
    "version": 3
   },
   "file_extension": ".py",
   "mimetype": "text/x-python",
   "name": "python",
   "nbconvert_exporter": "python",
   "pygments_lexer": "ipython3",
   "version": "3.12.6"
  }
 },
 "nbformat": 4,
 "nbformat_minor": 5
}
