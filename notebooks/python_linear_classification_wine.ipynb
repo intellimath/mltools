{
 "cells": [
  {
   "cell_type": "code",
   "execution_count": 2,
   "id": "d994181f-b957-4c4f-8d68-9d9a24e5503b",
   "metadata": {
    "execution": {
     "iopub.execute_input": "2024-10-14T13:40:05.927139Z",
     "iopub.status.busy": "2024-10-14T13:40:05.926531Z",
     "iopub.status.idle": "2024-10-14T13:40:07.288867Z",
     "shell.execute_reply": "2024-10-14T13:40:07.287800Z",
     "shell.execute_reply.started": "2024-10-14T13:40:05.927103Z"
    }
   },
   "outputs": [],
   "source": [
    "# import pandas as pd\n",
    "import sklearn.datasets as datasets\n",
    "import matplotlib.pyplot as plt"
   ]
  },
  {
   "cell_type": "code",
   "execution_count": 3,
   "id": "db9245ad-e95c-4d5a-8157-62d9da100ecf",
   "metadata": {
    "execution": {
     "iopub.execute_input": "2024-10-14T13:40:07.298078Z",
     "iopub.status.busy": "2024-10-14T13:40:07.291080Z",
     "iopub.status.idle": "2024-10-14T13:40:07.360466Z",
     "shell.execute_reply": "2024-10-14T13:40:07.359559Z",
     "shell.execute_reply.started": "2024-10-14T13:40:07.297959Z"
    }
   },
   "outputs": [],
   "source": [
    "X, Y = datasets.load_wine(return_X_y=True) "
   ]
  },
  {
   "cell_type": "code",
   "execution_count": 4,
   "id": "d040505d-75ed-4b66-aa6b-e9576aa509aa",
   "metadata": {
    "execution": {
     "iopub.execute_input": "2024-10-14T13:40:07.361957Z",
     "iopub.status.busy": "2024-10-14T13:40:07.361602Z",
     "iopub.status.idle": "2024-10-14T13:40:07.382277Z",
     "shell.execute_reply": "2024-10-14T13:40:07.379278Z",
     "shell.execute_reply.started": "2024-10-14T13:40:07.361928Z"
    }
   },
   "outputs": [
    {
     "name": "stdout",
     "output_type": "stream",
     "text": [
      "[0 0 0 0 0 0 0 0 0 0 0 0 0 0 0 0 0 0 0 0 0 0 0 0 0 0 0 0 0 0 0 0 0 0 0 0 0\n",
      " 0 0 0 0 0 0 0 0 0 0 0 0 0 0 0 0 0 0 0 0 0 0 1 1 1 1 1 1 1 1 1 1 1 1 1 1 1\n",
      " 1 1 1 1 1 1 1 1 1 1 1 1 1 1 1 1 1 1 1 1 1 1 1 1 1 1 1 1 1 1 1 1 1 1 1 1 1\n",
      " 1 1 1 1 1 1 1 1 1 1 1 1 1 1 1 1 1 1 1 2 2 2 2 2 2 2 2 2 2 2 2 2 2 2 2 2 2\n",
      " 2 2 2 2 2 2 2 2 2 2 2 2 2 2 2 2 2 2 2 2 2 2 2 2 2 2 2 2 2 2]\n"
     ]
    }
   ],
   "source": [
    "print(Y)"
   ]
  },
  {
   "cell_type": "code",
   "execution_count": 5,
   "id": "3be10b8b-6996-4d64-961b-9d8c6673dc77",
   "metadata": {
    "execution": {
     "iopub.execute_input": "2024-10-14T13:40:07.515492Z",
     "iopub.status.busy": "2024-10-14T13:40:07.515068Z",
     "iopub.status.idle": "2024-10-14T13:40:07.525041Z",
     "shell.execute_reply": "2024-10-14T13:40:07.524309Z",
     "shell.execute_reply.started": "2024-10-14T13:40:07.515465Z"
    }
   },
   "outputs": [
    {
     "name": "stdout",
     "output_type": "stream",
     "text": [
      "(130, 13) [-1. -1. -1. -1. -1. -1. -1. -1. -1. -1. -1. -1. -1. -1. -1. -1. -1. -1.\n",
      " -1. -1. -1. -1. -1. -1. -1. -1. -1. -1. -1. -1. -1. -1. -1. -1. -1. -1.\n",
      " -1. -1. -1. -1. -1. -1. -1. -1. -1. -1. -1. -1. -1. -1. -1. -1. -1. -1.\n",
      " -1. -1. -1. -1. -1.  1.  1.  1.  1.  1.  1.  1.  1.  1.  1.  1.  1.  1.\n",
      "  1.  1.  1.  1.  1.  1.  1.  1.  1.  1.  1.  1.  1.  1.  1.  1.  1.  1.\n",
      "  1.  1.  1.  1.  1.  1.  1.  1.  1.  1.  1.  1.  1.  1.  1.  1.  1.  1.\n",
      "  1.  1.  1.  1.  1.  1.  1.  1.  1.  1.  1.  1.  1.  1.  1.  1.  1.  1.\n",
      "  1.  1.  1.  1.]\n"
     ]
    }
   ],
   "source": [
    "X2 = X[Y != 2]\n",
    "Y2 = Y[Y != 2]\n",
    "Y2 = 2.*Y2-1.\n",
    "print(X2.shape, Y2)"
   ]
  },
  {
   "cell_type": "code",
   "execution_count": 6,
   "id": "5b346d14-5946-4d0a-a861-5edf4ef47c05",
   "metadata": {
    "execution": {
     "iopub.execute_input": "2024-10-14T13:40:54.986787Z",
     "iopub.status.busy": "2024-10-14T13:40:54.986183Z",
     "iopub.status.idle": "2024-10-14T13:40:54.992905Z",
     "shell.execute_reply": "2024-10-14T13:40:54.992044Z",
     "shell.execute_reply.started": "2024-10-14T13:40:54.986732Z"
    }
   },
   "outputs": [
    {
     "name": "stdout",
     "output_type": "stream",
     "text": [
      "[[1.423e+01 1.710e+00 2.430e+00 ... 1.040e+00 3.920e+00 1.065e+03]\n",
      " [1.320e+01 1.780e+00 2.140e+00 ... 1.050e+00 3.400e+00 1.050e+03]\n",
      " [1.316e+01 2.360e+00 2.670e+00 ... 1.030e+00 3.170e+00 1.185e+03]\n",
      " ...\n",
      " [1.179e+01 2.130e+00 2.780e+00 ... 9.700e-01 2.440e+00 4.660e+02]\n",
      " [1.237e+01 1.630e+00 2.300e+00 ... 8.900e-01 2.780e+00 3.420e+02]\n",
      " [1.204e+01 4.300e+00 2.380e+00 ... 7.900e-01 2.570e+00 5.800e+02]]\n"
     ]
    }
   ],
   "source": [
    "print(X2)"
   ]
  },
  {
   "cell_type": "code",
   "execution_count": 7,
   "id": "2fb3a5b0-ebb6-4481-9d59-56093fd21117",
   "metadata": {
    "execution": {
     "iopub.execute_input": "2024-10-14T13:42:32.175767Z",
     "iopub.status.busy": "2024-10-14T13:42:32.175257Z",
     "iopub.status.idle": "2024-10-14T13:42:32.179747Z",
     "shell.execute_reply": "2024-10-14T13:42:32.178971Z",
     "shell.execute_reply.started": "2024-10-14T13:42:32.175729Z"
    }
   },
   "outputs": [],
   "source": [
    "from sklearn.preprocessing import scale"
   ]
  },
  {
   "cell_type": "code",
   "execution_count": 8,
   "id": "86fd98a5-c8f5-4223-96f5-834c851cdd8a",
   "metadata": {
    "execution": {
     "iopub.execute_input": "2024-10-14T13:43:02.969010Z",
     "iopub.status.busy": "2024-10-14T13:43:02.968576Z",
     "iopub.status.idle": "2024-10-14T13:43:02.975107Z",
     "shell.execute_reply": "2024-10-14T13:43:02.974422Z",
     "shell.execute_reply.started": "2024-10-14T13:43:02.968980Z"
    }
   },
   "outputs": [],
   "source": [
    "X2 = scale(X2)"
   ]
  },
  {
   "cell_type": "code",
   "execution_count": 9,
   "id": "39d47b48-5517-4b3d-8058-f373cce87c28",
   "metadata": {
    "execution": {
     "iopub.execute_input": "2024-10-14T13:43:08.406550Z",
     "iopub.status.busy": "2024-10-14T13:43:08.406122Z",
     "iopub.status.idle": "2024-10-14T13:43:08.411723Z",
     "shell.execute_reply": "2024-10-14T13:43:08.410877Z",
     "shell.execute_reply.started": "2024-10-14T13:43:08.406507Z"
    }
   },
   "outputs": [
    {
     "name": "stdout",
     "output_type": "stream",
     "text": [
      "[[ 1.452455   -0.29441432  0.30247764 ... -0.11242761  2.04002469\n",
      "   0.782868  ]\n",
      " [ 0.28906609 -0.21455828 -0.67719651 ... -0.05291788  0.94143735\n",
      "   0.74015178]\n",
      " [ 0.24388594  0.4471061   1.11324246 ... -0.17193734  0.45552372\n",
      "   1.12459784]\n",
      " ...\n",
      " [-1.30353427  0.18472195  1.484843   ... -0.52899571 -1.0867239\n",
      "  -0.92293343]\n",
      " [-0.64842207 -0.38567837 -0.13668663 ... -1.00507355 -0.36841679\n",
      "  -1.27605426]\n",
      " [-1.02115832  2.66025935  0.13356831 ... -1.60017084 -0.81207706\n",
      "  -0.59829008]]\n"
     ]
    }
   ],
   "source": [
    "print(X2)"
   ]
  },
  {
   "cell_type": "code",
   "execution_count": null,
   "id": "13f6c6ab-f20b-4c55-8534-5f82f213573b",
   "metadata": {},
   "outputs": [],
   "source": []
  }
 ],
 "metadata": {
  "kernelspec": {
   "display_name": "Python 3 (ipykernel)",
   "language": "python",
   "name": "python3"
  },
  "language_info": {
   "codemirror_mode": {
    "name": "ipython",
    "version": 3
   },
   "file_extension": ".py",
   "mimetype": "text/x-python",
   "name": "python",
   "nbconvert_exporter": "python",
   "pygments_lexer": "ipython3",
   "version": "3.12.6"
  }
 },
 "nbformat": 4,
 "nbformat_minor": 5
}
