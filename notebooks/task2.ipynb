{
 "cells": [
  {
   "cell_type": "markdown",
   "id": "fbbd7102-2411-4cbc-acf6-5abd78937d7d",
   "metadata": {},
   "source": [
    "### Задача 1\n",
    "\n",
    "Методом наименьших квадратов для набора данных `animals` построить линейную регрессию для представления заивисимости массы мозга от массы тела животных. Исследовать на наличие выбросов. При наличии выбросов, исключить их и построить линейную регрессии по данным без выбросов. Сравнить распределения ошибок для построенных линейных регрессионных зависимостей. При необходимости провести идентификацию выбросов последовательно несколько раз подряд."
   ]
  },
  {
   "cell_type": "code",
   "execution_count": null,
   "id": "474c389a-76cc-40f0-b89f-f7ea273cb691",
   "metadata": {},
   "outputs": [],
   "source": []
  }
 ],
 "metadata": {
  "kernelspec": {
   "display_name": "Python 3 (ipykernel)",
   "language": "python",
   "name": "python3"
  },
  "language_info": {
   "codemirror_mode": {
    "name": "ipython",
    "version": 3
   },
   "file_extension": ".py",
   "mimetype": "text/x-python",
   "name": "python",
   "nbconvert_exporter": "python",
   "pygments_lexer": "ipython3",
   "version": "3.12.6"
  }
 },
 "nbformat": 4,
 "nbformat_minor": 5
}
